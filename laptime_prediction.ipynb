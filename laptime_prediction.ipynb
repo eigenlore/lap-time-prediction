{
 "cells": [
  {
   "cell_type": "code",
   "execution_count": 17,
   "metadata": {},
   "outputs": [],
   "source": [
    "import pandas as pd\n",
    "import numpy as np\n",
    "from sklearn.model_selection import train_test_split\n",
    "from sklearn.preprocessing import StandardScaler\n",
    "from sklearn.pipeline import Pipeline\n",
    "from sklearn.svm import SVR\n",
    "from sklearn.model_selection import train_test_split\n",
    "from sklearn.metrics import mean_squared_error, r2_score\n",
    "from sklearn.preprocessing import MinMaxScaler\n",
    "from sklearn.linear_model import Lasso\n",
    "from sklearn.linear_model import ElasticNet, LinearRegression"
   ]
  },
  {
   "cell_type": "code",
   "execution_count": 4,
   "metadata": {},
   "outputs": [],
   "source": [
    "df = pd.read_csv('cleaned_pole_times_dataset.csv')"
   ]
  },
  {
   "cell_type": "code",
   "execution_count": 5,
   "metadata": {},
   "outputs": [
    {
     "name": "stdout",
     "output_type": "stream",
     "text": [
      "(50, 15)\n",
      "(50,)\n"
     ]
    }
   ],
   "source": [
    "X = df.drop('Pole Time', axis=1)\n",
    "y = df['Pole Time']  \n",
    "print(X.shape)  \n",
    "print(y.shape)  \n",
    "X = X.values  \n",
    "y = y.values  "
   ]
  },
  {
   "cell_type": "code",
   "execution_count": 18,
   "metadata": {},
   "outputs": [
    {
     "name": "stdout",
     "output_type": "stream",
     "text": [
      "MSE: 7.15\n",
      "R^2: 0.94\n",
      "72.272 77.6417904571546\n",
      "85.892 85.1924214859399\n",
      "62.939 61.30193716748801\n",
      "76.609 77.01856647299925\n",
      "87.958 88.44990797406983\n",
      "74.572 75.70666667715595\n",
      "75.419 77.47441059224403\n",
      "87.264 86.52644927452033\n",
      "84.303 83.2764703288191\n",
      "101.501 107.62145291579398\n",
      "78.887 77.08339737999718\n",
      "84.303 83.2764703288191\n",
      "67.934 69.63737257371903\n",
      "67.503 67.84101883478104\n",
      "102.519 107.30365086669728\n"
     ]
    }
   ],
   "source": [
    "scaler = MinMaxScaler(feature_range=(0, 1))\n",
    "X = scaler.fit_transform(X)\n",
    "\n",
    "X_train, X_test, y_train, y_test = train_test_split(X, y, test_size=0.3, random_state=13)\n",
    "\n",
    "#svr=SVR(kernel='rbf')\n",
    "#svr=Lasso(alpha=0.1)\n",
    "#svr=ElasticNet(alpha=0.1, l1_ratio=0.5)\n",
    "svr=LinearRegression()\n",
    "svr.fit(X_train, y_train)\n",
    "\n",
    "y_pred = svr.predict(X_test)\n",
    "\n",
    "mse = mean_squared_error(y_test, y_pred)\n",
    "r2 = r2_score(y_test, y_pred)\n",
    "print(f\"MSE: {mse:.2f}\")\n",
    "print(f\"R^2: {r2:.2f}\")\n",
    "\n",
    "for i in range(len(y_test)):\n",
    "    print(y_test[i], y_pred[i])"
   ]
  }
 ],
 "metadata": {
  "kernelspec": {
   "display_name": "base",
   "language": "python",
   "name": "python3"
  },
  "language_info": {
   "codemirror_mode": {
    "name": "ipython",
    "version": 3
   },
   "file_extension": ".py",
   "mimetype": "text/x-python",
   "name": "python",
   "nbconvert_exporter": "python",
   "pygments_lexer": "ipython3",
   "version": "3.10.13"
  }
 },
 "nbformat": 4,
 "nbformat_minor": 2
}
