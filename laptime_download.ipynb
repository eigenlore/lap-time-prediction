{
 "cells": [
  {
   "cell_type": "code",
   "execution_count": 16,
   "metadata": {},
   "outputs": [],
   "source": [
    "import fastf1\n",
    "import pandas as pd\n",
    "import numpy as np"
   ]
  },
  {
   "cell_type": "code",
   "execution_count": 65,
   "metadata": {},
   "outputs": [
    {
     "name": "stderr",
     "output_type": "stream",
     "text": [
      "core           INFO \tLoading data for Australian Grand Prix - Qualifying [v3.1.2]\n",
      "req            INFO \tUsing cached data for session_info\n",
      "req            INFO \tUsing cached data for driver_info\n",
      "Request for URL https://ergast.com/api/f1/2018/1/qualifying.json failed; using cached response\n",
      "Traceback (most recent call last):\n",
      "  File \"/home/lore/anaconda3/lib/python3.10/site-packages/requests_cache/session.py\", line 255, in _resend\n",
      "    response = self._send_and_cache(request, actions, cached_response, **kwargs)\n",
      "  File \"/home/lore/anaconda3/lib/python3.10/site-packages/requests_cache/session.py\", line 229, in _send_and_cache\n",
      "    response = super().send(request, **kwargs)\n",
      "  File \"/home/lore/anaconda3/lib/python3.10/site-packages/fastf1/req.py\", line 122, in send\n",
      "    lim.limit()\n",
      "  File \"/home/lore/anaconda3/lib/python3.10/site-packages/fastf1/req.py\", line 99, in limit\n",
      "    raise RateLimitExceededError(self._info)\n",
      "fastf1.req.RateLimitExceededError: ergast.com: 200 calls/h\n",
      "req            INFO \tUsing cached data for session_status_data\n",
      "req            INFO \tUsing cached data for track_status_data\n",
      "req            INFO \tUsing cached data for _extended_timing_data\n",
      "req            INFO \tUsing cached data for timing_app_data\n",
      "core           INFO \tProcessing timing data...\n"
     ]
    },
    {
     "name": "stdout",
     "output_type": "stream",
     "text": [
      "2018\n"
     ]
    },
    {
     "name": "stderr",
     "output_type": "stream",
     "text": [
      "req            INFO \tUsing cached data for car_data\n",
      "req            INFO \tUsing cached data for position_data\n",
      "req            INFO \tUsing cached data for weather_data\n",
      "req            INFO \tUsing cached data for race_control_messages\n",
      "core           INFO \tFinished loading data for 20 drivers: ['44', '7', '5', '33', '3', '20', '8', '27', '55', '77', '14', '2', '11', '18', '31', '28', '9', '16', '35', '10']\n",
      "core           INFO \tLoading data for Bahrain Grand Prix - Qualifying [v3.1.2]\n",
      "req            INFO \tUsing cached data for session_info\n",
      "req            INFO \tUsing cached data for driver_info\n",
      "Request for URL https://ergast.com/api/f1/2018/2/qualifying.json failed; using cached response\n",
      "Traceback (most recent call last):\n",
      "  File \"/home/lore/anaconda3/lib/python3.10/site-packages/requests_cache/session.py\", line 255, in _resend\n",
      "    response = self._send_and_cache(request, actions, cached_response, **kwargs)\n",
      "  File \"/home/lore/anaconda3/lib/python3.10/site-packages/requests_cache/session.py\", line 229, in _send_and_cache\n",
      "    response = super().send(request, **kwargs)\n",
      "  File \"/home/lore/anaconda3/lib/python3.10/site-packages/fastf1/req.py\", line 122, in send\n",
      "    lim.limit()\n",
      "  File \"/home/lore/anaconda3/lib/python3.10/site-packages/fastf1/req.py\", line 99, in limit\n",
      "    raise RateLimitExceededError(self._info)\n",
      "fastf1.req.RateLimitExceededError: ergast.com: 200 calls/h\n",
      "req            INFO \tUsing cached data for session_status_data\n",
      "req            INFO \tUsing cached data for track_status_data\n",
      "req            INFO \tUsing cached data for _extended_timing_data\n",
      "req            INFO \tUsing cached data for timing_app_data\n",
      "core           INFO \tProcessing timing data...\n"
     ]
    },
    {
     "name": "stdout",
     "output_type": "stream",
     "text": [
      "2018\n"
     ]
    },
    {
     "name": "stderr",
     "output_type": "stream",
     "text": [
      "req            INFO \tUsing cached data for car_data\n",
      "req            INFO \tUsing cached data for position_data\n",
      "req            INFO \tUsing cached data for weather_data\n",
      "req            INFO \tUsing cached data for race_control_messages\n",
      "core           INFO \tFinished loading data for 20 drivers: ['5', '7', '77', '44', '3', '10', '20', '27', '31', '55', '28', '11', '14', '2', '33', '8', '9', '35', '16', '18']\n",
      "core           INFO \tLoading data for Chinese Grand Prix - Qualifying [v3.1.2]\n",
      "req            INFO \tUsing cached data for session_info\n",
      "req            INFO \tUsing cached data for driver_info\n",
      "Request for URL https://ergast.com/api/f1/2018/3/qualifying.json failed; using cached response\n",
      "Traceback (most recent call last):\n",
      "  File \"/home/lore/anaconda3/lib/python3.10/site-packages/requests_cache/session.py\", line 255, in _resend\n",
      "    response = self._send_and_cache(request, actions, cached_response, **kwargs)\n",
      "  File \"/home/lore/anaconda3/lib/python3.10/site-packages/requests_cache/session.py\", line 229, in _send_and_cache\n",
      "    response = super().send(request, **kwargs)\n",
      "  File \"/home/lore/anaconda3/lib/python3.10/site-packages/fastf1/req.py\", line 122, in send\n",
      "    lim.limit()\n",
      "  File \"/home/lore/anaconda3/lib/python3.10/site-packages/fastf1/req.py\", line 99, in limit\n",
      "    raise RateLimitExceededError(self._info)\n",
      "fastf1.req.RateLimitExceededError: ergast.com: 200 calls/h\n",
      "req            INFO \tUsing cached data for session_status_data\n",
      "req            INFO \tUsing cached data for track_status_data\n",
      "req            INFO \tUsing cached data for _extended_timing_data\n",
      "req            INFO \tUsing cached data for timing_app_data\n",
      "core           INFO \tProcessing timing data...\n"
     ]
    },
    {
     "name": "stdout",
     "output_type": "stream",
     "text": [
      "2018\n"
     ]
    },
    {
     "name": "stderr",
     "output_type": "stream",
     "text": [
      "req            INFO \tUsing cached data for car_data\n",
      "req            INFO \tUsing cached data for position_data\n",
      "req            INFO \tUsing cached data for weather_data\n",
      "req            INFO \tUsing cached data for race_control_messages\n",
      "core           INFO \tFinished loading data for 20 drivers: ['5', '7', '77', '44', '33', '3', '27', '11', '55', '8', '20', '31', '14', '2', '28', '35', '10', '18', '16', '9']\n",
      "core           INFO \tLoading data for Azerbaijan Grand Prix - Qualifying [v3.1.2]\n",
      "req            INFO \tUsing cached data for session_info\n",
      "req            INFO \tUsing cached data for driver_info\n",
      "Request for URL https://ergast.com/api/f1/2018/4/qualifying.json failed; using cached response\n",
      "Traceback (most recent call last):\n",
      "  File \"/home/lore/anaconda3/lib/python3.10/site-packages/requests_cache/session.py\", line 255, in _resend\n",
      "    response = self._send_and_cache(request, actions, cached_response, **kwargs)\n",
      "  File \"/home/lore/anaconda3/lib/python3.10/site-packages/requests_cache/session.py\", line 229, in _send_and_cache\n",
      "    response = super().send(request, **kwargs)\n",
      "  File \"/home/lore/anaconda3/lib/python3.10/site-packages/fastf1/req.py\", line 122, in send\n",
      "    lim.limit()\n",
      "  File \"/home/lore/anaconda3/lib/python3.10/site-packages/fastf1/req.py\", line 99, in limit\n",
      "    raise RateLimitExceededError(self._info)\n",
      "fastf1.req.RateLimitExceededError: ergast.com: 200 calls/h\n",
      "req            INFO \tUsing cached data for session_status_data\n",
      "req            INFO \tUsing cached data for track_status_data\n",
      "req            INFO \tUsing cached data for _extended_timing_data\n",
      "req            INFO \tUsing cached data for timing_app_data\n",
      "core           INFO \tProcessing timing data...\n"
     ]
    },
    {
     "name": "stdout",
     "output_type": "stream",
     "text": [
      "2018\n"
     ]
    },
    {
     "name": "stderr",
     "output_type": "stream",
     "text": [
      "req            INFO \tUsing cached data for car_data\n",
      "req            INFO \tUsing cached data for position_data\n",
      "req            INFO \tUsing cached data for weather_data\n",
      "req            INFO \tUsing cached data for race_control_messages\n",
      "core           INFO \tFinished loading data for 20 drivers: ['5', '44', '77', '3', '33', '7', '31', '11', '27', '55', '18', '35', '14', '16', '20', '2', '10', '9', '28', '8']\n",
      "core           INFO \tLoading data for Spanish Grand Prix - Qualifying [v3.1.2]\n",
      "req            INFO \tUsing cached data for session_info\n",
      "req            INFO \tUsing cached data for driver_info\n",
      "Request for URL https://ergast.com/api/f1/2018/5/qualifying.json failed; using cached response\n",
      "Traceback (most recent call last):\n",
      "  File \"/home/lore/anaconda3/lib/python3.10/site-packages/requests_cache/session.py\", line 255, in _resend\n",
      "    response = self._send_and_cache(request, actions, cached_response, **kwargs)\n",
      "  File \"/home/lore/anaconda3/lib/python3.10/site-packages/requests_cache/session.py\", line 229, in _send_and_cache\n",
      "    response = super().send(request, **kwargs)\n",
      "  File \"/home/lore/anaconda3/lib/python3.10/site-packages/fastf1/req.py\", line 122, in send\n",
      "    lim.limit()\n",
      "  File \"/home/lore/anaconda3/lib/python3.10/site-packages/fastf1/req.py\", line 99, in limit\n",
      "    raise RateLimitExceededError(self._info)\n",
      "fastf1.req.RateLimitExceededError: ergast.com: 200 calls/h\n"
     ]
    },
    {
     "name": "stdout",
     "output_type": "stream",
     "text": [
      "2018\n"
     ]
    },
    {
     "name": "stderr",
     "output_type": "stream",
     "text": [
      "req            INFO \tUsing cached data for session_status_data\n",
      "req            INFO \tUsing cached data for track_status_data\n",
      "req            INFO \tUsing cached data for _extended_timing_data\n",
      "req            INFO \tUsing cached data for timing_app_data\n",
      "core           INFO \tProcessing timing data...\n",
      "core        WARNING \tNo lap data for driver 28\n",
      "core        WARNING \tFailed to perform lap accuracy check - all laps marked as inaccurate.\n",
      "req            INFO \tUsing cached data for car_data\n",
      "req            INFO \tUsing cached data for position_data\n",
      "req            INFO \tUsing cached data for weather_data\n",
      "req            INFO \tUsing cached data for race_control_messages\n",
      "core           INFO \tFinished loading data for 20 drivers: ['44', '77', '5', '7', '33', '3', '20', '14', '55', '8', '2', '10', '31', '16', '11', '27', '9', '35', '18', '28']\n",
      "core           INFO \tLoading data for Monaco Grand Prix - Qualifying [v3.1.2]\n",
      "req            INFO \tUsing cached data for session_info\n",
      "req            INFO \tUsing cached data for driver_info\n",
      "Request for URL https://ergast.com/api/f1/2018/6/qualifying.json failed; using cached response\n",
      "Traceback (most recent call last):\n",
      "  File \"/home/lore/anaconda3/lib/python3.10/site-packages/requests_cache/session.py\", line 255, in _resend\n",
      "    response = self._send_and_cache(request, actions, cached_response, **kwargs)\n",
      "  File \"/home/lore/anaconda3/lib/python3.10/site-packages/requests_cache/session.py\", line 229, in _send_and_cache\n",
      "    response = super().send(request, **kwargs)\n",
      "  File \"/home/lore/anaconda3/lib/python3.10/site-packages/fastf1/req.py\", line 122, in send\n",
      "    lim.limit()\n",
      "  File \"/home/lore/anaconda3/lib/python3.10/site-packages/fastf1/req.py\", line 99, in limit\n",
      "    raise RateLimitExceededError(self._info)\n",
      "fastf1.req.RateLimitExceededError: ergast.com: 200 calls/h\n",
      "req            INFO \tUsing cached data for session_status_data\n",
      "req            INFO \tUsing cached data for track_status_data\n",
      "req            INFO \tUsing cached data for _extended_timing_data\n",
      "req            INFO \tUsing cached data for timing_app_data\n",
      "core           INFO \tProcessing timing data...\n"
     ]
    },
    {
     "name": "stdout",
     "output_type": "stream",
     "text": [
      "2018\n"
     ]
    },
    {
     "name": "stderr",
     "output_type": "stream",
     "text": [
      "core        WARNING \tNo lap data for driver 33\n",
      "core        WARNING \tFailed to perform lap accuracy check - all laps marked as inaccurate.\n",
      "req            INFO \tUsing cached data for car_data\n",
      "req            INFO \tUsing cached data for position_data\n",
      "req            INFO \tUsing cached data for weather_data\n",
      "req            INFO \tUsing cached data for race_control_messages\n",
      "core           INFO \tFinished loading data for 20 drivers: ['3', '5', '44', '7', '77', '31', '14', '55', '11', '10', '27', '2', '35', '16', '8', '28', '9', '18', '20', '33']\n",
      "core           INFO \tLoading data for Canadian Grand Prix - Qualifying [v3.1.2]\n",
      "req            INFO \tUsing cached data for session_info\n",
      "req            INFO \tUsing cached data for driver_info\n",
      "Request for URL https://ergast.com/api/f1/2018/7/qualifying.json failed; using cached response\n",
      "Traceback (most recent call last):\n",
      "  File \"/home/lore/anaconda3/lib/python3.10/site-packages/requests_cache/session.py\", line 255, in _resend\n",
      "    response = self._send_and_cache(request, actions, cached_response, **kwargs)\n",
      "  File \"/home/lore/anaconda3/lib/python3.10/site-packages/requests_cache/session.py\", line 229, in _send_and_cache\n",
      "    response = super().send(request, **kwargs)\n",
      "  File \"/home/lore/anaconda3/lib/python3.10/site-packages/fastf1/req.py\", line 122, in send\n",
      "    lim.limit()\n",
      "  File \"/home/lore/anaconda3/lib/python3.10/site-packages/fastf1/req.py\", line 99, in limit\n",
      "    raise RateLimitExceededError(self._info)\n",
      "fastf1.req.RateLimitExceededError: ergast.com: 200 calls/h\n"
     ]
    },
    {
     "name": "stdout",
     "output_type": "stream",
     "text": [
      "2018\n"
     ]
    },
    {
     "name": "stderr",
     "output_type": "stream",
     "text": [
      "req            INFO \tUsing cached data for session_status_data\n",
      "req            INFO \tUsing cached data for track_status_data\n",
      "req            INFO \tUsing cached data for _extended_timing_data\n",
      "req            INFO \tUsing cached data for timing_app_data\n",
      "core           INFO \tProcessing timing data...\n",
      "core        WARNING \tNo lap data for driver 8\n",
      "core        WARNING \tFailed to perform lap accuracy check - all laps marked as inaccurate.\n",
      "req            INFO \tUsing cached data for car_data\n",
      "req            INFO \tUsing cached data for position_data\n",
      "req            INFO \tUsing cached data for weather_data\n",
      "req            INFO \tUsing cached data for race_control_messages\n",
      "core           INFO \tFinished loading data for 20 drivers: ['5', '77', '33', '44', '7', '3', '27', '31', '55', '11', '20', '28', '16', '14', '2', '10', '18', '35', '9', '8']\n",
      "core           INFO \tLoading data for French Grand Prix - Qualifying [v3.1.2]\n",
      "req            INFO \tUsing cached data for session_info\n",
      "req            INFO \tUsing cached data for driver_info\n",
      "Request for URL https://ergast.com/api/f1/2018/8/qualifying.json failed; using cached response\n",
      "Traceback (most recent call last):\n",
      "  File \"/home/lore/anaconda3/lib/python3.10/site-packages/requests_cache/session.py\", line 255, in _resend\n",
      "    response = self._send_and_cache(request, actions, cached_response, **kwargs)\n",
      "  File \"/home/lore/anaconda3/lib/python3.10/site-packages/requests_cache/session.py\", line 229, in _send_and_cache\n",
      "    response = super().send(request, **kwargs)\n",
      "  File \"/home/lore/anaconda3/lib/python3.10/site-packages/fastf1/req.py\", line 122, in send\n",
      "    lim.limit()\n",
      "  File \"/home/lore/anaconda3/lib/python3.10/site-packages/fastf1/req.py\", line 99, in limit\n",
      "    raise RateLimitExceededError(self._info)\n",
      "fastf1.req.RateLimitExceededError: ergast.com: 200 calls/h\n",
      "req            INFO \tUsing cached data for session_status_data\n",
      "req            INFO \tUsing cached data for track_status_data\n",
      "req            INFO \tUsing cached data for _extended_timing_data\n",
      "req            INFO \tUsing cached data for timing_app_data\n",
      "core           INFO \tProcessing timing data...\n"
     ]
    },
    {
     "name": "stdout",
     "output_type": "stream",
     "text": [
      "2018\n"
     ]
    },
    {
     "name": "stderr",
     "output_type": "stream",
     "text": [
      "req            INFO \tUsing cached data for car_data\n",
      "req            INFO \tUsing cached data for position_data\n",
      "req            INFO \tUsing cached data for weather_data\n",
      "req            INFO \tUsing cached data for race_control_messages\n",
      "core           INFO \tFinished loading data for 20 drivers: ['44', '77', '5', '33', '3', '7', '55', '16', '20', '8', '31', '27', '11', '10', '9', '14', '28', '2', '35', '18']\n",
      "core           INFO \tLoading data for Austrian Grand Prix - Qualifying [v3.1.2]\n",
      "req            INFO \tUsing cached data for session_info\n",
      "req            INFO \tUsing cached data for driver_info\n",
      "Request for URL https://ergast.com/api/f1/2018/9/qualifying.json failed; using cached response\n",
      "Traceback (most recent call last):\n",
      "  File \"/home/lore/anaconda3/lib/python3.10/site-packages/requests_cache/session.py\", line 255, in _resend\n",
      "    response = self._send_and_cache(request, actions, cached_response, **kwargs)\n",
      "  File \"/home/lore/anaconda3/lib/python3.10/site-packages/requests_cache/session.py\", line 229, in _send_and_cache\n",
      "    response = super().send(request, **kwargs)\n",
      "  File \"/home/lore/anaconda3/lib/python3.10/site-packages/fastf1/req.py\", line 122, in send\n",
      "    lim.limit()\n",
      "  File \"/home/lore/anaconda3/lib/python3.10/site-packages/fastf1/req.py\", line 99, in limit\n",
      "    raise RateLimitExceededError(self._info)\n",
      "fastf1.req.RateLimitExceededError: ergast.com: 200 calls/h\n",
      "req            INFO \tUsing cached data for session_status_data\n",
      "req            INFO \tUsing cached data for track_status_data\n",
      "req            INFO \tUsing cached data for _extended_timing_data\n",
      "req            INFO \tUsing cached data for timing_app_data\n",
      "core           INFO \tProcessing timing data...\n"
     ]
    },
    {
     "name": "stdout",
     "output_type": "stream",
     "text": [
      "2018\n"
     ]
    },
    {
     "name": "stderr",
     "output_type": "stream",
     "text": [
      "req            INFO \tUsing cached data for car_data\n",
      "req            INFO \tUsing cached data for position_data\n",
      "req            INFO \tUsing cached data for weather_data\n",
      "req            INFO \tUsing cached data for race_control_messages\n",
      "core           INFO \tFinished loading data for 20 drivers: ['77', '44', '5', '7', '33', '8', '3', '20', '55', '27', '31', '10', '16', '14', '18', '2', '11', '35', '28', '9']\n",
      "core           INFO \tLoading data for British Grand Prix - Qualifying [v3.1.2]\n",
      "req            INFO \tUsing cached data for session_info\n",
      "req            INFO \tUsing cached data for driver_info\n",
      "Request for URL https://ergast.com/api/f1/2018/10/qualifying.json failed; using cached response\n",
      "Traceback (most recent call last):\n",
      "  File \"/home/lore/anaconda3/lib/python3.10/site-packages/requests_cache/session.py\", line 255, in _resend\n",
      "    response = self._send_and_cache(request, actions, cached_response, **kwargs)\n",
      "  File \"/home/lore/anaconda3/lib/python3.10/site-packages/requests_cache/session.py\", line 229, in _send_and_cache\n",
      "    response = super().send(request, **kwargs)\n",
      "  File \"/home/lore/anaconda3/lib/python3.10/site-packages/fastf1/req.py\", line 122, in send\n",
      "    lim.limit()\n",
      "  File \"/home/lore/anaconda3/lib/python3.10/site-packages/fastf1/req.py\", line 99, in limit\n",
      "    raise RateLimitExceededError(self._info)\n",
      "fastf1.req.RateLimitExceededError: ergast.com: 200 calls/h\n",
      "req            INFO \tUsing cached data for session_status_data\n",
      "req            INFO \tUsing cached data for track_status_data\n",
      "req            INFO \tUsing cached data for _extended_timing_data\n",
      "req            INFO \tUsing cached data for timing_app_data\n",
      "core           INFO \tProcessing timing data...\n"
     ]
    },
    {
     "name": "stdout",
     "output_type": "stream",
     "text": [
      "2018\n"
     ]
    },
    {
     "name": "stderr",
     "output_type": "stream",
     "text": [
      "core        WARNING \tNo lap data for driver 28\n",
      "core        WARNING \tFailed to perform lap accuracy check - all laps marked as inaccurate.\n",
      "req            INFO \tUsing cached data for car_data\n",
      "req            INFO \tUsing cached data for position_data\n",
      "req            INFO \tUsing cached data for weather_data\n",
      "req            INFO \tUsing cached data for race_control_messages\n",
      "core           INFO \tFinished loading data for 20 drivers: ['44', '5', '7', '77', '33', '3', '20', '8', '16', '31', '27', '11', '14', '10', '9', '55', '2', '35', '18', '28']\n",
      "core           INFO \tLoading data for German Grand Prix - Qualifying [v3.1.2]\n",
      "req            INFO \tUsing cached data for session_info\n",
      "req            INFO \tUsing cached data for driver_info\n",
      "Request for URL https://ergast.com/api/f1/2018/11/qualifying.json failed; using cached response\n",
      "Traceback (most recent call last):\n",
      "  File \"/home/lore/anaconda3/lib/python3.10/site-packages/requests_cache/session.py\", line 255, in _resend\n",
      "    response = self._send_and_cache(request, actions, cached_response, **kwargs)\n",
      "  File \"/home/lore/anaconda3/lib/python3.10/site-packages/requests_cache/session.py\", line 229, in _send_and_cache\n",
      "    response = super().send(request, **kwargs)\n",
      "  File \"/home/lore/anaconda3/lib/python3.10/site-packages/fastf1/req.py\", line 122, in send\n",
      "    lim.limit()\n",
      "  File \"/home/lore/anaconda3/lib/python3.10/site-packages/fastf1/req.py\", line 99, in limit\n",
      "    raise RateLimitExceededError(self._info)\n",
      "fastf1.req.RateLimitExceededError: ergast.com: 200 calls/h\n",
      "req            INFO \tUsing cached data for session_status_data\n",
      "req            INFO \tUsing cached data for track_status_data\n",
      "req            INFO \tUsing cached data for _extended_timing_data\n",
      "req            INFO \tUsing cached data for timing_app_data\n",
      "core           INFO \tProcessing timing data...\n"
     ]
    },
    {
     "name": "stdout",
     "output_type": "stream",
     "text": [
      "2018\n"
     ]
    },
    {
     "name": "stderr",
     "output_type": "stream",
     "text": [
      "req            INFO \tUsing cached data for car_data\n",
      "req            INFO \tUsing cached data for position_data\n",
      "req            INFO \tUsing cached data for weather_data\n",
      "req            INFO \tUsing cached data for race_control_messages\n",
      "core           INFO \tFinished loading data for 20 drivers: ['5', '77', '7', '33', '20', '8', '27', '55', '16', '11', '14', '35', '9', '44', '3', '31', '10', '28', '18', '2']\n",
      "core           INFO \tLoading data for Hungarian Grand Prix - Qualifying [v3.1.2]\n",
      "req            INFO \tUsing cached data for session_info\n",
      "req            INFO \tUsing cached data for driver_info\n",
      "Request for URL https://ergast.com/api/f1/2018/12/qualifying.json failed; using cached response\n",
      "Traceback (most recent call last):\n",
      "  File \"/home/lore/anaconda3/lib/python3.10/site-packages/requests_cache/session.py\", line 255, in _resend\n",
      "    response = self._send_and_cache(request, actions, cached_response, **kwargs)\n",
      "  File \"/home/lore/anaconda3/lib/python3.10/site-packages/requests_cache/session.py\", line 229, in _send_and_cache\n",
      "    response = super().send(request, **kwargs)\n",
      "  File \"/home/lore/anaconda3/lib/python3.10/site-packages/fastf1/req.py\", line 122, in send\n",
      "    lim.limit()\n",
      "  File \"/home/lore/anaconda3/lib/python3.10/site-packages/fastf1/req.py\", line 99, in limit\n",
      "    raise RateLimitExceededError(self._info)\n",
      "fastf1.req.RateLimitExceededError: ergast.com: 200 calls/h\n",
      "req            INFO \tUsing cached data for session_status_data\n",
      "req            INFO \tUsing cached data for track_status_data\n",
      "req            INFO \tUsing cached data for _extended_timing_data\n",
      "req            INFO \tUsing cached data for timing_app_data\n",
      "core           INFO \tProcessing timing data...\n"
     ]
    },
    {
     "name": "stdout",
     "output_type": "stream",
     "text": [
      "2018\n"
     ]
    },
    {
     "name": "stderr",
     "output_type": "stream",
     "text": [
      "req            INFO \tUsing cached data for car_data\n",
      "req            INFO \tUsing cached data for position_data\n",
      "req            INFO \tUsing cached data for weather_data\n",
      "req            INFO \tUsing cached data for race_control_messages\n",
      "core           INFO \tFinished loading data for 20 drivers: ['44', '77', '7', '5', '55', '10', '33', '28', '20', '8', '14', '3', '27', '9', '18', '2', '16', '31', '11', '35']\n",
      "core           INFO \tLoading data for Belgian Grand Prix - Qualifying [v3.1.2]\n",
      "req            INFO \tUsing cached data for session_info\n",
      "req            INFO \tUsing cached data for driver_info\n",
      "Request for URL https://ergast.com/api/f1/2018/13/qualifying.json failed; using cached response\n",
      "Traceback (most recent call last):\n",
      "  File \"/home/lore/anaconda3/lib/python3.10/site-packages/requests_cache/session.py\", line 255, in _resend\n",
      "    response = self._send_and_cache(request, actions, cached_response, **kwargs)\n",
      "  File \"/home/lore/anaconda3/lib/python3.10/site-packages/requests_cache/session.py\", line 229, in _send_and_cache\n",
      "    response = super().send(request, **kwargs)\n",
      "  File \"/home/lore/anaconda3/lib/python3.10/site-packages/fastf1/req.py\", line 122, in send\n",
      "    lim.limit()\n",
      "  File \"/home/lore/anaconda3/lib/python3.10/site-packages/fastf1/req.py\", line 99, in limit\n",
      "    raise RateLimitExceededError(self._info)\n",
      "fastf1.req.RateLimitExceededError: ergast.com: 200 calls/h\n",
      "req            INFO \tUsing cached data for session_status_data\n",
      "req            INFO \tUsing cached data for track_status_data\n",
      "req            INFO \tUsing cached data for _extended_timing_data\n",
      "req            INFO \tUsing cached data for timing_app_data\n",
      "core           INFO \tProcessing timing data...\n"
     ]
    },
    {
     "name": "stdout",
     "output_type": "stream",
     "text": [
      "2018\n"
     ]
    },
    {
     "name": "stderr",
     "output_type": "stream",
     "text": [
      "req            INFO \tUsing cached data for car_data\n",
      "req            INFO \tUsing cached data for position_data\n",
      "req            INFO \tUsing cached data for weather_data\n",
      "req            INFO \tUsing cached data for race_control_messages\n",
      "core           INFO \tFinished loading data for 20 drivers: ['44', '5', '31', '11', '8', '7', '33', '3', '20', '77', '10', '28', '16', '9', '27', '55', '14', '35', '18', '2']\n",
      "core           INFO \tLoading data for Italian Grand Prix - Qualifying [v3.1.2]\n",
      "req            INFO \tUsing cached data for session_info\n",
      "req            INFO \tUsing cached data for driver_info\n",
      "Request for URL https://ergast.com/api/f1/2018/14/qualifying.json failed; using cached response\n",
      "Traceback (most recent call last):\n",
      "  File \"/home/lore/anaconda3/lib/python3.10/site-packages/requests_cache/session.py\", line 255, in _resend\n",
      "    response = self._send_and_cache(request, actions, cached_response, **kwargs)\n",
      "  File \"/home/lore/anaconda3/lib/python3.10/site-packages/requests_cache/session.py\", line 229, in _send_and_cache\n",
      "    response = super().send(request, **kwargs)\n",
      "  File \"/home/lore/anaconda3/lib/python3.10/site-packages/fastf1/req.py\", line 122, in send\n",
      "    lim.limit()\n",
      "  File \"/home/lore/anaconda3/lib/python3.10/site-packages/fastf1/req.py\", line 99, in limit\n",
      "    raise RateLimitExceededError(self._info)\n",
      "fastf1.req.RateLimitExceededError: ergast.com: 200 calls/h\n",
      "req            INFO \tUsing cached data for session_status_data\n",
      "req            INFO \tUsing cached data for track_status_data\n",
      "req            INFO \tUsing cached data for _extended_timing_data\n",
      "req            INFO \tUsing cached data for timing_app_data\n",
      "core           INFO \tProcessing timing data...\n"
     ]
    },
    {
     "name": "stdout",
     "output_type": "stream",
     "text": [
      "2018\n"
     ]
    },
    {
     "name": "stderr",
     "output_type": "stream",
     "text": [
      "req            INFO \tUsing cached data for car_data\n",
      "req            INFO \tUsing cached data for position_data\n",
      "req            INFO \tUsing cached data for weather_data\n",
      "req            INFO \tUsing cached data for race_control_messages\n",
      "core           INFO \tFinished loading data for 20 drivers: ['7', '5', '44', '77', '33', '8', '55', '31', '10', '18', '20', '35', '14', '27', '3', '11', '16', '28', '9', '2']\n",
      "core           INFO \tLoading data for Singapore Grand Prix - Qualifying [v3.1.2]\n",
      "req            INFO \tUsing cached data for session_info\n",
      "req            INFO \tUsing cached data for driver_info\n",
      "Request for URL https://ergast.com/api/f1/2018/15/qualifying.json failed; using cached response\n",
      "Traceback (most recent call last):\n",
      "  File \"/home/lore/anaconda3/lib/python3.10/site-packages/requests_cache/session.py\", line 255, in _resend\n",
      "    response = self._send_and_cache(request, actions, cached_response, **kwargs)\n",
      "  File \"/home/lore/anaconda3/lib/python3.10/site-packages/requests_cache/session.py\", line 229, in _send_and_cache\n",
      "    response = super().send(request, **kwargs)\n",
      "  File \"/home/lore/anaconda3/lib/python3.10/site-packages/fastf1/req.py\", line 122, in send\n",
      "    lim.limit()\n",
      "  File \"/home/lore/anaconda3/lib/python3.10/site-packages/fastf1/req.py\", line 99, in limit\n",
      "    raise RateLimitExceededError(self._info)\n",
      "fastf1.req.RateLimitExceededError: ergast.com: 200 calls/h\n",
      "req            INFO \tUsing cached data for session_status_data\n",
      "req            INFO \tUsing cached data for track_status_data\n",
      "req            INFO \tUsing cached data for _extended_timing_data\n",
      "req            INFO \tUsing cached data for timing_app_data\n",
      "core           INFO \tProcessing timing data...\n"
     ]
    },
    {
     "name": "stdout",
     "output_type": "stream",
     "text": [
      "2018\n"
     ]
    },
    {
     "name": "stderr",
     "output_type": "stream",
     "text": [
      "req            INFO \tUsing cached data for car_data\n",
      "req            INFO \tUsing cached data for position_data\n",
      "req            INFO \tUsing cached data for weather_data\n",
      "req            INFO \tUsing cached data for race_control_messages\n",
      "core           INFO \tFinished loading data for 20 drivers: ['44', '33', '5', '77', '7', '3', '11', '8', '31', '27', '14', '55', '16', '9', '10', '20', '28', '2', '35', '18']\n",
      "core           INFO \tLoading data for Russian Grand Prix - Qualifying [v3.1.2]\n",
      "req            INFO \tUsing cached data for session_info\n",
      "req            INFO \tUsing cached data for driver_info\n",
      "Request for URL https://ergast.com/api/f1/2018/16/qualifying.json failed; using cached response\n",
      "Traceback (most recent call last):\n",
      "  File \"/home/lore/anaconda3/lib/python3.10/site-packages/requests_cache/session.py\", line 255, in _resend\n",
      "    response = self._send_and_cache(request, actions, cached_response, **kwargs)\n",
      "  File \"/home/lore/anaconda3/lib/python3.10/site-packages/requests_cache/session.py\", line 229, in _send_and_cache\n",
      "    response = super().send(request, **kwargs)\n",
      "  File \"/home/lore/anaconda3/lib/python3.10/site-packages/fastf1/req.py\", line 122, in send\n",
      "    lim.limit()\n",
      "  File \"/home/lore/anaconda3/lib/python3.10/site-packages/fastf1/req.py\", line 99, in limit\n",
      "    raise RateLimitExceededError(self._info)\n",
      "fastf1.req.RateLimitExceededError: ergast.com: 200 calls/h\n",
      "req            INFO \tUsing cached data for session_status_data\n",
      "req            INFO \tUsing cached data for track_status_data\n",
      "req            INFO \tUsing cached data for _extended_timing_data\n",
      "req            INFO \tUsing cached data for timing_app_data\n",
      "core           INFO \tProcessing timing data...\n"
     ]
    },
    {
     "name": "stdout",
     "output_type": "stream",
     "text": [
      "2018\n"
     ]
    },
    {
     "name": "stderr",
     "output_type": "stream",
     "text": [
      "req            INFO \tUsing cached data for car_data\n",
      "req            INFO \tUsing cached data for position_data\n",
      "req            INFO \tUsing cached data for weather_data\n",
      "req            INFO \tUsing cached data for race_control_messages\n",
      "core           INFO \tFinished loading data for 20 drivers: ['77', '44', '5', '7', '20', '31', '16', '11', '8', '9', '33', '3', '10', '55', '27', '28', '14', '35', '2', '18']\n",
      "core           INFO \tLoading data for Japanese Grand Prix - Qualifying [v3.1.2]\n",
      "req            INFO \tUsing cached data for session_info\n",
      "req            INFO \tUsing cached data for driver_info\n",
      "Request for URL https://ergast.com/api/f1/2018/17/qualifying.json failed; using cached response\n",
      "Traceback (most recent call last):\n",
      "  File \"/home/lore/anaconda3/lib/python3.10/site-packages/requests_cache/session.py\", line 255, in _resend\n",
      "    response = self._send_and_cache(request, actions, cached_response, **kwargs)\n",
      "  File \"/home/lore/anaconda3/lib/python3.10/site-packages/requests_cache/session.py\", line 229, in _send_and_cache\n",
      "    response = super().send(request, **kwargs)\n",
      "  File \"/home/lore/anaconda3/lib/python3.10/site-packages/fastf1/req.py\", line 122, in send\n",
      "    lim.limit()\n",
      "  File \"/home/lore/anaconda3/lib/python3.10/site-packages/fastf1/req.py\", line 99, in limit\n",
      "    raise RateLimitExceededError(self._info)\n",
      "fastf1.req.RateLimitExceededError: ergast.com: 200 calls/h\n",
      "req            INFO \tUsing cached data for session_status_data\n",
      "req            INFO \tUsing cached data for track_status_data\n",
      "req            INFO \tUsing cached data for _extended_timing_data\n",
      "req            INFO \tUsing cached data for timing_app_data\n",
      "core           INFO \tProcessing timing data...\n"
     ]
    },
    {
     "name": "stdout",
     "output_type": "stream",
     "text": [
      "2018\n"
     ]
    },
    {
     "name": "stderr",
     "output_type": "stream",
     "text": [
      "req            INFO \tUsing cached data for car_data\n",
      "req            INFO \tUsing cached data for position_data\n",
      "req            INFO \tUsing cached data for weather_data\n",
      "req            INFO \tUsing cached data for race_control_messages\n",
      "core           INFO \tFinished loading data for 20 drivers: ['44', '77', '33', '7', '8', '28', '10', '31', '5', '11', '16', '20', '55', '18', '3', '27', '35', '14', '2', '9']\n",
      "core           INFO \tLoading data for United States Grand Prix - Qualifying [v3.1.2]\n",
      "req            INFO \tUsing cached data for session_info\n",
      "req            INFO \tUsing cached data for driver_info\n",
      "Request for URL https://ergast.com/api/f1/2018/18/qualifying.json failed; using cached response\n",
      "Traceback (most recent call last):\n",
      "  File \"/home/lore/anaconda3/lib/python3.10/site-packages/requests_cache/session.py\", line 255, in _resend\n",
      "    response = self._send_and_cache(request, actions, cached_response, **kwargs)\n",
      "  File \"/home/lore/anaconda3/lib/python3.10/site-packages/requests_cache/session.py\", line 229, in _send_and_cache\n",
      "    response = super().send(request, **kwargs)\n",
      "  File \"/home/lore/anaconda3/lib/python3.10/site-packages/fastf1/req.py\", line 122, in send\n",
      "    lim.limit()\n",
      "  File \"/home/lore/anaconda3/lib/python3.10/site-packages/fastf1/req.py\", line 99, in limit\n",
      "    raise RateLimitExceededError(self._info)\n",
      "fastf1.req.RateLimitExceededError: ergast.com: 200 calls/h\n",
      "req            INFO \tUsing cached data for session_status_data\n",
      "req            INFO \tUsing cached data for track_status_data\n",
      "req            INFO \tUsing cached data for _extended_timing_data\n",
      "req            INFO \tUsing cached data for timing_app_data\n",
      "core           INFO \tProcessing timing data...\n"
     ]
    },
    {
     "name": "stdout",
     "output_type": "stream",
     "text": [
      "2018\n"
     ]
    },
    {
     "name": "stderr",
     "output_type": "stream",
     "text": [
      "req            INFO \tUsing cached data for car_data\n",
      "req            INFO \tUsing cached data for position_data\n",
      "req            INFO \tUsing cached data for weather_data\n",
      "req            INFO \tUsing cached data for race_control_messages\n",
      "core           INFO \tFinished loading data for 20 drivers: ['44', '5', '7', '77', '3', '31', '27', '8', '16', '11', '55', '20', '10', '28', '33', '14', '35', '18', '9', '2']\n",
      "core           INFO \tLoading data for Mexican Grand Prix - Qualifying [v3.1.2]\n",
      "req            INFO \tUsing cached data for session_info\n",
      "req            INFO \tUsing cached data for driver_info\n",
      "Request for URL https://ergast.com/api/f1/2018/19/qualifying.json failed; using cached response\n",
      "Traceback (most recent call last):\n",
      "  File \"/home/lore/anaconda3/lib/python3.10/site-packages/requests_cache/session.py\", line 255, in _resend\n",
      "    response = self._send_and_cache(request, actions, cached_response, **kwargs)\n",
      "  File \"/home/lore/anaconda3/lib/python3.10/site-packages/requests_cache/session.py\", line 229, in _send_and_cache\n",
      "    response = super().send(request, **kwargs)\n",
      "  File \"/home/lore/anaconda3/lib/python3.10/site-packages/fastf1/req.py\", line 122, in send\n",
      "    lim.limit()\n",
      "  File \"/home/lore/anaconda3/lib/python3.10/site-packages/fastf1/req.py\", line 99, in limit\n",
      "    raise RateLimitExceededError(self._info)\n",
      "fastf1.req.RateLimitExceededError: ergast.com: 200 calls/h\n",
      "req            INFO \tUsing cached data for session_status_data\n",
      "req            INFO \tUsing cached data for track_status_data\n",
      "req            INFO \tUsing cached data for _extended_timing_data\n",
      "req            INFO \tUsing cached data for timing_app_data\n",
      "core           INFO \tProcessing timing data...\n"
     ]
    },
    {
     "name": "stdout",
     "output_type": "stream",
     "text": [
      "2018\n"
     ]
    },
    {
     "name": "stderr",
     "output_type": "stream",
     "text": [
      "req            INFO \tUsing cached data for car_data\n",
      "req            INFO \tUsing cached data for position_data\n",
      "req            INFO \tUsing cached data for weather_data\n",
      "req            INFO \tUsing cached data for race_control_messages\n",
      "core           INFO \tFinished loading data for 20 drivers: ['3', '33', '44', '5', '77', '7', '27', '55', '16', '9', '31', '14', '11', '28', '10', '8', '2', '20', '18', '35']\n",
      "core           INFO \tLoading data for Brazilian Grand Prix - Qualifying [v3.1.2]\n",
      "req            INFO \tUsing cached data for session_info\n",
      "req            INFO \tUsing cached data for driver_info\n",
      "Request for URL https://ergast.com/api/f1/2018/20/qualifying.json failed; using cached response\n",
      "Traceback (most recent call last):\n",
      "  File \"/home/lore/anaconda3/lib/python3.10/site-packages/requests_cache/session.py\", line 255, in _resend\n",
      "    response = self._send_and_cache(request, actions, cached_response, **kwargs)\n",
      "  File \"/home/lore/anaconda3/lib/python3.10/site-packages/requests_cache/session.py\", line 229, in _send_and_cache\n",
      "    response = super().send(request, **kwargs)\n",
      "  File \"/home/lore/anaconda3/lib/python3.10/site-packages/fastf1/req.py\", line 122, in send\n",
      "    lim.limit()\n",
      "  File \"/home/lore/anaconda3/lib/python3.10/site-packages/fastf1/req.py\", line 99, in limit\n",
      "    raise RateLimitExceededError(self._info)\n",
      "fastf1.req.RateLimitExceededError: ergast.com: 200 calls/h\n",
      "req            INFO \tUsing cached data for session_status_data\n",
      "req            INFO \tUsing cached data for track_status_data\n",
      "req            INFO \tUsing cached data for _extended_timing_data\n",
      "req            INFO \tUsing cached data for timing_app_data\n",
      "core           INFO \tProcessing timing data...\n"
     ]
    },
    {
     "name": "stdout",
     "output_type": "stream",
     "text": [
      "2018\n"
     ]
    },
    {
     "name": "stderr",
     "output_type": "stream",
     "text": [
      "req            INFO \tUsing cached data for car_data\n",
      "req            INFO \tUsing cached data for position_data\n",
      "req            INFO \tUsing cached data for weather_data\n",
      "req            INFO \tUsing cached data for race_control_messages\n",
      "core           INFO \tFinished loading data for 20 drivers: ['44', '5', '77', '7', '33', '3', '9', '16', '8', '10', '20', '11', '31', '27', '35', '55', '28', '14', '18', '2']\n",
      "core           INFO \tLoading data for Abu Dhabi Grand Prix - Qualifying [v3.1.2]\n",
      "req            INFO \tUsing cached data for session_info\n",
      "req            INFO \tUsing cached data for driver_info\n",
      "Request for URL https://ergast.com/api/f1/2018/21/qualifying.json failed; using cached response\n",
      "Traceback (most recent call last):\n",
      "  File \"/home/lore/anaconda3/lib/python3.10/site-packages/requests_cache/session.py\", line 255, in _resend\n",
      "    response = self._send_and_cache(request, actions, cached_response, **kwargs)\n",
      "  File \"/home/lore/anaconda3/lib/python3.10/site-packages/requests_cache/session.py\", line 229, in _send_and_cache\n",
      "    response = super().send(request, **kwargs)\n",
      "  File \"/home/lore/anaconda3/lib/python3.10/site-packages/fastf1/req.py\", line 122, in send\n",
      "    lim.limit()\n",
      "  File \"/home/lore/anaconda3/lib/python3.10/site-packages/fastf1/req.py\", line 99, in limit\n",
      "    raise RateLimitExceededError(self._info)\n",
      "fastf1.req.RateLimitExceededError: ergast.com: 200 calls/h\n",
      "req            INFO \tUsing cached data for session_status_data\n",
      "req            INFO \tUsing cached data for track_status_data\n",
      "req            INFO \tUsing cached data for _extended_timing_data\n",
      "req            INFO \tUsing cached data for timing_app_data\n",
      "core           INFO \tProcessing timing data...\n"
     ]
    },
    {
     "name": "stdout",
     "output_type": "stream",
     "text": [
      "2018\n"
     ]
    },
    {
     "name": "stderr",
     "output_type": "stream",
     "text": [
      "req            INFO \tUsing cached data for car_data\n",
      "req            INFO \tUsing cached data for position_data\n",
      "req            INFO \tUsing cached data for weather_data\n",
      "req            INFO \tUsing cached data for race_control_messages\n",
      "core           INFO \tFinished loading data for 20 drivers: ['44', '77', '5', '7', '3', '33', '8', '16', '31', '27', '55', '9', '20', '11', '14', '28', '10', '2', '35', '18']\n",
      "core           INFO \tLoading data for Australian Grand Prix - Qualifying [v3.1.2]\n",
      "req            INFO \tUsing cached data for session_info\n",
      "req            INFO \tUsing cached data for driver_info\n",
      "Request for URL https://ergast.com/api/f1/2019/1/qualifying.json failed; using cached response\n",
      "Traceback (most recent call last):\n",
      "  File \"/home/lore/anaconda3/lib/python3.10/site-packages/requests_cache/session.py\", line 255, in _resend\n",
      "    response = self._send_and_cache(request, actions, cached_response, **kwargs)\n",
      "  File \"/home/lore/anaconda3/lib/python3.10/site-packages/requests_cache/session.py\", line 229, in _send_and_cache\n",
      "    response = super().send(request, **kwargs)\n",
      "  File \"/home/lore/anaconda3/lib/python3.10/site-packages/fastf1/req.py\", line 122, in send\n",
      "    lim.limit()\n",
      "  File \"/home/lore/anaconda3/lib/python3.10/site-packages/fastf1/req.py\", line 99, in limit\n",
      "    raise RateLimitExceededError(self._info)\n",
      "fastf1.req.RateLimitExceededError: ergast.com: 200 calls/h\n",
      "req            INFO \tUsing cached data for session_status_data\n",
      "req            INFO \tUsing cached data for track_status_data\n",
      "req            INFO \tUsing cached data for _extended_timing_data\n",
      "req            INFO \tUsing cached data for timing_app_data\n",
      "core           INFO \tProcessing timing data...\n"
     ]
    },
    {
     "name": "stdout",
     "output_type": "stream",
     "text": [
      "2019\n"
     ]
    },
    {
     "name": "stderr",
     "output_type": "stream",
     "text": [
      "req            INFO \tUsing cached data for car_data\n",
      "req            INFO \tUsing cached data for position_data\n",
      "req            INFO \tUsing cached data for weather_data\n",
      "req            INFO \tUsing cached data for race_control_messages\n",
      "core           INFO \tFinished loading data for 20 drivers: ['44', '77', '5', '33', '16', '8', '20', '4', '7', '11', '27', '3', '23', '99', '26', '18', '10', '55', '63', '88']\n",
      "core           INFO \tLoading data for Bahrain Grand Prix - Qualifying [v3.1.2]\n",
      "req            INFO \tUsing cached data for session_info\n",
      "req            INFO \tUsing cached data for driver_info\n",
      "Request for URL https://ergast.com/api/f1/2019/2/qualifying.json failed; using cached response\n",
      "Traceback (most recent call last):\n",
      "  File \"/home/lore/anaconda3/lib/python3.10/site-packages/requests_cache/session.py\", line 255, in _resend\n",
      "    response = self._send_and_cache(request, actions, cached_response, **kwargs)\n",
      "  File \"/home/lore/anaconda3/lib/python3.10/site-packages/requests_cache/session.py\", line 229, in _send_and_cache\n",
      "    response = super().send(request, **kwargs)\n",
      "  File \"/home/lore/anaconda3/lib/python3.10/site-packages/fastf1/req.py\", line 122, in send\n",
      "    lim.limit()\n",
      "  File \"/home/lore/anaconda3/lib/python3.10/site-packages/fastf1/req.py\", line 99, in limit\n",
      "    raise RateLimitExceededError(self._info)\n",
      "fastf1.req.RateLimitExceededError: ergast.com: 200 calls/h\n",
      "req            INFO \tUsing cached data for session_status_data\n",
      "req            INFO \tUsing cached data for track_status_data\n",
      "req            INFO \tUsing cached data for _extended_timing_data\n",
      "req            INFO \tUsing cached data for timing_app_data\n",
      "core           INFO \tProcessing timing data...\n"
     ]
    },
    {
     "name": "stdout",
     "output_type": "stream",
     "text": [
      "2019\n"
     ]
    },
    {
     "name": "stderr",
     "output_type": "stream",
     "text": [
      "req            INFO \tUsing cached data for car_data\n",
      "req            INFO \tUsing cached data for position_data\n",
      "req            INFO \tUsing cached data for weather_data\n",
      "req            INFO \tUsing cached data for race_control_messages\n",
      "core           INFO \tFinished loading data for 20 drivers: ['16', '5', '44', '77', '33', '20', '55', '8', '7', '4', '3', '23', '10', '11', '26', '99', '27', '18', '63', '88']\n",
      "core           INFO \tLoading data for Chinese Grand Prix - Qualifying [v3.1.2]\n",
      "req            INFO \tUsing cached data for session_info\n",
      "req            INFO \tUsing cached data for driver_info\n",
      "Request for URL https://ergast.com/api/f1/2019/3/qualifying.json failed; using cached response\n",
      "Traceback (most recent call last):\n",
      "  File \"/home/lore/anaconda3/lib/python3.10/site-packages/requests_cache/session.py\", line 255, in _resend\n",
      "    response = self._send_and_cache(request, actions, cached_response, **kwargs)\n",
      "  File \"/home/lore/anaconda3/lib/python3.10/site-packages/requests_cache/session.py\", line 229, in _send_and_cache\n",
      "    response = super().send(request, **kwargs)\n",
      "  File \"/home/lore/anaconda3/lib/python3.10/site-packages/fastf1/req.py\", line 122, in send\n",
      "    lim.limit()\n",
      "  File \"/home/lore/anaconda3/lib/python3.10/site-packages/fastf1/req.py\", line 99, in limit\n",
      "    raise RateLimitExceededError(self._info)\n",
      "fastf1.req.RateLimitExceededError: ergast.com: 200 calls/h\n",
      "req            INFO \tUsing cached data for session_status_data\n",
      "req            INFO \tUsing cached data for track_status_data\n",
      "req            INFO \tUsing cached data for _extended_timing_data\n",
      "req            INFO \tUsing cached data for timing_app_data\n",
      "core           INFO \tProcessing timing data...\n"
     ]
    },
    {
     "name": "stdout",
     "output_type": "stream",
     "text": [
      "2019\n"
     ]
    },
    {
     "name": "stderr",
     "output_type": "stream",
     "text": [
      "core        WARNING \tNo lap data for driver 23\n",
      "core        WARNING \tFailed to perform lap accuracy check - all laps marked as inaccurate.\n",
      "req            INFO \tUsing cached data for car_data\n",
      "req            INFO \tUsing cached data for position_data\n",
      "req            INFO \tUsing cached data for weather_data\n",
      "req            INFO \tUsing cached data for race_control_messages\n",
      "core           INFO \tFinished loading data for 20 drivers: ['77', '44', '5', '16', '33', '10', '3', '27', '20', '8', '26', '11', '7', '55', '4', '18', '63', '88', '23', '99']\n",
      "core           INFO \tLoading data for Azerbaijan Grand Prix - Qualifying [v3.1.2]\n",
      "req            INFO \tUsing cached data for session_info\n",
      "req            INFO \tUsing cached data for driver_info\n",
      "Request for URL https://ergast.com/api/f1/2019/4/qualifying.json failed; using cached response\n",
      "Traceback (most recent call last):\n",
      "  File \"/home/lore/anaconda3/lib/python3.10/site-packages/requests_cache/session.py\", line 255, in _resend\n",
      "    response = self._send_and_cache(request, actions, cached_response, **kwargs)\n",
      "  File \"/home/lore/anaconda3/lib/python3.10/site-packages/requests_cache/session.py\", line 229, in _send_and_cache\n",
      "    response = super().send(request, **kwargs)\n",
      "  File \"/home/lore/anaconda3/lib/python3.10/site-packages/fastf1/req.py\", line 122, in send\n",
      "    lim.limit()\n",
      "  File \"/home/lore/anaconda3/lib/python3.10/site-packages/fastf1/req.py\", line 99, in limit\n",
      "    raise RateLimitExceededError(self._info)\n",
      "fastf1.req.RateLimitExceededError: ergast.com: 200 calls/h\n",
      "req            INFO \tUsing cached data for session_status_data\n",
      "req            INFO \tUsing cached data for track_status_data\n",
      "req            INFO \tUsing cached data for _extended_timing_data\n",
      "req            INFO \tUsing cached data for timing_app_data\n",
      "core           INFO \tProcessing timing data...\n"
     ]
    },
    {
     "name": "stdout",
     "output_type": "stream",
     "text": [
      "2019\n"
     ]
    },
    {
     "name": "stderr",
     "output_type": "stream",
     "text": [
      "req            INFO \tUsing cached data for car_data\n",
      "req            INFO \tUsing cached data for position_data\n",
      "req            INFO \tUsing cached data for weather_data\n",
      "req            INFO \tUsing cached data for race_control_messages\n",
      "core           INFO \tFinished loading data for 20 drivers: ['77', '44', '5', '33', '11', '26', '4', '99', '16', '55', '3', '23', '20', '18', '8', '27', '63', '88', '7', '10']\n",
      "core           INFO \tLoading data for Spanish Grand Prix - Qualifying [v3.1.2]\n",
      "req            INFO \tUsing cached data for session_info\n",
      "req            INFO \tUsing cached data for driver_info\n",
      "Request for URL https://ergast.com/api/f1/2019/5/qualifying.json failed; using cached response\n",
      "Traceback (most recent call last):\n",
      "  File \"/home/lore/anaconda3/lib/python3.10/site-packages/requests_cache/session.py\", line 255, in _resend\n",
      "    response = self._send_and_cache(request, actions, cached_response, **kwargs)\n",
      "  File \"/home/lore/anaconda3/lib/python3.10/site-packages/requests_cache/session.py\", line 229, in _send_and_cache\n",
      "    response = super().send(request, **kwargs)\n",
      "  File \"/home/lore/anaconda3/lib/python3.10/site-packages/fastf1/req.py\", line 122, in send\n",
      "    lim.limit()\n",
      "  File \"/home/lore/anaconda3/lib/python3.10/site-packages/fastf1/req.py\", line 99, in limit\n",
      "    raise RateLimitExceededError(self._info)\n",
      "fastf1.req.RateLimitExceededError: ergast.com: 200 calls/h\n",
      "req            INFO \tUsing cached data for session_status_data\n",
      "req            INFO \tUsing cached data for track_status_data\n",
      "req            INFO \tUsing cached data for _extended_timing_data\n",
      "req            INFO \tUsing cached data for timing_app_data\n",
      "core           INFO \tProcessing timing data...\n"
     ]
    },
    {
     "name": "stdout",
     "output_type": "stream",
     "text": [
      "2019\n"
     ]
    },
    {
     "name": "stderr",
     "output_type": "stream",
     "text": [
      "req            INFO \tUsing cached data for car_data\n",
      "req            INFO \tUsing cached data for position_data\n",
      "req            INFO \tUsing cached data for weather_data\n",
      "req            INFO \tUsing cached data for race_control_messages\n",
      "core           INFO \tFinished loading data for 20 drivers: ['77', '44', '5', '33', '16', '10', '8', '20', '26', '3', '4', '23', '55', '7', '11', '27', '18', '99', '63', '88']\n",
      "core           INFO \tLoading data for Monaco Grand Prix - Qualifying [v3.1.2]\n",
      "req            INFO \tUsing cached data for session_info\n",
      "req            INFO \tUsing cached data for driver_info\n",
      "Request for URL https://ergast.com/api/f1/2019/6/qualifying.json failed; using cached response\n",
      "Traceback (most recent call last):\n",
      "  File \"/home/lore/anaconda3/lib/python3.10/site-packages/requests_cache/session.py\", line 255, in _resend\n",
      "    response = self._send_and_cache(request, actions, cached_response, **kwargs)\n",
      "  File \"/home/lore/anaconda3/lib/python3.10/site-packages/requests_cache/session.py\", line 229, in _send_and_cache\n",
      "    response = super().send(request, **kwargs)\n",
      "  File \"/home/lore/anaconda3/lib/python3.10/site-packages/fastf1/req.py\", line 122, in send\n",
      "    lim.limit()\n",
      "  File \"/home/lore/anaconda3/lib/python3.10/site-packages/fastf1/req.py\", line 99, in limit\n",
      "    raise RateLimitExceededError(self._info)\n",
      "fastf1.req.RateLimitExceededError: ergast.com: 200 calls/h\n",
      "req            INFO \tUsing cached data for session_status_data\n",
      "req            INFO \tUsing cached data for track_status_data\n",
      "req            INFO \tUsing cached data for _extended_timing_data\n",
      "req            INFO \tUsing cached data for timing_app_data\n",
      "core           INFO \tProcessing timing data...\n"
     ]
    },
    {
     "name": "stdout",
     "output_type": "stream",
     "text": [
      "2019\n"
     ]
    },
    {
     "name": "stderr",
     "output_type": "stream",
     "text": [
      "req            INFO \tUsing cached data for car_data\n",
      "req            INFO \tUsing cached data for position_data\n",
      "req            INFO \tUsing cached data for weather_data\n",
      "req            INFO \tUsing cached data for race_control_messages\n",
      "core           INFO \tFinished loading data for 20 drivers: ['44', '77', '33', '5', '10', '20', '3', '26', '55', '23', '27', '4', '8', '7', '99', '16', '11', '18', '63', '88']\n",
      "core           INFO \tLoading data for Canadian Grand Prix - Qualifying [v3.1.2]\n",
      "req            INFO \tUsing cached data for session_info\n",
      "req            INFO \tUsing cached data for driver_info\n",
      "Request for URL https://ergast.com/api/f1/2019/7/qualifying.json failed; using cached response\n",
      "Traceback (most recent call last):\n",
      "  File \"/home/lore/anaconda3/lib/python3.10/site-packages/requests_cache/session.py\", line 255, in _resend\n",
      "    response = self._send_and_cache(request, actions, cached_response, **kwargs)\n",
      "  File \"/home/lore/anaconda3/lib/python3.10/site-packages/requests_cache/session.py\", line 229, in _send_and_cache\n",
      "    response = super().send(request, **kwargs)\n",
      "  File \"/home/lore/anaconda3/lib/python3.10/site-packages/fastf1/req.py\", line 122, in send\n",
      "    lim.limit()\n",
      "  File \"/home/lore/anaconda3/lib/python3.10/site-packages/fastf1/req.py\", line 99, in limit\n",
      "    raise RateLimitExceededError(self._info)\n",
      "fastf1.req.RateLimitExceededError: ergast.com: 200 calls/h\n",
      "req            INFO \tUsing cached data for session_status_data\n",
      "req            INFO \tUsing cached data for track_status_data\n",
      "req            INFO \tUsing cached data for _extended_timing_data\n",
      "req            INFO \tUsing cached data for timing_app_data\n",
      "core           INFO \tProcessing timing data...\n"
     ]
    },
    {
     "name": "stdout",
     "output_type": "stream",
     "text": [
      "2019\n"
     ]
    },
    {
     "name": "stderr",
     "output_type": "stream",
     "text": [
      "req            INFO \tUsing cached data for car_data\n",
      "req            INFO \tUsing cached data for position_data\n",
      "req            INFO \tUsing cached data for weather_data\n",
      "req            INFO \tUsing cached data for race_control_messages\n",
      "core           INFO \tFinished loading data for 20 drivers: ['5', '44', '16', '3', '10', '77', '27', '4', '55', '20', '33', '26', '99', '23', '8', '11', '7', '18', '63', '88']\n",
      "core           INFO \tLoading data for French Grand Prix - Qualifying [v3.1.2]\n",
      "req            INFO \tUsing cached data for session_info\n",
      "req            INFO \tUsing cached data for driver_info\n",
      "Request for URL https://ergast.com/api/f1/2019/8/qualifying.json failed; using cached response\n",
      "Traceback (most recent call last):\n",
      "  File \"/home/lore/anaconda3/lib/python3.10/site-packages/requests_cache/session.py\", line 255, in _resend\n",
      "    response = self._send_and_cache(request, actions, cached_response, **kwargs)\n",
      "  File \"/home/lore/anaconda3/lib/python3.10/site-packages/requests_cache/session.py\", line 229, in _send_and_cache\n",
      "    response = super().send(request, **kwargs)\n",
      "  File \"/home/lore/anaconda3/lib/python3.10/site-packages/fastf1/req.py\", line 122, in send\n",
      "    lim.limit()\n",
      "  File \"/home/lore/anaconda3/lib/python3.10/site-packages/fastf1/req.py\", line 99, in limit\n",
      "    raise RateLimitExceededError(self._info)\n",
      "fastf1.req.RateLimitExceededError: ergast.com: 200 calls/h\n",
      "req            INFO \tUsing cached data for session_status_data\n",
      "req            INFO \tUsing cached data for track_status_data\n",
      "req            INFO \tUsing cached data for _extended_timing_data\n",
      "req            INFO \tUsing cached data for timing_app_data\n",
      "core           INFO \tProcessing timing data...\n"
     ]
    },
    {
     "name": "stdout",
     "output_type": "stream",
     "text": [
      "2019\n"
     ]
    },
    {
     "name": "stderr",
     "output_type": "stream",
     "text": [
      "req            INFO \tUsing cached data for car_data\n",
      "req            INFO \tUsing cached data for position_data\n",
      "req            INFO \tUsing cached data for weather_data\n",
      "req            INFO \tUsing cached data for race_control_messages\n",
      "core           INFO \tFinished loading data for 20 drivers: ['44', '77', '16', '33', '4', '55', '5', '3', '10', '99', '23', '7', '27', '11', '20', '26', '8', '18', '63', '88']\n",
      "core           INFO \tLoading data for Austrian Grand Prix - Qualifying [v3.1.2]\n",
      "req            INFO \tUsing cached data for session_info\n",
      "req            INFO \tUsing cached data for driver_info\n",
      "Request for URL https://ergast.com/api/f1/2019/9/qualifying.json failed; using cached response\n",
      "Traceback (most recent call last):\n",
      "  File \"/home/lore/anaconda3/lib/python3.10/site-packages/requests_cache/session.py\", line 255, in _resend\n",
      "    response = self._send_and_cache(request, actions, cached_response, **kwargs)\n",
      "  File \"/home/lore/anaconda3/lib/python3.10/site-packages/requests_cache/session.py\", line 229, in _send_and_cache\n",
      "    response = super().send(request, **kwargs)\n",
      "  File \"/home/lore/anaconda3/lib/python3.10/site-packages/fastf1/req.py\", line 122, in send\n",
      "    lim.limit()\n",
      "  File \"/home/lore/anaconda3/lib/python3.10/site-packages/fastf1/req.py\", line 99, in limit\n",
      "    raise RateLimitExceededError(self._info)\n",
      "fastf1.req.RateLimitExceededError: ergast.com: 200 calls/h\n",
      "req            INFO \tUsing cached data for session_status_data\n",
      "req            INFO \tUsing cached data for track_status_data\n",
      "req            INFO \tUsing cached data for _extended_timing_data\n",
      "req            INFO \tUsing cached data for timing_app_data\n",
      "core           INFO \tProcessing timing data...\n"
     ]
    },
    {
     "name": "stdout",
     "output_type": "stream",
     "text": [
      "2019\n"
     ]
    },
    {
     "name": "stderr",
     "output_type": "stream",
     "text": [
      "req            INFO \tUsing cached data for car_data\n",
      "req            INFO \tUsing cached data for position_data\n",
      "req            INFO \tUsing cached data for weather_data\n",
      "req            INFO \tUsing cached data for race_control_messages\n",
      "core           INFO \tFinished loading data for 20 drivers: ['16', '44', '33', '77', '20', '4', '7', '99', '10', '5', '8', '27', '23', '3', '55', '11', '18', '26', '63', '88']\n",
      "core           INFO \tLoading data for British Grand Prix - Qualifying [v3.1.2]\n",
      "req            INFO \tUsing cached data for session_info\n",
      "req            INFO \tUsing cached data for driver_info\n",
      "Request for URL https://ergast.com/api/f1/2019/10/qualifying.json failed; using cached response\n",
      "Traceback (most recent call last):\n",
      "  File \"/home/lore/anaconda3/lib/python3.10/site-packages/requests_cache/session.py\", line 255, in _resend\n",
      "    response = self._send_and_cache(request, actions, cached_response, **kwargs)\n",
      "  File \"/home/lore/anaconda3/lib/python3.10/site-packages/requests_cache/session.py\", line 229, in _send_and_cache\n",
      "    response = super().send(request, **kwargs)\n",
      "  File \"/home/lore/anaconda3/lib/python3.10/site-packages/fastf1/req.py\", line 122, in send\n",
      "    lim.limit()\n",
      "  File \"/home/lore/anaconda3/lib/python3.10/site-packages/fastf1/req.py\", line 99, in limit\n",
      "    raise RateLimitExceededError(self._info)\n",
      "fastf1.req.RateLimitExceededError: ergast.com: 200 calls/h\n",
      "req            INFO \tUsing cached data for session_status_data\n",
      "req            INFO \tUsing cached data for track_status_data\n",
      "req            INFO \tUsing cached data for _extended_timing_data\n",
      "req            INFO \tUsing cached data for timing_app_data\n",
      "core           INFO \tProcessing timing data...\n"
     ]
    },
    {
     "name": "stdout",
     "output_type": "stream",
     "text": [
      "2019\n"
     ]
    },
    {
     "name": "stderr",
     "output_type": "stream",
     "text": [
      "req            INFO \tUsing cached data for car_data\n",
      "req            INFO \tUsing cached data for position_data\n",
      "req            INFO \tUsing cached data for weather_data\n",
      "req            INFO \tUsing cached data for race_control_messages\n",
      "core           INFO \tFinished loading data for 20 drivers: ['77', '44', '16', '33', '10', '5', '3', '4', '23', '27', '99', '7', '55', '8', '11', '20', '26', '18', '63', '88']\n",
      "core           INFO \tLoading data for German Grand Prix - Qualifying [v3.1.2]\n",
      "req            INFO \tUsing cached data for session_info\n",
      "req            INFO \tUsing cached data for driver_info\n",
      "Request for URL https://ergast.com/api/f1/2019/11/qualifying.json failed; using cached response\n",
      "Traceback (most recent call last):\n",
      "  File \"/home/lore/anaconda3/lib/python3.10/site-packages/requests_cache/session.py\", line 255, in _resend\n",
      "    response = self._send_and_cache(request, actions, cached_response, **kwargs)\n",
      "  File \"/home/lore/anaconda3/lib/python3.10/site-packages/requests_cache/session.py\", line 229, in _send_and_cache\n",
      "    response = super().send(request, **kwargs)\n",
      "  File \"/home/lore/anaconda3/lib/python3.10/site-packages/fastf1/req.py\", line 122, in send\n",
      "    lim.limit()\n",
      "  File \"/home/lore/anaconda3/lib/python3.10/site-packages/fastf1/req.py\", line 99, in limit\n",
      "    raise RateLimitExceededError(self._info)\n",
      "fastf1.req.RateLimitExceededError: ergast.com: 200 calls/h\n",
      "req            INFO \tUsing cached data for session_status_data\n",
      "req            INFO \tUsing cached data for track_status_data\n",
      "req            INFO \tUsing cached data for _extended_timing_data\n",
      "req            INFO \tUsing cached data for timing_app_data\n",
      "core           INFO \tProcessing timing data...\n"
     ]
    },
    {
     "name": "stdout",
     "output_type": "stream",
     "text": [
      "2019\n"
     ]
    },
    {
     "name": "stderr",
     "output_type": "stream",
     "text": [
      "req            INFO \tUsing cached data for car_data\n",
      "req            INFO \tUsing cached data for position_data\n",
      "req            INFO \tUsing cached data for weather_data\n",
      "req            INFO \tUsing cached data for race_control_messages\n",
      "core           INFO \tFinished loading data for 20 drivers: ['44', '33', '77', '10', '7', '8', '55', '11', '27', '16', '99', '20', '3', '26', '18', '4', '23', '63', '88', '5']\n",
      "core           INFO \tLoading data for Hungarian Grand Prix - Qualifying [v3.1.2]\n",
      "req            INFO \tUsing cached data for session_info\n",
      "req            INFO \tUsing cached data for driver_info\n",
      "Request for URL https://ergast.com/api/f1/2019/12/qualifying.json failed; using cached response\n",
      "Traceback (most recent call last):\n",
      "  File \"/home/lore/anaconda3/lib/python3.10/site-packages/requests_cache/session.py\", line 255, in _resend\n",
      "    response = self._send_and_cache(request, actions, cached_response, **kwargs)\n",
      "  File \"/home/lore/anaconda3/lib/python3.10/site-packages/requests_cache/session.py\", line 229, in _send_and_cache\n",
      "    response = super().send(request, **kwargs)\n",
      "  File \"/home/lore/anaconda3/lib/python3.10/site-packages/fastf1/req.py\", line 122, in send\n",
      "    lim.limit()\n",
      "  File \"/home/lore/anaconda3/lib/python3.10/site-packages/fastf1/req.py\", line 99, in limit\n",
      "    raise RateLimitExceededError(self._info)\n",
      "fastf1.req.RateLimitExceededError: ergast.com: 200 calls/h\n",
      "req            INFO \tUsing cached data for session_status_data\n",
      "req            INFO \tUsing cached data for track_status_data\n",
      "req            INFO \tUsing cached data for _extended_timing_data\n",
      "req            INFO \tUsing cached data for timing_app_data\n",
      "core           INFO \tProcessing timing data...\n"
     ]
    },
    {
     "name": "stdout",
     "output_type": "stream",
     "text": [
      "2019\n"
     ]
    },
    {
     "name": "stderr",
     "output_type": "stream",
     "text": [
      "req            INFO \tUsing cached data for car_data\n",
      "req            INFO \tUsing cached data for position_data\n",
      "req            INFO \tUsing cached data for weather_data\n",
      "req            INFO \tUsing cached data for race_control_messages\n",
      "core           INFO \tFinished loading data for 20 drivers: ['33', '77', '44', '16', '5', '10', '4', '55', '8', '7', '27', '23', '26', '99', '20', '63', '11', '3', '18', '88']\n",
      "core           INFO \tLoading data for Belgian Grand Prix - Qualifying [v3.1.2]\n",
      "req            INFO \tUsing cached data for session_info\n",
      "req            INFO \tUsing cached data for driver_info\n",
      "Request for URL https://ergast.com/api/f1/2019/13/qualifying.json failed; using cached response\n",
      "Traceback (most recent call last):\n",
      "  File \"/home/lore/anaconda3/lib/python3.10/site-packages/requests_cache/session.py\", line 255, in _resend\n",
      "    response = self._send_and_cache(request, actions, cached_response, **kwargs)\n",
      "  File \"/home/lore/anaconda3/lib/python3.10/site-packages/requests_cache/session.py\", line 229, in _send_and_cache\n",
      "    response = super().send(request, **kwargs)\n",
      "  File \"/home/lore/anaconda3/lib/python3.10/site-packages/fastf1/req.py\", line 122, in send\n",
      "    lim.limit()\n",
      "  File \"/home/lore/anaconda3/lib/python3.10/site-packages/fastf1/req.py\", line 99, in limit\n",
      "    raise RateLimitExceededError(self._info)\n",
      "fastf1.req.RateLimitExceededError: ergast.com: 200 calls/h\n",
      "req            INFO \tUsing cached data for session_status_data\n",
      "req            INFO \tUsing cached data for track_status_data\n",
      "req            INFO \tUsing cached data for _extended_timing_data\n",
      "req            INFO \tUsing cached data for timing_app_data\n",
      "core           INFO \tProcessing timing data...\n"
     ]
    },
    {
     "name": "stdout",
     "output_type": "stream",
     "text": [
      "2019\n"
     ]
    },
    {
     "name": "stderr",
     "output_type": "stream",
     "text": [
      "req            INFO \tUsing cached data for car_data\n",
      "req            INFO \tUsing cached data for position_data\n",
      "req            INFO \tUsing cached data for weather_data\n",
      "req            INFO \tUsing cached data for race_control_messages\n",
      "core           INFO \tFinished loading data for 20 drivers: ['16', '5', '44', '77', '33', '3', '27', '7', '11', '20', '8', '4', '18', '23', '99', '10', '55', '26', '63', '88']\n",
      "core           INFO \tLoading data for Italian Grand Prix - Qualifying [v3.1.2]\n",
      "req            INFO \tUsing cached data for session_info\n",
      "req            INFO \tUsing cached data for driver_info\n",
      "Request for URL https://ergast.com/api/f1/2019/14/qualifying.json failed; using cached response\n",
      "Traceback (most recent call last):\n",
      "  File \"/home/lore/anaconda3/lib/python3.10/site-packages/requests_cache/session.py\", line 255, in _resend\n",
      "    response = self._send_and_cache(request, actions, cached_response, **kwargs)\n",
      "  File \"/home/lore/anaconda3/lib/python3.10/site-packages/requests_cache/session.py\", line 229, in _send_and_cache\n",
      "    response = super().send(request, **kwargs)\n",
      "  File \"/home/lore/anaconda3/lib/python3.10/site-packages/fastf1/req.py\", line 122, in send\n",
      "    lim.limit()\n",
      "  File \"/home/lore/anaconda3/lib/python3.10/site-packages/fastf1/req.py\", line 99, in limit\n",
      "    raise RateLimitExceededError(self._info)\n",
      "fastf1.req.RateLimitExceededError: ergast.com: 200 calls/h\n",
      "req            INFO \tUsing cached data for session_status_data\n",
      "req            INFO \tUsing cached data for track_status_data\n",
      "req            INFO \tUsing cached data for _extended_timing_data\n",
      "req            INFO \tUsing cached data for timing_app_data\n",
      "core           INFO \tProcessing timing data...\n"
     ]
    },
    {
     "name": "stdout",
     "output_type": "stream",
     "text": [
      "2019\n"
     ]
    },
    {
     "name": "stderr",
     "output_type": "stream",
     "text": [
      "req            INFO \tUsing cached data for car_data\n",
      "req            INFO \tUsing cached data for position_data\n",
      "req            INFO \tUsing cached data for weather_data\n",
      "req            INFO \tUsing cached data for race_control_messages\n",
      "core           INFO \tFinished loading data for 20 drivers: ['16', '44', '77', '5', '3', '27', '55', '23', '18', '7', '99', '20', '26', '4', '10', '8', '11', '63', '88', '33']\n",
      "core           INFO \tLoading data for Singapore Grand Prix - Qualifying [v3.1.2]\n",
      "req            INFO \tUsing cached data for session_info\n",
      "req            INFO \tUsing cached data for driver_info\n",
      "Request for URL https://ergast.com/api/f1/2019/15/qualifying.json failed; using cached response\n",
      "Traceback (most recent call last):\n",
      "  File \"/home/lore/anaconda3/lib/python3.10/site-packages/requests_cache/session.py\", line 255, in _resend\n",
      "    response = self._send_and_cache(request, actions, cached_response, **kwargs)\n",
      "  File \"/home/lore/anaconda3/lib/python3.10/site-packages/requests_cache/session.py\", line 229, in _send_and_cache\n",
      "    response = super().send(request, **kwargs)\n",
      "  File \"/home/lore/anaconda3/lib/python3.10/site-packages/fastf1/req.py\", line 122, in send\n",
      "    lim.limit()\n",
      "  File \"/home/lore/anaconda3/lib/python3.10/site-packages/fastf1/req.py\", line 99, in limit\n",
      "    raise RateLimitExceededError(self._info)\n",
      "fastf1.req.RateLimitExceededError: ergast.com: 200 calls/h\n",
      "req            INFO \tUsing cached data for session_status_data\n",
      "req            INFO \tUsing cached data for track_status_data\n",
      "req            INFO \tUsing cached data for _extended_timing_data\n",
      "req            INFO \tUsing cached data for timing_app_data\n",
      "core           INFO \tProcessing timing data...\n"
     ]
    },
    {
     "name": "stdout",
     "output_type": "stream",
     "text": [
      "2019\n"
     ]
    },
    {
     "name": "stderr",
     "output_type": "stream",
     "text": [
      "req            INFO \tUsing cached data for car_data\n",
      "req            INFO \tUsing cached data for position_data\n",
      "req            INFO \tUsing cached data for weather_data\n",
      "req            INFO \tUsing cached data for race_control_messages\n",
      "core           INFO \tFinished loading data for 20 drivers: ['16', '44', '5', '33', '77', '23', '55', '27', '4', '11', '99', '10', '7', '20', '26', '18', '8', '63', '88', '3']\n",
      "core           INFO \tLoading data for Russian Grand Prix - Qualifying [v3.1.2]\n",
      "req            INFO \tUsing cached data for session_info\n",
      "req            INFO \tUsing cached data for driver_info\n",
      "Request for URL https://ergast.com/api/f1/2019/16/qualifying.json failed; using cached response\n",
      "Traceback (most recent call last):\n",
      "  File \"/home/lore/anaconda3/lib/python3.10/site-packages/requests_cache/session.py\", line 255, in _resend\n",
      "    response = self._send_and_cache(request, actions, cached_response, **kwargs)\n",
      "  File \"/home/lore/anaconda3/lib/python3.10/site-packages/requests_cache/session.py\", line 229, in _send_and_cache\n",
      "    response = super().send(request, **kwargs)\n",
      "  File \"/home/lore/anaconda3/lib/python3.10/site-packages/fastf1/req.py\", line 122, in send\n",
      "    lim.limit()\n",
      "  File \"/home/lore/anaconda3/lib/python3.10/site-packages/fastf1/req.py\", line 99, in limit\n",
      "    raise RateLimitExceededError(self._info)\n",
      "fastf1.req.RateLimitExceededError: ergast.com: 200 calls/h\n",
      "req            INFO \tUsing cached data for session_status_data\n",
      "req            INFO \tUsing cached data for track_status_data\n",
      "req            INFO \tUsing cached data for _extended_timing_data\n",
      "req            INFO \tUsing cached data for timing_app_data\n",
      "core           INFO \tProcessing timing data...\n"
     ]
    },
    {
     "name": "stdout",
     "output_type": "stream",
     "text": [
      "2019\n"
     ]
    },
    {
     "name": "stderr",
     "output_type": "stream",
     "text": [
      "core        WARNING \tNo lap data for driver 26\n",
      "core        WARNING \tFailed to perform lap accuracy check - all laps marked as inaccurate.\n",
      "req            INFO \tUsing cached data for car_data\n",
      "req            INFO \tUsing cached data for position_data\n",
      "req            INFO \tUsing cached data for weather_data\n",
      "req            INFO \tUsing cached data for race_control_messages\n",
      "core           INFO \tFinished loading data for 20 drivers: ['16', '44', '5', '33', '77', '55', '27', '4', '8', '3', '10', '11', '99', '20', '18', '7', '63', '88', '23', '26']\n",
      "core           INFO \tLoading data for Japanese Grand Prix - Qualifying [v3.1.2]\n",
      "req            INFO \tUsing cached data for session_info\n",
      "req            INFO \tUsing cached data for driver_info\n",
      "Request for URL https://ergast.com/api/f1/2019/17/qualifying.json failed; using cached response\n",
      "Traceback (most recent call last):\n",
      "  File \"/home/lore/anaconda3/lib/python3.10/site-packages/requests_cache/session.py\", line 255, in _resend\n",
      "    response = self._send_and_cache(request, actions, cached_response, **kwargs)\n",
      "  File \"/home/lore/anaconda3/lib/python3.10/site-packages/requests_cache/session.py\", line 229, in _send_and_cache\n",
      "    response = super().send(request, **kwargs)\n",
      "  File \"/home/lore/anaconda3/lib/python3.10/site-packages/fastf1/req.py\", line 122, in send\n",
      "    lim.limit()\n",
      "  File \"/home/lore/anaconda3/lib/python3.10/site-packages/fastf1/req.py\", line 99, in limit\n",
      "    raise RateLimitExceededError(self._info)\n",
      "fastf1.req.RateLimitExceededError: ergast.com: 200 calls/h\n",
      "req            INFO \tUsing cached data for session_status_data\n"
     ]
    },
    {
     "name": "stdout",
     "output_type": "stream",
     "text": [
      "2019\n"
     ]
    },
    {
     "name": "stderr",
     "output_type": "stream",
     "text": [
      "req            INFO \tUsing cached data for track_status_data\n",
      "req            INFO \tUsing cached data for _extended_timing_data\n",
      "req            INFO \tUsing cached data for timing_app_data\n",
      "core           INFO \tProcessing timing data...\n",
      "req            INFO \tUsing cached data for car_data\n",
      "req            INFO \tUsing cached data for position_data\n",
      "req            INFO \tUsing cached data for weather_data\n",
      "req            INFO \tUsing cached data for race_control_messages\n",
      "core           INFO \tFinished loading data for 20 drivers: ['5', '16', '77', '44', '33', '23', '55', '4', '10', '8', '99', '18', '7', '26', '27', '3', '11', '63', '20', '88']\n",
      "core           INFO \tLoading data for Mexican Grand Prix - Qualifying [v3.1.2]\n",
      "req            INFO \tUsing cached data for session_info\n",
      "req            INFO \tUsing cached data for driver_info\n",
      "Request for URL https://ergast.com/api/f1/2019/18/qualifying.json failed; using cached response\n",
      "Traceback (most recent call last):\n",
      "  File \"/home/lore/anaconda3/lib/python3.10/site-packages/requests_cache/session.py\", line 255, in _resend\n",
      "    response = self._send_and_cache(request, actions, cached_response, **kwargs)\n",
      "  File \"/home/lore/anaconda3/lib/python3.10/site-packages/requests_cache/session.py\", line 229, in _send_and_cache\n",
      "    response = super().send(request, **kwargs)\n",
      "  File \"/home/lore/anaconda3/lib/python3.10/site-packages/fastf1/req.py\", line 122, in send\n",
      "    lim.limit()\n",
      "  File \"/home/lore/anaconda3/lib/python3.10/site-packages/fastf1/req.py\", line 99, in limit\n",
      "    raise RateLimitExceededError(self._info)\n",
      "fastf1.req.RateLimitExceededError: ergast.com: 200 calls/h\n",
      "req            INFO \tUsing cached data for session_status_data\n",
      "req            INFO \tUsing cached data for track_status_data\n",
      "req            INFO \tUsing cached data for _extended_timing_data\n",
      "req            INFO \tUsing cached data for timing_app_data\n",
      "core           INFO \tProcessing timing data...\n"
     ]
    },
    {
     "name": "stdout",
     "output_type": "stream",
     "text": [
      "2019\n"
     ]
    },
    {
     "name": "stderr",
     "output_type": "stream",
     "text": [
      "req            INFO \tUsing cached data for car_data\n",
      "req            INFO \tUsing cached data for position_data\n",
      "req            INFO \tUsing cached data for weather_data\n",
      "req            INFO \tUsing cached data for race_control_messages\n",
      "core           INFO \tFinished loading data for 20 drivers: ['33', '16', '5', '44', '23', '77', '55', '4', '26', '10', '11', '27', '3', '7', '99', '18', '20', '8', '63', '88']\n",
      "core           INFO \tLoading data for United States Grand Prix - Qualifying [v3.1.2]\n",
      "req            INFO \tUsing cached data for session_info\n",
      "req            INFO \tUsing cached data for driver_info\n",
      "Request for URL https://ergast.com/api/f1/2019/19/qualifying.json failed; using cached response\n",
      "Traceback (most recent call last):\n",
      "  File \"/home/lore/anaconda3/lib/python3.10/site-packages/requests_cache/session.py\", line 255, in _resend\n",
      "    response = self._send_and_cache(request, actions, cached_response, **kwargs)\n",
      "  File \"/home/lore/anaconda3/lib/python3.10/site-packages/requests_cache/session.py\", line 229, in _send_and_cache\n",
      "    response = super().send(request, **kwargs)\n",
      "  File \"/home/lore/anaconda3/lib/python3.10/site-packages/fastf1/req.py\", line 122, in send\n",
      "    lim.limit()\n",
      "  File \"/home/lore/anaconda3/lib/python3.10/site-packages/fastf1/req.py\", line 99, in limit\n",
      "    raise RateLimitExceededError(self._info)\n",
      "fastf1.req.RateLimitExceededError: ergast.com: 200 calls/h\n",
      "req            INFO \tUsing cached data for session_status_data\n",
      "req            INFO \tUsing cached data for track_status_data\n",
      "req            INFO \tUsing cached data for _extended_timing_data\n",
      "req            INFO \tUsing cached data for timing_app_data\n",
      "core           INFO \tProcessing timing data...\n"
     ]
    },
    {
     "name": "stdout",
     "output_type": "stream",
     "text": [
      "2019\n"
     ]
    },
    {
     "name": "stderr",
     "output_type": "stream",
     "text": [
      "req            INFO \tUsing cached data for car_data\n",
      "req            INFO \tUsing cached data for position_data\n",
      "req            INFO \tUsing cached data for weather_data\n",
      "req            INFO \tUsing cached data for race_control_messages\n",
      "core           INFO \tFinished loading data for 20 drivers: ['77', '5', '33', '16', '44', '23', '55', '4', '3', '10', '27', '20', '26', '18', '8', '99', '7', '63', '11', '88']\n",
      "core           INFO \tLoading data for Brazilian Grand Prix - Qualifying [v3.1.2]\n",
      "req            INFO \tUsing cached data for session_info\n",
      "req            INFO \tUsing cached data for driver_info\n",
      "Request for URL https://ergast.com/api/f1/2019/20/qualifying.json failed; using cached response\n",
      "Traceback (most recent call last):\n",
      "  File \"/home/lore/anaconda3/lib/python3.10/site-packages/requests_cache/session.py\", line 255, in _resend\n",
      "    response = self._send_and_cache(request, actions, cached_response, **kwargs)\n",
      "  File \"/home/lore/anaconda3/lib/python3.10/site-packages/requests_cache/session.py\", line 229, in _send_and_cache\n",
      "    response = super().send(request, **kwargs)\n",
      "  File \"/home/lore/anaconda3/lib/python3.10/site-packages/fastf1/req.py\", line 122, in send\n",
      "    lim.limit()\n",
      "  File \"/home/lore/anaconda3/lib/python3.10/site-packages/fastf1/req.py\", line 99, in limit\n",
      "    raise RateLimitExceededError(self._info)\n",
      "fastf1.req.RateLimitExceededError: ergast.com: 200 calls/h\n",
      "req            INFO \tUsing cached data for session_status_data\n",
      "req            INFO \tUsing cached data for track_status_data\n",
      "req            INFO \tUsing cached data for _extended_timing_data\n",
      "req            INFO \tUsing cached data for timing_app_data\n",
      "core           INFO \tProcessing timing data...\n"
     ]
    },
    {
     "name": "stdout",
     "output_type": "stream",
     "text": [
      "2019\n"
     ]
    },
    {
     "name": "stderr",
     "output_type": "stream",
     "text": [
      "req            INFO \tUsing cached data for car_data\n",
      "req            INFO \tUsing cached data for position_data\n",
      "req            INFO \tUsing cached data for weather_data\n",
      "req            INFO \tUsing cached data for race_control_messages\n",
      "core           INFO \tFinished loading data for 20 drivers: ['33', '5', '44', '16', '77', '23', '10', '8', '7', '20', '4', '3', '99', '27', '11', '26', '18', '63', '88', '55']\n",
      "core           INFO \tLoading data for Abu Dhabi Grand Prix - Qualifying [v3.1.2]\n",
      "req            INFO \tUsing cached data for session_info\n",
      "req            INFO \tUsing cached data for driver_info\n",
      "Request for URL https://ergast.com/api/f1/2019/21/qualifying.json failed; using cached response\n",
      "Traceback (most recent call last):\n",
      "  File \"/home/lore/anaconda3/lib/python3.10/site-packages/requests_cache/session.py\", line 255, in _resend\n",
      "    response = self._send_and_cache(request, actions, cached_response, **kwargs)\n",
      "  File \"/home/lore/anaconda3/lib/python3.10/site-packages/requests_cache/session.py\", line 229, in _send_and_cache\n",
      "    response = super().send(request, **kwargs)\n",
      "  File \"/home/lore/anaconda3/lib/python3.10/site-packages/fastf1/req.py\", line 122, in send\n",
      "    lim.limit()\n",
      "  File \"/home/lore/anaconda3/lib/python3.10/site-packages/fastf1/req.py\", line 99, in limit\n",
      "    raise RateLimitExceededError(self._info)\n",
      "fastf1.req.RateLimitExceededError: ergast.com: 200 calls/h\n",
      "req            INFO \tUsing cached data for session_status_data\n",
      "req            INFO \tUsing cached data for track_status_data\n",
      "req            INFO \tUsing cached data for _extended_timing_data\n",
      "req            INFO \tUsing cached data for timing_app_data\n",
      "core           INFO \tProcessing timing data...\n"
     ]
    },
    {
     "name": "stdout",
     "output_type": "stream",
     "text": [
      "2019\n"
     ]
    },
    {
     "name": "stderr",
     "output_type": "stream",
     "text": [
      "req            INFO \tUsing cached data for car_data\n",
      "req            INFO \tUsing cached data for position_data\n",
      "req            INFO \tUsing cached data for weather_data\n",
      "req            INFO \tUsing cached data for race_control_messages\n",
      "core           INFO \tFinished loading data for 20 drivers: ['44', '77', '33', '16', '5', '23', '4', '3', '55', '27', '11', '10', '18', '26', '20', '8', '99', '7', '63', '88']\n",
      "core           INFO \tLoading data for Spanish Grand Prix - Qualifying [v3.1.2]\n",
      "req            INFO \tUsing cached data for session_info\n",
      "req            INFO \tUsing cached data for driver_info\n",
      "Request for URL https://ergast.com/api/f1/2020/6/qualifying.json failed; using cached response\n",
      "Traceback (most recent call last):\n",
      "  File \"/home/lore/anaconda3/lib/python3.10/site-packages/requests_cache/session.py\", line 255, in _resend\n",
      "    response = self._send_and_cache(request, actions, cached_response, **kwargs)\n",
      "  File \"/home/lore/anaconda3/lib/python3.10/site-packages/requests_cache/session.py\", line 229, in _send_and_cache\n",
      "    response = super().send(request, **kwargs)\n",
      "  File \"/home/lore/anaconda3/lib/python3.10/site-packages/fastf1/req.py\", line 122, in send\n",
      "    lim.limit()\n",
      "  File \"/home/lore/anaconda3/lib/python3.10/site-packages/fastf1/req.py\", line 99, in limit\n",
      "    raise RateLimitExceededError(self._info)\n",
      "fastf1.req.RateLimitExceededError: ergast.com: 200 calls/h\n",
      "req            INFO \tUsing cached data for session_status_data\n",
      "req            INFO \tUsing cached data for track_status_data\n",
      "req            INFO \tUsing cached data for _extended_timing_data\n",
      "req            INFO \tUsing cached data for timing_app_data\n",
      "core           INFO \tProcessing timing data...\n"
     ]
    },
    {
     "name": "stdout",
     "output_type": "stream",
     "text": [
      "2020\n"
     ]
    },
    {
     "name": "stderr",
     "output_type": "stream",
     "text": [
      "req            INFO \tUsing cached data for car_data\n",
      "req            INFO \tUsing cached data for position_data\n",
      "req            INFO \tUsing cached data for weather_data\n",
      "req            INFO \tUsing cached data for race_control_messages\n",
      "core           INFO \tFinished loading data for 20 drivers: ['44', '77', '33', '11', '18', '23', '55', '4', '16', '10', '5', '26', '3', '7', '31', '20', '8', '63', '6', '99']\n",
      "core           INFO \tLoading data for Spanish Grand Prix - Qualifying [v3.1.2]\n",
      "req            INFO \tUsing cached data for session_info\n",
      "req            INFO \tUsing cached data for driver_info\n",
      "Request for URL https://ergast.com/api/f1/2020/6/qualifying.json failed; using cached response\n",
      "Traceback (most recent call last):\n",
      "  File \"/home/lore/anaconda3/lib/python3.10/site-packages/requests_cache/session.py\", line 255, in _resend\n",
      "    response = self._send_and_cache(request, actions, cached_response, **kwargs)\n",
      "  File \"/home/lore/anaconda3/lib/python3.10/site-packages/requests_cache/session.py\", line 229, in _send_and_cache\n",
      "    response = super().send(request, **kwargs)\n",
      "  File \"/home/lore/anaconda3/lib/python3.10/site-packages/fastf1/req.py\", line 122, in send\n",
      "    lim.limit()\n",
      "  File \"/home/lore/anaconda3/lib/python3.10/site-packages/fastf1/req.py\", line 99, in limit\n",
      "    raise RateLimitExceededError(self._info)\n",
      "fastf1.req.RateLimitExceededError: ergast.com: 200 calls/h\n",
      "req            INFO \tUsing cached data for session_status_data\n",
      "req            INFO \tUsing cached data for track_status_data\n",
      "req            INFO \tUsing cached data for _extended_timing_data\n",
      "req            INFO \tUsing cached data for timing_app_data\n",
      "core           INFO \tProcessing timing data...\n"
     ]
    },
    {
     "name": "stdout",
     "output_type": "stream",
     "text": [
      "2020\n"
     ]
    },
    {
     "name": "stderr",
     "output_type": "stream",
     "text": [
      "req            INFO \tUsing cached data for car_data\n",
      "req            INFO \tUsing cached data for position_data\n",
      "req            INFO \tUsing cached data for weather_data\n",
      "req            INFO \tUsing cached data for race_control_messages\n",
      "core           INFO \tFinished loading data for 20 drivers: ['44', '77', '33', '11', '18', '23', '55', '4', '16', '10', '5', '26', '3', '7', '31', '20', '8', '63', '6', '99']\n",
      "core           INFO \tLoading data for Austrian Grand Prix - Qualifying [v3.1.2]\n",
      "req            INFO \tUsing cached data for session_info\n",
      "req            INFO \tUsing cached data for driver_info\n",
      "Request for URL https://ergast.com/api/f1/2020/1/qualifying.json failed; using cached response\n",
      "Traceback (most recent call last):\n",
      "  File \"/home/lore/anaconda3/lib/python3.10/site-packages/requests_cache/session.py\", line 255, in _resend\n",
      "    response = self._send_and_cache(request, actions, cached_response, **kwargs)\n",
      "  File \"/home/lore/anaconda3/lib/python3.10/site-packages/requests_cache/session.py\", line 229, in _send_and_cache\n",
      "    response = super().send(request, **kwargs)\n",
      "  File \"/home/lore/anaconda3/lib/python3.10/site-packages/fastf1/req.py\", line 122, in send\n",
      "    lim.limit()\n",
      "  File \"/home/lore/anaconda3/lib/python3.10/site-packages/fastf1/req.py\", line 99, in limit\n",
      "    raise RateLimitExceededError(self._info)\n",
      "fastf1.req.RateLimitExceededError: ergast.com: 200 calls/h\n",
      "req            INFO \tUsing cached data for session_status_data\n",
      "req            INFO \tUsing cached data for track_status_data\n",
      "req            INFO \tUsing cached data for _extended_timing_data\n",
      "req            INFO \tUsing cached data for timing_app_data\n",
      "core           INFO \tProcessing timing data...\n"
     ]
    },
    {
     "name": "stdout",
     "output_type": "stream",
     "text": [
      "2020\n"
     ]
    },
    {
     "name": "stderr",
     "output_type": "stream",
     "text": [
      "req            INFO \tUsing cached data for car_data\n",
      "req            INFO \tUsing cached data for position_data\n",
      "req            INFO \tUsing cached data for weather_data\n",
      "req            INFO \tUsing cached data for race_control_messages\n",
      "core           INFO \tFinished loading data for 20 drivers: ['77', '44', '33', '4', '23', '11', '16', '55', '18', '3', '5', '10', '26', '31', '8', '20', '63', '99', '7', '6']\n",
      "core           INFO \tLoading data for Austrian Grand Prix - Qualifying [v3.1.2]\n",
      "req            INFO \tUsing cached data for session_info\n",
      "req            INFO \tUsing cached data for driver_info\n",
      "Request for URL https://ergast.com/api/f1/2020/1/qualifying.json failed; using cached response\n",
      "Traceback (most recent call last):\n",
      "  File \"/home/lore/anaconda3/lib/python3.10/site-packages/requests_cache/session.py\", line 255, in _resend\n",
      "    response = self._send_and_cache(request, actions, cached_response, **kwargs)\n",
      "  File \"/home/lore/anaconda3/lib/python3.10/site-packages/requests_cache/session.py\", line 229, in _send_and_cache\n",
      "    response = super().send(request, **kwargs)\n",
      "  File \"/home/lore/anaconda3/lib/python3.10/site-packages/fastf1/req.py\", line 122, in send\n",
      "    lim.limit()\n",
      "  File \"/home/lore/anaconda3/lib/python3.10/site-packages/fastf1/req.py\", line 99, in limit\n",
      "    raise RateLimitExceededError(self._info)\n",
      "fastf1.req.RateLimitExceededError: ergast.com: 200 calls/h\n",
      "req            INFO \tUsing cached data for session_status_data\n",
      "req            INFO \tUsing cached data for track_status_data\n",
      "req            INFO \tUsing cached data for _extended_timing_data\n",
      "req            INFO \tUsing cached data for timing_app_data\n",
      "core           INFO \tProcessing timing data...\n"
     ]
    },
    {
     "name": "stdout",
     "output_type": "stream",
     "text": [
      "2020\n"
     ]
    },
    {
     "name": "stderr",
     "output_type": "stream",
     "text": [
      "req            INFO \tUsing cached data for car_data\n",
      "req            INFO \tUsing cached data for position_data\n",
      "req            INFO \tUsing cached data for weather_data\n",
      "req            INFO \tUsing cached data for race_control_messages\n",
      "core           INFO \tFinished loading data for 20 drivers: ['77', '44', '33', '4', '23', '11', '16', '55', '18', '3', '5', '10', '26', '31', '8', '20', '63', '99', '7', '6']\n",
      "core           INFO \tLoading data for Hungarian Grand Prix - Qualifying [v3.1.2]\n",
      "req            INFO \tUsing cached data for session_info\n",
      "req            INFO \tUsing cached data for driver_info\n",
      "Request for URL https://ergast.com/api/f1/2020/3/qualifying.json failed; using cached response\n",
      "Traceback (most recent call last):\n",
      "  File \"/home/lore/anaconda3/lib/python3.10/site-packages/requests_cache/session.py\", line 255, in _resend\n",
      "    response = self._send_and_cache(request, actions, cached_response, **kwargs)\n",
      "  File \"/home/lore/anaconda3/lib/python3.10/site-packages/requests_cache/session.py\", line 229, in _send_and_cache\n",
      "    response = super().send(request, **kwargs)\n",
      "  File \"/home/lore/anaconda3/lib/python3.10/site-packages/fastf1/req.py\", line 122, in send\n",
      "    lim.limit()\n",
      "  File \"/home/lore/anaconda3/lib/python3.10/site-packages/fastf1/req.py\", line 99, in limit\n",
      "    raise RateLimitExceededError(self._info)\n",
      "fastf1.req.RateLimitExceededError: ergast.com: 200 calls/h\n",
      "req            INFO \tUsing cached data for session_status_data\n",
      "req            INFO \tUsing cached data for track_status_data\n",
      "req            INFO \tUsing cached data for _extended_timing_data\n",
      "req            INFO \tUsing cached data for timing_app_data\n",
      "core           INFO \tProcessing timing data...\n"
     ]
    },
    {
     "name": "stdout",
     "output_type": "stream",
     "text": [
      "2020\n"
     ]
    },
    {
     "name": "stderr",
     "output_type": "stream",
     "text": [
      "req            INFO \tUsing cached data for car_data\n",
      "req            INFO \tUsing cached data for position_data\n",
      "req            INFO \tUsing cached data for weather_data\n",
      "req            INFO \tUsing cached data for race_control_messages\n",
      "core           INFO \tFinished loading data for 20 drivers: ['44', '77', '18', '11', '5', '16', '33', '4', '55', '10', '3', '63', '23', '31', '6', '20', '26', '8', '99', '7']\n",
      "core           INFO \tLoading data for British Grand Prix - Qualifying [v3.1.2]\n",
      "req            INFO \tUsing cached data for session_info\n",
      "req            INFO \tUsing cached data for driver_info\n",
      "Request for URL https://ergast.com/api/f1/2020/4/qualifying.json failed; using cached response\n",
      "Traceback (most recent call last):\n",
      "  File \"/home/lore/anaconda3/lib/python3.10/site-packages/requests_cache/session.py\", line 255, in _resend\n",
      "    response = self._send_and_cache(request, actions, cached_response, **kwargs)\n",
      "  File \"/home/lore/anaconda3/lib/python3.10/site-packages/requests_cache/session.py\", line 229, in _send_and_cache\n",
      "    response = super().send(request, **kwargs)\n",
      "  File \"/home/lore/anaconda3/lib/python3.10/site-packages/fastf1/req.py\", line 122, in send\n",
      "    lim.limit()\n",
      "  File \"/home/lore/anaconda3/lib/python3.10/site-packages/fastf1/req.py\", line 99, in limit\n",
      "    raise RateLimitExceededError(self._info)\n",
      "fastf1.req.RateLimitExceededError: ergast.com: 200 calls/h\n",
      "req            INFO \tUsing cached data for session_status_data\n",
      "req            INFO \tUsing cached data for track_status_data\n",
      "req            INFO \tUsing cached data for _extended_timing_data\n",
      "req            INFO \tUsing cached data for timing_app_data\n",
      "core           INFO \tProcessing timing data...\n"
     ]
    },
    {
     "name": "stdout",
     "output_type": "stream",
     "text": [
      "2020\n"
     ]
    },
    {
     "name": "stderr",
     "output_type": "stream",
     "text": [
      "req            INFO \tUsing cached data for car_data\n",
      "req            INFO \tUsing cached data for position_data\n",
      "req            INFO \tUsing cached data for weather_data\n",
      "req            INFO \tUsing cached data for race_control_messages\n",
      "core           INFO \tFinished loading data for 20 drivers: ['44', '77', '33', '16', '4', '18', '55', '3', '31', '5', '10', '23', '27', '26', '63', '20', '99', '7', '8', '6']\n",
      "core           INFO \tLoading data for British Grand Prix - Qualifying [v3.1.2]\n",
      "req            INFO \tUsing cached data for session_info\n",
      "req            INFO \tUsing cached data for driver_info\n",
      "Request for URL https://ergast.com/api/f1/2020/4/qualifying.json failed; using cached response\n",
      "Traceback (most recent call last):\n",
      "  File \"/home/lore/anaconda3/lib/python3.10/site-packages/requests_cache/session.py\", line 255, in _resend\n",
      "    response = self._send_and_cache(request, actions, cached_response, **kwargs)\n",
      "  File \"/home/lore/anaconda3/lib/python3.10/site-packages/requests_cache/session.py\", line 229, in _send_and_cache\n",
      "    response = super().send(request, **kwargs)\n",
      "  File \"/home/lore/anaconda3/lib/python3.10/site-packages/fastf1/req.py\", line 122, in send\n",
      "    lim.limit()\n",
      "  File \"/home/lore/anaconda3/lib/python3.10/site-packages/fastf1/req.py\", line 99, in limit\n",
      "    raise RateLimitExceededError(self._info)\n",
      "fastf1.req.RateLimitExceededError: ergast.com: 200 calls/h\n",
      "req            INFO \tUsing cached data for session_status_data\n",
      "req            INFO \tUsing cached data for track_status_data\n",
      "req            INFO \tUsing cached data for _extended_timing_data\n",
      "req            INFO \tUsing cached data for timing_app_data\n",
      "core           INFO \tProcessing timing data...\n"
     ]
    },
    {
     "name": "stdout",
     "output_type": "stream",
     "text": [
      "2020\n"
     ]
    },
    {
     "name": "stderr",
     "output_type": "stream",
     "text": [
      "req            INFO \tUsing cached data for car_data\n",
      "req            INFO \tUsing cached data for position_data\n",
      "req            INFO \tUsing cached data for weather_data\n",
      "req            INFO \tUsing cached data for race_control_messages\n",
      "core           INFO \tFinished loading data for 20 drivers: ['44', '77', '33', '16', '4', '18', '55', '3', '31', '5', '10', '23', '27', '26', '63', '20', '99', '7', '8', '6']\n",
      "core           INFO \tLoading data for Spanish Grand Prix - Qualifying [v3.1.2]\n",
      "req            INFO \tUsing cached data for session_info\n",
      "req            INFO \tUsing cached data for driver_info\n",
      "Request for URL https://ergast.com/api/f1/2020/6/qualifying.json failed; using cached response\n",
      "Traceback (most recent call last):\n",
      "  File \"/home/lore/anaconda3/lib/python3.10/site-packages/requests_cache/session.py\", line 255, in _resend\n",
      "    response = self._send_and_cache(request, actions, cached_response, **kwargs)\n",
      "  File \"/home/lore/anaconda3/lib/python3.10/site-packages/requests_cache/session.py\", line 229, in _send_and_cache\n",
      "    response = super().send(request, **kwargs)\n",
      "  File \"/home/lore/anaconda3/lib/python3.10/site-packages/fastf1/req.py\", line 122, in send\n",
      "    lim.limit()\n",
      "  File \"/home/lore/anaconda3/lib/python3.10/site-packages/fastf1/req.py\", line 99, in limit\n",
      "    raise RateLimitExceededError(self._info)\n",
      "fastf1.req.RateLimitExceededError: ergast.com: 200 calls/h\n",
      "req            INFO \tUsing cached data for session_status_data\n",
      "req            INFO \tUsing cached data for track_status_data\n",
      "req            INFO \tUsing cached data for _extended_timing_data\n",
      "req            INFO \tUsing cached data for timing_app_data\n",
      "core           INFO \tProcessing timing data...\n"
     ]
    },
    {
     "name": "stdout",
     "output_type": "stream",
     "text": [
      "2020\n"
     ]
    },
    {
     "name": "stderr",
     "output_type": "stream",
     "text": [
      "req            INFO \tUsing cached data for car_data\n",
      "req            INFO \tUsing cached data for position_data\n",
      "req            INFO \tUsing cached data for weather_data\n",
      "req            INFO \tUsing cached data for race_control_messages\n",
      "core           INFO \tFinished loading data for 20 drivers: ['44', '77', '33', '11', '18', '23', '55', '4', '16', '10', '5', '26', '3', '7', '31', '20', '8', '63', '6', '99']\n",
      "core           INFO \tLoading data for Belgian Grand Prix - Qualifying [v3.1.2]\n",
      "req            INFO \tUsing cached data for session_info\n",
      "req            INFO \tUsing cached data for driver_info\n",
      "Request for URL https://ergast.com/api/f1/2020/7/qualifying.json failed; using cached response\n",
      "Traceback (most recent call last):\n",
      "  File \"/home/lore/anaconda3/lib/python3.10/site-packages/requests_cache/session.py\", line 255, in _resend\n",
      "    response = self._send_and_cache(request, actions, cached_response, **kwargs)\n",
      "  File \"/home/lore/anaconda3/lib/python3.10/site-packages/requests_cache/session.py\", line 229, in _send_and_cache\n",
      "    response = super().send(request, **kwargs)\n",
      "  File \"/home/lore/anaconda3/lib/python3.10/site-packages/fastf1/req.py\", line 122, in send\n",
      "    lim.limit()\n",
      "  File \"/home/lore/anaconda3/lib/python3.10/site-packages/fastf1/req.py\", line 99, in limit\n",
      "    raise RateLimitExceededError(self._info)\n",
      "fastf1.req.RateLimitExceededError: ergast.com: 200 calls/h\n",
      "req            INFO \tUsing cached data for session_status_data\n",
      "req            INFO \tUsing cached data for track_status_data\n",
      "req            INFO \tUsing cached data for _extended_timing_data\n",
      "req            INFO \tUsing cached data for timing_app_data\n",
      "core           INFO \tProcessing timing data...\n"
     ]
    },
    {
     "name": "stdout",
     "output_type": "stream",
     "text": [
      "2020\n"
     ]
    },
    {
     "name": "stderr",
     "output_type": "stream",
     "text": [
      "req            INFO \tUsing cached data for car_data\n",
      "req            INFO \tUsing cached data for position_data\n",
      "req            INFO \tUsing cached data for weather_data\n",
      "req            INFO \tUsing cached data for race_control_messages\n",
      "core           INFO \tFinished loading data for 20 drivers: ['44', '77', '33', '3', '23', '31', '55', '11', '18', '4', '26', '10', '16', '5', '63', '7', '8', '99', '6', '20']\n",
      "core           INFO \tLoading data for Italian Grand Prix - Qualifying [v3.1.2]\n",
      "req            INFO \tUsing cached data for session_info\n",
      "req            INFO \tUsing cached data for driver_info\n",
      "Request for URL https://ergast.com/api/f1/2020/8/qualifying.json failed; using cached response\n",
      "Traceback (most recent call last):\n",
      "  File \"/home/lore/anaconda3/lib/python3.10/site-packages/requests_cache/session.py\", line 255, in _resend\n",
      "    response = self._send_and_cache(request, actions, cached_response, **kwargs)\n",
      "  File \"/home/lore/anaconda3/lib/python3.10/site-packages/requests_cache/session.py\", line 229, in _send_and_cache\n",
      "    response = super().send(request, **kwargs)\n",
      "  File \"/home/lore/anaconda3/lib/python3.10/site-packages/fastf1/req.py\", line 122, in send\n",
      "    lim.limit()\n",
      "  File \"/home/lore/anaconda3/lib/python3.10/site-packages/fastf1/req.py\", line 99, in limit\n",
      "    raise RateLimitExceededError(self._info)\n",
      "fastf1.req.RateLimitExceededError: ergast.com: 200 calls/h\n",
      "req            INFO \tUsing cached data for session_status_data\n",
      "req            INFO \tUsing cached data for track_status_data\n",
      "req            INFO \tUsing cached data for _extended_timing_data\n",
      "req            INFO \tUsing cached data for timing_app_data\n",
      "core           INFO \tProcessing timing data...\n"
     ]
    },
    {
     "name": "stdout",
     "output_type": "stream",
     "text": [
      "2020\n"
     ]
    },
    {
     "name": "stderr",
     "output_type": "stream",
     "text": [
      "req            INFO \tUsing cached data for car_data\n",
      "req            INFO \tUsing cached data for position_data\n",
      "req            INFO \tUsing cached data for weather_data\n",
      "req            INFO \tUsing cached data for race_control_messages\n",
      "core           INFO \tFinished loading data for 20 drivers: ['44', '77', '55', '11', '33', '4', '3', '18', '23', '10', '26', '31', '16', '7', '20', '8', '5', '99', '63', '6']\n",
      "core           INFO \tLoading data for Tuscan Grand Prix - Qualifying [v3.1.2]\n",
      "req            INFO \tUsing cached data for session_info\n",
      "req            INFO \tUsing cached data for driver_info\n",
      "Request for URL https://ergast.com/api/f1/2020/9/qualifying.json failed; using cached response\n",
      "Traceback (most recent call last):\n",
      "  File \"/home/lore/anaconda3/lib/python3.10/site-packages/requests_cache/session.py\", line 255, in _resend\n",
      "    response = self._send_and_cache(request, actions, cached_response, **kwargs)\n",
      "  File \"/home/lore/anaconda3/lib/python3.10/site-packages/requests_cache/session.py\", line 229, in _send_and_cache\n",
      "    response = super().send(request, **kwargs)\n",
      "  File \"/home/lore/anaconda3/lib/python3.10/site-packages/fastf1/req.py\", line 122, in send\n",
      "    lim.limit()\n",
      "  File \"/home/lore/anaconda3/lib/python3.10/site-packages/fastf1/req.py\", line 99, in limit\n",
      "    raise RateLimitExceededError(self._info)\n",
      "fastf1.req.RateLimitExceededError: ergast.com: 200 calls/h\n",
      "req            INFO \tUsing cached data for session_status_data\n",
      "req            INFO \tUsing cached data for track_status_data\n",
      "req            INFO \tUsing cached data for _extended_timing_data\n",
      "req            INFO \tUsing cached data for timing_app_data\n",
      "core           INFO \tProcessing timing data...\n"
     ]
    },
    {
     "name": "stdout",
     "output_type": "stream",
     "text": [
      "2020\n"
     ]
    },
    {
     "name": "stderr",
     "output_type": "stream",
     "text": [
      "req            INFO \tUsing cached data for car_data\n",
      "req            INFO \tUsing cached data for position_data\n",
      "req            INFO \tUsing cached data for weather_data\n",
      "req            INFO \tUsing cached data for race_control_messages\n",
      "core           INFO \tFinished loading data for 20 drivers: ['44', '77', '33', '23', '16', '11', '18', '3', '55', '31', '4', '26', '7', '5', '8', '10', '99', '63', '6', '20']\n",
      "core           INFO \tLoading data for Russian Grand Prix - Qualifying [v3.1.2]\n",
      "req            INFO \tUsing cached data for session_info\n",
      "req            INFO \tUsing cached data for driver_info\n",
      "Request for URL https://ergast.com/api/f1/2020/10/qualifying.json failed; using cached response\n",
      "Traceback (most recent call last):\n",
      "  File \"/home/lore/anaconda3/lib/python3.10/site-packages/requests_cache/session.py\", line 255, in _resend\n",
      "    response = self._send_and_cache(request, actions, cached_response, **kwargs)\n",
      "  File \"/home/lore/anaconda3/lib/python3.10/site-packages/requests_cache/session.py\", line 229, in _send_and_cache\n",
      "    response = super().send(request, **kwargs)\n",
      "  File \"/home/lore/anaconda3/lib/python3.10/site-packages/fastf1/req.py\", line 122, in send\n",
      "    lim.limit()\n",
      "  File \"/home/lore/anaconda3/lib/python3.10/site-packages/fastf1/req.py\", line 99, in limit\n",
      "    raise RateLimitExceededError(self._info)\n",
      "fastf1.req.RateLimitExceededError: ergast.com: 200 calls/h\n",
      "req            INFO \tUsing cached data for session_status_data\n",
      "req            INFO \tUsing cached data for track_status_data\n",
      "req            INFO \tUsing cached data for _extended_timing_data\n",
      "req            INFO \tUsing cached data for timing_app_data\n",
      "core           INFO \tProcessing timing data...\n"
     ]
    },
    {
     "name": "stdout",
     "output_type": "stream",
     "text": [
      "2020\n"
     ]
    },
    {
     "name": "stderr",
     "output_type": "stream",
     "text": [
      "req            INFO \tUsing cached data for car_data\n",
      "req            INFO \tUsing cached data for position_data\n",
      "req            INFO \tUsing cached data for weather_data\n",
      "req            INFO \tUsing cached data for race_control_messages\n",
      "core           INFO \tFinished loading data for 20 drivers: ['44', '33', '77', '11', '3', '55', '31', '4', '10', '23', '16', '26', '18', '63', '5', '8', '99', '20', '6', '7']\n",
      "core           INFO \tLoading data for Eifel Grand Prix - Qualifying [v3.1.2]\n",
      "req            INFO \tUsing cached data for session_info\n",
      "req            INFO \tUsing cached data for driver_info\n",
      "Request for URL https://ergast.com/api/f1/2020/11/qualifying.json failed; using cached response\n",
      "Traceback (most recent call last):\n",
      "  File \"/home/lore/anaconda3/lib/python3.10/site-packages/requests_cache/session.py\", line 255, in _resend\n",
      "    response = self._send_and_cache(request, actions, cached_response, **kwargs)\n",
      "  File \"/home/lore/anaconda3/lib/python3.10/site-packages/requests_cache/session.py\", line 229, in _send_and_cache\n",
      "    response = super().send(request, **kwargs)\n",
      "  File \"/home/lore/anaconda3/lib/python3.10/site-packages/fastf1/req.py\", line 122, in send\n",
      "    lim.limit()\n",
      "  File \"/home/lore/anaconda3/lib/python3.10/site-packages/fastf1/req.py\", line 99, in limit\n",
      "    raise RateLimitExceededError(self._info)\n",
      "fastf1.req.RateLimitExceededError: ergast.com: 200 calls/h\n",
      "req            INFO \tUsing cached data for session_status_data\n",
      "req            INFO \tUsing cached data for track_status_data\n",
      "req            INFO \tUsing cached data for _extended_timing_data\n",
      "req            INFO \tUsing cached data for timing_app_data\n",
      "core           INFO \tProcessing timing data...\n"
     ]
    },
    {
     "name": "stdout",
     "output_type": "stream",
     "text": [
      "2020\n"
     ]
    },
    {
     "name": "stderr",
     "output_type": "stream",
     "text": [
      "req            INFO \tUsing cached data for car_data\n",
      "req            INFO \tUsing cached data for position_data\n",
      "req            INFO \tUsing cached data for weather_data\n",
      "req            INFO \tUsing cached data for race_control_messages\n",
      "core           INFO \tFinished loading data for 20 drivers: ['77', '44', '33', '16', '23', '3', '31', '4', '11', '55', '5', '10', '26', '99', '20', '8', '63', '6', '7', '27']\n",
      "core           INFO \tLoading data for Portuguese Grand Prix - Qualifying [v3.1.2]\n",
      "req            INFO \tUsing cached data for session_info\n",
      "req            INFO \tUsing cached data for driver_info\n",
      "Request for URL https://ergast.com/api/f1/2020/12/qualifying.json failed; using cached response\n",
      "Traceback (most recent call last):\n",
      "  File \"/home/lore/anaconda3/lib/python3.10/site-packages/requests_cache/session.py\", line 255, in _resend\n",
      "    response = self._send_and_cache(request, actions, cached_response, **kwargs)\n",
      "  File \"/home/lore/anaconda3/lib/python3.10/site-packages/requests_cache/session.py\", line 229, in _send_and_cache\n",
      "    response = super().send(request, **kwargs)\n",
      "  File \"/home/lore/anaconda3/lib/python3.10/site-packages/fastf1/req.py\", line 122, in send\n",
      "    lim.limit()\n",
      "  File \"/home/lore/anaconda3/lib/python3.10/site-packages/fastf1/req.py\", line 99, in limit\n",
      "    raise RateLimitExceededError(self._info)\n",
      "fastf1.req.RateLimitExceededError: ergast.com: 200 calls/h\n",
      "req            INFO \tUsing cached data for session_status_data\n",
      "req            INFO \tUsing cached data for track_status_data\n",
      "req            INFO \tUsing cached data for _extended_timing_data\n",
      "req            INFO \tUsing cached data for timing_app_data\n",
      "core           INFO \tProcessing timing data...\n"
     ]
    },
    {
     "name": "stdout",
     "output_type": "stream",
     "text": [
      "2020\n"
     ]
    },
    {
     "name": "stderr",
     "output_type": "stream",
     "text": [
      "req            INFO \tUsing cached data for car_data\n",
      "req            INFO \tUsing cached data for position_data\n",
      "req            INFO \tUsing cached data for weather_data\n",
      "req            INFO \tUsing cached data for race_control_messages\n",
      "core           INFO \tFinished loading data for 20 drivers: ['44', '77', '33', '16', '11', '23', '55', '4', '10', '3', '31', '18', '26', '63', '5', '7', '99', '8', '20', '6']\n",
      "core           INFO \tLoading data for Emilia Romagna Grand Prix - Qualifying [v3.1.2]\n",
      "req            INFO \tUsing cached data for session_info\n",
      "req            INFO \tUsing cached data for driver_info\n",
      "Request for URL https://ergast.com/api/f1/2020/13/qualifying.json failed; using cached response\n",
      "Traceback (most recent call last):\n",
      "  File \"/home/lore/anaconda3/lib/python3.10/site-packages/requests_cache/session.py\", line 255, in _resend\n",
      "    response = self._send_and_cache(request, actions, cached_response, **kwargs)\n",
      "  File \"/home/lore/anaconda3/lib/python3.10/site-packages/requests_cache/session.py\", line 229, in _send_and_cache\n",
      "    response = super().send(request, **kwargs)\n",
      "  File \"/home/lore/anaconda3/lib/python3.10/site-packages/fastf1/req.py\", line 122, in send\n",
      "    lim.limit()\n",
      "  File \"/home/lore/anaconda3/lib/python3.10/site-packages/fastf1/req.py\", line 99, in limit\n",
      "    raise RateLimitExceededError(self._info)\n",
      "fastf1.req.RateLimitExceededError: ergast.com: 200 calls/h\n",
      "req            INFO \tUsing cached data for session_status_data\n",
      "req            INFO \tUsing cached data for track_status_data\n",
      "req            INFO \tUsing cached data for _extended_timing_data\n",
      "req            INFO \tUsing cached data for timing_app_data\n",
      "core           INFO \tProcessing timing data...\n"
     ]
    },
    {
     "name": "stdout",
     "output_type": "stream",
     "text": [
      "2020\n"
     ]
    },
    {
     "name": "stderr",
     "output_type": "stream",
     "text": [
      "req            INFO \tUsing cached data for car_data\n",
      "req            INFO \tUsing cached data for position_data\n",
      "req            INFO \tUsing cached data for weather_data\n",
      "req            INFO \tUsing cached data for race_control_messages\n",
      "core           INFO \tFinished loading data for 20 drivers: ['77', '44', '33', '10', '3', '23', '16', '26', '4', '55', '11', '31', '63', '5', '18', '8', '20', '7', '6', '99']\n",
      "core           INFO \tLoading data for Turkish Grand Prix - Qualifying [v3.1.2]\n",
      "req            INFO \tUsing cached data for session_info\n",
      "req            INFO \tUsing cached data for driver_info\n",
      "Request for URL https://ergast.com/api/f1/2020/14/qualifying.json failed; using cached response\n",
      "Traceback (most recent call last):\n",
      "  File \"/home/lore/anaconda3/lib/python3.10/site-packages/requests_cache/session.py\", line 255, in _resend\n",
      "    response = self._send_and_cache(request, actions, cached_response, **kwargs)\n",
      "  File \"/home/lore/anaconda3/lib/python3.10/site-packages/requests_cache/session.py\", line 229, in _send_and_cache\n",
      "    response = super().send(request, **kwargs)\n",
      "  File \"/home/lore/anaconda3/lib/python3.10/site-packages/fastf1/req.py\", line 122, in send\n",
      "    lim.limit()\n",
      "  File \"/home/lore/anaconda3/lib/python3.10/site-packages/fastf1/req.py\", line 99, in limit\n",
      "    raise RateLimitExceededError(self._info)\n",
      "fastf1.req.RateLimitExceededError: ergast.com: 200 calls/h\n",
      "req            INFO \tUsing cached data for session_status_data\n",
      "req            INFO \tUsing cached data for track_status_data\n",
      "req            INFO \tUsing cached data for _extended_timing_data\n",
      "req            INFO \tUsing cached data for timing_app_data\n",
      "core           INFO \tProcessing timing data...\n"
     ]
    },
    {
     "name": "stdout",
     "output_type": "stream",
     "text": [
      "2020\n"
     ]
    },
    {
     "name": "stderr",
     "output_type": "stream",
     "text": [
      "req            INFO \tUsing cached data for car_data\n",
      "req            INFO \tUsing cached data for position_data\n",
      "req            INFO \tUsing cached data for weather_data\n",
      "req            INFO \tUsing cached data for race_control_messages\n",
      "core           INFO \tFinished loading data for 20 drivers: ['18', '33', '11', '23', '3', '44', '31', '7', '77', '99', '4', '5', '55', '16', '10', '20', '26', '63', '8', '6']\n",
      "core           INFO \tLoading data for Bahrain Grand Prix - Qualifying [v3.1.2]\n",
      "req            INFO \tUsing cached data for session_info\n",
      "req            INFO \tUsing cached data for driver_info\n",
      "Request for URL https://ergast.com/api/f1/2020/15/qualifying.json failed; using cached response\n",
      "Traceback (most recent call last):\n",
      "  File \"/home/lore/anaconda3/lib/python3.10/site-packages/requests_cache/session.py\", line 255, in _resend\n",
      "    response = self._send_and_cache(request, actions, cached_response, **kwargs)\n",
      "  File \"/home/lore/anaconda3/lib/python3.10/site-packages/requests_cache/session.py\", line 229, in _send_and_cache\n",
      "    response = super().send(request, **kwargs)\n",
      "  File \"/home/lore/anaconda3/lib/python3.10/site-packages/fastf1/req.py\", line 122, in send\n",
      "    lim.limit()\n",
      "  File \"/home/lore/anaconda3/lib/python3.10/site-packages/fastf1/req.py\", line 99, in limit\n",
      "    raise RateLimitExceededError(self._info)\n",
      "fastf1.req.RateLimitExceededError: ergast.com: 200 calls/h\n",
      "req            INFO \tUsing cached data for session_status_data\n",
      "req            INFO \tUsing cached data for track_status_data\n",
      "req            INFO \tUsing cached data for _extended_timing_data\n",
      "req            INFO \tUsing cached data for timing_app_data\n",
      "core           INFO \tProcessing timing data...\n"
     ]
    },
    {
     "name": "stdout",
     "output_type": "stream",
     "text": [
      "2020\n"
     ]
    },
    {
     "name": "stderr",
     "output_type": "stream",
     "text": [
      "req            INFO \tUsing cached data for car_data\n",
      "req            INFO \tUsing cached data for position_data\n",
      "req            INFO \tUsing cached data for weather_data\n",
      "req            INFO \tUsing cached data for race_control_messages\n",
      "core           INFO \tFinished loading data for 20 drivers: ['44', '77', '33', '23', '11', '3', '31', '10', '4', '26', '5', '16', '18', '63', '55', '99', '7', '20', '8', '6']\n",
      "core           INFO \tLoading data for Bahrain Grand Prix - Qualifying [v3.1.2]\n",
      "req            INFO \tUsing cached data for session_info\n",
      "req            INFO \tUsing cached data for driver_info\n",
      "Request for URL https://ergast.com/api/f1/2020/15/qualifying.json failed; using cached response\n",
      "Traceback (most recent call last):\n",
      "  File \"/home/lore/anaconda3/lib/python3.10/site-packages/requests_cache/session.py\", line 255, in _resend\n",
      "    response = self._send_and_cache(request, actions, cached_response, **kwargs)\n",
      "  File \"/home/lore/anaconda3/lib/python3.10/site-packages/requests_cache/session.py\", line 229, in _send_and_cache\n",
      "    response = super().send(request, **kwargs)\n",
      "  File \"/home/lore/anaconda3/lib/python3.10/site-packages/fastf1/req.py\", line 122, in send\n",
      "    lim.limit()\n",
      "  File \"/home/lore/anaconda3/lib/python3.10/site-packages/fastf1/req.py\", line 99, in limit\n",
      "    raise RateLimitExceededError(self._info)\n",
      "fastf1.req.RateLimitExceededError: ergast.com: 200 calls/h\n",
      "req            INFO \tUsing cached data for session_status_data\n",
      "req            INFO \tUsing cached data for track_status_data\n",
      "req            INFO \tUsing cached data for _extended_timing_data\n",
      "req            INFO \tUsing cached data for timing_app_data\n",
      "core           INFO \tProcessing timing data...\n"
     ]
    },
    {
     "name": "stdout",
     "output_type": "stream",
     "text": [
      "2020\n"
     ]
    },
    {
     "name": "stderr",
     "output_type": "stream",
     "text": [
      "req            INFO \tUsing cached data for car_data\n",
      "req            INFO \tUsing cached data for position_data\n",
      "req            INFO \tUsing cached data for weather_data\n",
      "req            INFO \tUsing cached data for race_control_messages\n",
      "core           INFO \tFinished loading data for 20 drivers: ['44', '77', '33', '23', '11', '3', '31', '10', '4', '26', '5', '16', '18', '63', '55', '99', '7', '20', '8', '6']\n",
      "core           INFO \tLoading data for Abu Dhabi Grand Prix - Qualifying [v3.1.2]\n",
      "req            INFO \tUsing cached data for session_info\n",
      "req            INFO \tUsing cached data for driver_info\n",
      "Request for URL https://ergast.com/api/f1/2020/17/qualifying.json failed; using cached response\n",
      "Traceback (most recent call last):\n",
      "  File \"/home/lore/anaconda3/lib/python3.10/site-packages/requests_cache/session.py\", line 255, in _resend\n",
      "    response = self._send_and_cache(request, actions, cached_response, **kwargs)\n",
      "  File \"/home/lore/anaconda3/lib/python3.10/site-packages/requests_cache/session.py\", line 229, in _send_and_cache\n",
      "    response = super().send(request, **kwargs)\n",
      "  File \"/home/lore/anaconda3/lib/python3.10/site-packages/fastf1/req.py\", line 122, in send\n",
      "    lim.limit()\n",
      "  File \"/home/lore/anaconda3/lib/python3.10/site-packages/fastf1/req.py\", line 99, in limit\n",
      "    raise RateLimitExceededError(self._info)\n",
      "fastf1.req.RateLimitExceededError: ergast.com: 200 calls/h\n",
      "req            INFO \tUsing cached data for session_status_data\n",
      "req            INFO \tUsing cached data for track_status_data\n",
      "req            INFO \tUsing cached data for _extended_timing_data\n",
      "req            INFO \tUsing cached data for timing_app_data\n",
      "core           INFO \tProcessing timing data...\n"
     ]
    },
    {
     "name": "stdout",
     "output_type": "stream",
     "text": [
      "2020\n"
     ]
    },
    {
     "name": "stderr",
     "output_type": "stream",
     "text": [
      "req            INFO \tUsing cached data for car_data\n",
      "req            INFO \tUsing cached data for position_data\n",
      "req            INFO \tUsing cached data for weather_data\n",
      "req            INFO \tUsing cached data for race_control_messages\n",
      "core           INFO \tFinished loading data for 20 drivers: ['33', '77', '44', '4', '23', '55', '26', '18', '16', '10', '31', '3', '5', '99', '11', '7', '20', '63', '51', '6']\n",
      "core           INFO \tLoading data for Bahrain Grand Prix - Qualifying [v3.1.2]\n",
      "req            INFO \tUsing cached data for session_info\n",
      "req            INFO \tUsing cached data for driver_info\n",
      "Request for URL https://ergast.com/api/f1/2021/1/qualifying.json failed; using cached response\n",
      "Traceback (most recent call last):\n",
      "  File \"/home/lore/anaconda3/lib/python3.10/site-packages/requests_cache/session.py\", line 255, in _resend\n",
      "    response = self._send_and_cache(request, actions, cached_response, **kwargs)\n",
      "  File \"/home/lore/anaconda3/lib/python3.10/site-packages/requests_cache/session.py\", line 229, in _send_and_cache\n",
      "    response = super().send(request, **kwargs)\n",
      "  File \"/home/lore/anaconda3/lib/python3.10/site-packages/fastf1/req.py\", line 122, in send\n",
      "    lim.limit()\n",
      "  File \"/home/lore/anaconda3/lib/python3.10/site-packages/fastf1/req.py\", line 99, in limit\n",
      "    raise RateLimitExceededError(self._info)\n",
      "fastf1.req.RateLimitExceededError: ergast.com: 200 calls/h\n",
      "req            INFO \tUsing cached data for session_status_data\n",
      "req            INFO \tUsing cached data for track_status_data\n",
      "req            INFO \tUsing cached data for _extended_timing_data\n",
      "req            INFO \tUsing cached data for timing_app_data\n",
      "core           INFO \tProcessing timing data...\n"
     ]
    },
    {
     "name": "stdout",
     "output_type": "stream",
     "text": [
      "2021\n"
     ]
    },
    {
     "name": "stderr",
     "output_type": "stream",
     "text": [
      "req            INFO \tUsing cached data for car_data\n",
      "req            INFO \tUsing cached data for position_data\n",
      "req            INFO \tUsing cached data for weather_data\n",
      "req            INFO \tUsing cached data for race_control_messages\n",
      "core           INFO \tFinished loading data for 20 drivers: ['33', '44', '77', '16', '10', '3', '4', '55', '14', '18', '11', '99', '22', '7', '63', '31', '6', '5', '47', '9']\n",
      "core           INFO \tLoading data for Bahrain Grand Prix - Qualifying [v3.1.2]\n",
      "req            INFO \tUsing cached data for session_info\n",
      "req            INFO \tUsing cached data for driver_info\n",
      "Request for URL https://ergast.com/api/f1/2021/1/qualifying.json failed; using cached response\n",
      "Traceback (most recent call last):\n",
      "  File \"/home/lore/anaconda3/lib/python3.10/site-packages/requests_cache/session.py\", line 255, in _resend\n",
      "    response = self._send_and_cache(request, actions, cached_response, **kwargs)\n",
      "  File \"/home/lore/anaconda3/lib/python3.10/site-packages/requests_cache/session.py\", line 229, in _send_and_cache\n",
      "    response = super().send(request, **kwargs)\n",
      "  File \"/home/lore/anaconda3/lib/python3.10/site-packages/fastf1/req.py\", line 122, in send\n",
      "    lim.limit()\n",
      "  File \"/home/lore/anaconda3/lib/python3.10/site-packages/fastf1/req.py\", line 99, in limit\n",
      "    raise RateLimitExceededError(self._info)\n",
      "fastf1.req.RateLimitExceededError: ergast.com: 200 calls/h\n",
      "req            INFO \tUsing cached data for session_status_data\n",
      "req            INFO \tUsing cached data for track_status_data\n",
      "req            INFO \tUsing cached data for _extended_timing_data\n",
      "req            INFO \tUsing cached data for timing_app_data\n",
      "core           INFO \tProcessing timing data...\n"
     ]
    },
    {
     "name": "stdout",
     "output_type": "stream",
     "text": [
      "2021\n"
     ]
    },
    {
     "name": "stderr",
     "output_type": "stream",
     "text": [
      "req            INFO \tUsing cached data for car_data\n",
      "req            INFO \tUsing cached data for position_data\n",
      "req            INFO \tUsing cached data for weather_data\n",
      "req            INFO \tUsing cached data for race_control_messages\n",
      "core           INFO \tFinished loading data for 20 drivers: ['33', '44', '77', '16', '10', '3', '4', '55', '14', '18', '11', '99', '22', '7', '63', '31', '6', '5', '47', '9']\n",
      "core           INFO \tLoading data for Emilia Romagna Grand Prix - Qualifying [v3.1.2]\n",
      "req            INFO \tUsing cached data for session_info\n",
      "req            INFO \tUsing cached data for driver_info\n",
      "Request for URL https://ergast.com/api/f1/2021/2/qualifying.json failed; using cached response\n",
      "Traceback (most recent call last):\n",
      "  File \"/home/lore/anaconda3/lib/python3.10/site-packages/requests_cache/session.py\", line 255, in _resend\n",
      "    response = self._send_and_cache(request, actions, cached_response, **kwargs)\n",
      "  File \"/home/lore/anaconda3/lib/python3.10/site-packages/requests_cache/session.py\", line 229, in _send_and_cache\n",
      "    response = super().send(request, **kwargs)\n",
      "  File \"/home/lore/anaconda3/lib/python3.10/site-packages/fastf1/req.py\", line 122, in send\n",
      "    lim.limit()\n",
      "  File \"/home/lore/anaconda3/lib/python3.10/site-packages/fastf1/req.py\", line 99, in limit\n",
      "    raise RateLimitExceededError(self._info)\n",
      "fastf1.req.RateLimitExceededError: ergast.com: 200 calls/h\n",
      "req            INFO \tUsing cached data for session_status_data\n",
      "req            INFO \tUsing cached data for track_status_data\n",
      "req            INFO \tUsing cached data for _extended_timing_data\n",
      "req            INFO \tUsing cached data for timing_app_data\n",
      "core           INFO \tProcessing timing data...\n"
     ]
    },
    {
     "name": "stdout",
     "output_type": "stream",
     "text": [
      "2021\n"
     ]
    },
    {
     "name": "stderr",
     "output_type": "stream",
     "text": [
      "req            INFO \tUsing cached data for car_data\n",
      "req            INFO \tUsing cached data for position_data\n",
      "req            INFO \tUsing cached data for weather_data\n",
      "req            INFO \tUsing cached data for race_control_messages\n",
      "core           INFO \tFinished loading data for 20 drivers: ['44', '11', '33', '16', '10', '3', '4', '77', '31', '18', '55', '63', '5', '6', '14', '7', '99', '47', '9', '22']\n",
      "core           INFO \tLoading data for Portuguese Grand Prix - Qualifying [v3.1.2]\n",
      "req            INFO \tUsing cached data for session_info\n",
      "req            INFO \tUsing cached data for driver_info\n",
      "Request for URL https://ergast.com/api/f1/2021/3/qualifying.json failed; using cached response\n",
      "Traceback (most recent call last):\n",
      "  File \"/home/lore/anaconda3/lib/python3.10/site-packages/requests_cache/session.py\", line 255, in _resend\n",
      "    response = self._send_and_cache(request, actions, cached_response, **kwargs)\n",
      "  File \"/home/lore/anaconda3/lib/python3.10/site-packages/requests_cache/session.py\", line 229, in _send_and_cache\n",
      "    response = super().send(request, **kwargs)\n",
      "  File \"/home/lore/anaconda3/lib/python3.10/site-packages/fastf1/req.py\", line 122, in send\n",
      "    lim.limit()\n",
      "  File \"/home/lore/anaconda3/lib/python3.10/site-packages/fastf1/req.py\", line 99, in limit\n",
      "    raise RateLimitExceededError(self._info)\n",
      "fastf1.req.RateLimitExceededError: ergast.com: 200 calls/h\n",
      "req            INFO \tUsing cached data for session_status_data\n",
      "req            INFO \tUsing cached data for track_status_data\n",
      "req            INFO \tUsing cached data for _extended_timing_data\n",
      "req            INFO \tUsing cached data for timing_app_data\n",
      "core           INFO \tProcessing timing data...\n"
     ]
    },
    {
     "name": "stdout",
     "output_type": "stream",
     "text": [
      "2021\n"
     ]
    },
    {
     "name": "stderr",
     "output_type": "stream",
     "text": [
      "req            INFO \tUsing cached data for car_data\n",
      "req            INFO \tUsing cached data for position_data\n",
      "req            INFO \tUsing cached data for weather_data\n",
      "req            INFO \tUsing cached data for race_control_messages\n",
      "core           INFO \tFinished loading data for 20 drivers: ['77', '44', '33', '11', '55', '31', '4', '16', '10', '5', '63', '99', '14', '22', '7', '3', '18', '6', '47', '9']\n",
      "core           INFO \tLoading data for Spanish Grand Prix - Qualifying [v3.1.2]\n",
      "req            INFO \tUsing cached data for session_info\n",
      "req            INFO \tUsing cached data for driver_info\n",
      "Request for URL https://ergast.com/api/f1/2021/4/qualifying.json failed; using cached response\n",
      "Traceback (most recent call last):\n",
      "  File \"/home/lore/anaconda3/lib/python3.10/site-packages/requests_cache/session.py\", line 255, in _resend\n",
      "    response = self._send_and_cache(request, actions, cached_response, **kwargs)\n",
      "  File \"/home/lore/anaconda3/lib/python3.10/site-packages/requests_cache/session.py\", line 229, in _send_and_cache\n",
      "    response = super().send(request, **kwargs)\n",
      "  File \"/home/lore/anaconda3/lib/python3.10/site-packages/fastf1/req.py\", line 122, in send\n",
      "    lim.limit()\n",
      "  File \"/home/lore/anaconda3/lib/python3.10/site-packages/fastf1/req.py\", line 99, in limit\n",
      "    raise RateLimitExceededError(self._info)\n",
      "fastf1.req.RateLimitExceededError: ergast.com: 200 calls/h\n",
      "req            INFO \tUsing cached data for session_status_data\n",
      "req            INFO \tUsing cached data for track_status_data\n",
      "req            INFO \tUsing cached data for _extended_timing_data\n",
      "req            INFO \tUsing cached data for timing_app_data\n",
      "core           INFO \tProcessing timing data...\n"
     ]
    },
    {
     "name": "stdout",
     "output_type": "stream",
     "text": [
      "2021\n"
     ]
    },
    {
     "name": "stderr",
     "output_type": "stream",
     "text": [
      "req            INFO \tUsing cached data for car_data\n",
      "req            INFO \tUsing cached data for position_data\n",
      "req            INFO \tUsing cached data for weather_data\n",
      "req            INFO \tUsing cached data for race_control_messages\n",
      "core           INFO \tFinished loading data for 20 drivers: ['44', '33', '77', '16', '31', '55', '3', '11', '4', '14', '18', '10', '5', '99', '63', '22', '7', '47', '6', '9']\n",
      "core           INFO \tLoading data for Monaco Grand Prix - Qualifying [v3.1.2]\n",
      "req            INFO \tUsing cached data for session_info\n",
      "req            INFO \tUsing cached data for driver_info\n",
      "Request for URL https://ergast.com/api/f1/2021/5/qualifying.json failed; using cached response\n",
      "Traceback (most recent call last):\n",
      "  File \"/home/lore/anaconda3/lib/python3.10/site-packages/requests_cache/session.py\", line 255, in _resend\n",
      "    response = self._send_and_cache(request, actions, cached_response, **kwargs)\n",
      "  File \"/home/lore/anaconda3/lib/python3.10/site-packages/requests_cache/session.py\", line 229, in _send_and_cache\n",
      "    response = super().send(request, **kwargs)\n",
      "  File \"/home/lore/anaconda3/lib/python3.10/site-packages/fastf1/req.py\", line 122, in send\n",
      "    lim.limit()\n",
      "  File \"/home/lore/anaconda3/lib/python3.10/site-packages/fastf1/req.py\", line 99, in limit\n",
      "    raise RateLimitExceededError(self._info)\n",
      "fastf1.req.RateLimitExceededError: ergast.com: 200 calls/h\n",
      "req            INFO \tUsing cached data for session_status_data\n",
      "req            INFO \tUsing cached data for track_status_data\n",
      "req            INFO \tUsing cached data for _extended_timing_data\n",
      "req            INFO \tUsing cached data for timing_app_data\n",
      "core           INFO \tProcessing timing data...\n"
     ]
    },
    {
     "name": "stdout",
     "output_type": "stream",
     "text": [
      "2021\n"
     ]
    },
    {
     "name": "stderr",
     "output_type": "stream",
     "text": [
      "core        WARNING \tNo lap data for driver 47\n",
      "core        WARNING \tFailed to perform lap accuracy check - all laps marked as inaccurate.\n",
      "req            INFO \tUsing cached data for car_data\n",
      "req            INFO \tUsing cached data for position_data\n",
      "req            INFO \tUsing cached data for weather_data\n",
      "req            INFO \tUsing cached data for race_control_messages\n",
      "core           INFO \tFinished loading data for 20 drivers: ['16', '33', '77', '55', '4', '10', '44', '5', '11', '99', '31', '3', '18', '7', '63', '22', '14', '6', '9', '47']\n",
      "core           INFO \tLoading data for Azerbaijan Grand Prix - Qualifying [v3.1.2]\n",
      "req            INFO \tUsing cached data for session_info\n",
      "req            INFO \tUsing cached data for driver_info\n",
      "Request for URL https://ergast.com/api/f1/2021/6/qualifying.json failed; using cached response\n",
      "Traceback (most recent call last):\n",
      "  File \"/home/lore/anaconda3/lib/python3.10/site-packages/requests_cache/session.py\", line 255, in _resend\n",
      "    response = self._send_and_cache(request, actions, cached_response, **kwargs)\n",
      "  File \"/home/lore/anaconda3/lib/python3.10/site-packages/requests_cache/session.py\", line 229, in _send_and_cache\n",
      "    response = super().send(request, **kwargs)\n",
      "  File \"/home/lore/anaconda3/lib/python3.10/site-packages/fastf1/req.py\", line 122, in send\n",
      "    lim.limit()\n",
      "  File \"/home/lore/anaconda3/lib/python3.10/site-packages/fastf1/req.py\", line 99, in limit\n",
      "    raise RateLimitExceededError(self._info)\n",
      "fastf1.req.RateLimitExceededError: ergast.com: 200 calls/h\n",
      "req            INFO \tUsing cached data for session_status_data\n",
      "req            INFO \tUsing cached data for track_status_data\n",
      "req            INFO \tUsing cached data for _extended_timing_data\n",
      "req            INFO \tUsing cached data for timing_app_data\n",
      "core           INFO \tProcessing timing data...\n"
     ]
    },
    {
     "name": "stdout",
     "output_type": "stream",
     "text": [
      "2021\n"
     ]
    },
    {
     "name": "stderr",
     "output_type": "stream",
     "text": [
      "req            INFO \tUsing cached data for car_data\n",
      "req            INFO \tUsing cached data for position_data\n",
      "req            INFO \tUsing cached data for weather_data\n",
      "req            INFO \tUsing cached data for race_control_messages\n",
      "core           INFO \tFinished loading data for 20 drivers: ['16', '44', '33', '10', '55', '4', '11', '22', '14', '77', '5', '31', '3', '7', '63', '6', '47', '9', '18', '99']\n",
      "core           INFO \tLoading data for French Grand Prix - Qualifying [v3.1.2]\n",
      "req            INFO \tUsing cached data for session_info\n",
      "req            INFO \tUsing cached data for driver_info\n",
      "Request for URL https://ergast.com/api/f1/2021/7/qualifying.json failed; using cached response\n",
      "Traceback (most recent call last):\n",
      "  File \"/home/lore/anaconda3/lib/python3.10/site-packages/requests_cache/session.py\", line 255, in _resend\n",
      "    response = self._send_and_cache(request, actions, cached_response, **kwargs)\n",
      "  File \"/home/lore/anaconda3/lib/python3.10/site-packages/requests_cache/session.py\", line 229, in _send_and_cache\n",
      "    response = super().send(request, **kwargs)\n",
      "  File \"/home/lore/anaconda3/lib/python3.10/site-packages/fastf1/req.py\", line 122, in send\n",
      "    lim.limit()\n",
      "  File \"/home/lore/anaconda3/lib/python3.10/site-packages/fastf1/req.py\", line 99, in limit\n",
      "    raise RateLimitExceededError(self._info)\n",
      "fastf1.req.RateLimitExceededError: ergast.com: 200 calls/h\n",
      "req            INFO \tUsing cached data for session_status_data\n",
      "req            INFO \tUsing cached data for track_status_data\n",
      "req            INFO \tUsing cached data for _extended_timing_data\n",
      "req            INFO \tUsing cached data for timing_app_data\n",
      "core           INFO \tProcessing timing data...\n"
     ]
    },
    {
     "name": "stdout",
     "output_type": "stream",
     "text": [
      "2021\n"
     ]
    },
    {
     "name": "stderr",
     "output_type": "stream",
     "text": [
      "req            INFO \tUsing cached data for car_data\n",
      "req            INFO \tUsing cached data for position_data\n",
      "req            INFO \tUsing cached data for weather_data\n",
      "req            INFO \tUsing cached data for race_control_messages\n",
      "core           INFO \tFinished loading data for 20 drivers: ['33', '44', '77', '11', '55', '10', '16', '4', '14', '3', '31', '5', '99', '63', '47', '6', '7', '9', '18', '22']\n",
      "core           INFO \tLoading data for Styrian Grand Prix - Qualifying [v3.1.2]\n",
      "req            INFO \tUsing cached data for session_info\n",
      "req            INFO \tUsing cached data for driver_info\n",
      "Request for URL https://ergast.com/api/f1/2021/8/qualifying.json failed; using cached response\n",
      "Traceback (most recent call last):\n",
      "  File \"/home/lore/anaconda3/lib/python3.10/site-packages/requests_cache/session.py\", line 255, in _resend\n",
      "    response = self._send_and_cache(request, actions, cached_response, **kwargs)\n",
      "  File \"/home/lore/anaconda3/lib/python3.10/site-packages/requests_cache/session.py\", line 229, in _send_and_cache\n",
      "    response = super().send(request, **kwargs)\n",
      "  File \"/home/lore/anaconda3/lib/python3.10/site-packages/fastf1/req.py\", line 122, in send\n",
      "    lim.limit()\n",
      "  File \"/home/lore/anaconda3/lib/python3.10/site-packages/fastf1/req.py\", line 99, in limit\n",
      "    raise RateLimitExceededError(self._info)\n",
      "fastf1.req.RateLimitExceededError: ergast.com: 200 calls/h\n",
      "req            INFO \tUsing cached data for session_status_data\n",
      "req            INFO \tUsing cached data for track_status_data\n",
      "req            INFO \tUsing cached data for _extended_timing_data\n",
      "req            INFO \tUsing cached data for timing_app_data\n",
      "core           INFO \tProcessing timing data...\n"
     ]
    },
    {
     "name": "stdout",
     "output_type": "stream",
     "text": [
      "2021\n"
     ]
    },
    {
     "name": "stderr",
     "output_type": "stream",
     "text": [
      "req            INFO \tUsing cached data for car_data\n",
      "req            INFO \tUsing cached data for position_data\n",
      "req            INFO \tUsing cached data for weather_data\n",
      "req            INFO \tUsing cached data for race_control_messages\n",
      "core           INFO \tFinished loading data for 20 drivers: ['33', '77', '44', '4', '11', '10', '16', '22', '14', '18', '63', '55', '3', '5', '99', '6', '31', '7', '47', '9']\n",
      "core           INFO \tLoading data for Styrian Grand Prix - Qualifying [v3.1.2]\n",
      "req            INFO \tUsing cached data for session_info\n",
      "req            INFO \tUsing cached data for driver_info\n",
      "Request for URL https://ergast.com/api/f1/2021/8/qualifying.json failed; using cached response\n",
      "Traceback (most recent call last):\n",
      "  File \"/home/lore/anaconda3/lib/python3.10/site-packages/requests_cache/session.py\", line 255, in _resend\n",
      "    response = self._send_and_cache(request, actions, cached_response, **kwargs)\n",
      "  File \"/home/lore/anaconda3/lib/python3.10/site-packages/requests_cache/session.py\", line 229, in _send_and_cache\n",
      "    response = super().send(request, **kwargs)\n",
      "  File \"/home/lore/anaconda3/lib/python3.10/site-packages/fastf1/req.py\", line 122, in send\n",
      "    lim.limit()\n",
      "  File \"/home/lore/anaconda3/lib/python3.10/site-packages/fastf1/req.py\", line 99, in limit\n",
      "    raise RateLimitExceededError(self._info)\n",
      "fastf1.req.RateLimitExceededError: ergast.com: 200 calls/h\n",
      "req            INFO \tUsing cached data for session_status_data\n",
      "req            INFO \tUsing cached data for track_status_data\n",
      "req            INFO \tUsing cached data for _extended_timing_data\n",
      "req            INFO \tUsing cached data for timing_app_data\n",
      "core           INFO \tProcessing timing data...\n"
     ]
    },
    {
     "name": "stdout",
     "output_type": "stream",
     "text": [
      "2021\n"
     ]
    },
    {
     "name": "stderr",
     "output_type": "stream",
     "text": [
      "req            INFO \tUsing cached data for car_data\n",
      "req            INFO \tUsing cached data for position_data\n",
      "req            INFO \tUsing cached data for weather_data\n",
      "req            INFO \tUsing cached data for race_control_messages\n",
      "core           INFO \tFinished loading data for 20 drivers: ['33', '77', '44', '4', '11', '10', '16', '22', '14', '18', '63', '55', '3', '5', '99', '6', '31', '7', '47', '9']\n",
      "core           INFO \tLoading data for British Grand Prix - Qualifying [v3.1.2]\n",
      "req            INFO \tUsing cached data for session_info\n",
      "req            INFO \tUsing cached data for driver_info\n",
      "Request for URL https://ergast.com/api/f1/2021/10/qualifying.json failed; using cached response\n",
      "Traceback (most recent call last):\n",
      "  File \"/home/lore/anaconda3/lib/python3.10/site-packages/requests_cache/session.py\", line 255, in _resend\n",
      "    response = self._send_and_cache(request, actions, cached_response, **kwargs)\n",
      "  File \"/home/lore/anaconda3/lib/python3.10/site-packages/requests_cache/session.py\", line 229, in _send_and_cache\n",
      "    response = super().send(request, **kwargs)\n",
      "  File \"/home/lore/anaconda3/lib/python3.10/site-packages/fastf1/req.py\", line 122, in send\n",
      "    lim.limit()\n",
      "  File \"/home/lore/anaconda3/lib/python3.10/site-packages/fastf1/req.py\", line 99, in limit\n",
      "    raise RateLimitExceededError(self._info)\n",
      "fastf1.req.RateLimitExceededError: ergast.com: 200 calls/h\n",
      "req            INFO \tUsing cached data for session_status_data\n",
      "req            INFO \tUsing cached data for track_status_data\n",
      "req            INFO \tUsing cached data for _extended_timing_data\n",
      "req            INFO \tUsing cached data for timing_app_data\n",
      "core           INFO \tProcessing timing data...\n"
     ]
    },
    {
     "name": "stdout",
     "output_type": "stream",
     "text": [
      "2021\n"
     ]
    },
    {
     "name": "stderr",
     "output_type": "stream",
     "text": [
      "req            INFO \tUsing cached data for car_data\n",
      "req            INFO \tUsing cached data for position_data\n",
      "req            INFO \tUsing cached data for weather_data\n",
      "req            INFO \tUsing cached data for race_control_messages\n",
      "core           INFO \tFinished loading data for 20 drivers: ['44', '33', '77', '16', '11', '4', '3', '63', '55', '5', '14', '10', '31', '99', '18', '22', '7', '6', '47', '9']\n",
      "core           INFO \tLoading data for Hungarian Grand Prix - Qualifying [v3.1.2]\n",
      "req            INFO \tUsing cached data for session_info\n",
      "req            INFO \tUsing cached data for driver_info\n",
      "Request for URL https://ergast.com/api/f1/2021/11/qualifying.json failed; using cached response\n",
      "Traceback (most recent call last):\n",
      "  File \"/home/lore/anaconda3/lib/python3.10/site-packages/requests_cache/session.py\", line 255, in _resend\n",
      "    response = self._send_and_cache(request, actions, cached_response, **kwargs)\n",
      "  File \"/home/lore/anaconda3/lib/python3.10/site-packages/requests_cache/session.py\", line 229, in _send_and_cache\n",
      "    response = super().send(request, **kwargs)\n",
      "  File \"/home/lore/anaconda3/lib/python3.10/site-packages/fastf1/req.py\", line 122, in send\n",
      "    lim.limit()\n",
      "  File \"/home/lore/anaconda3/lib/python3.10/site-packages/fastf1/req.py\", line 99, in limit\n",
      "    raise RateLimitExceededError(self._info)\n",
      "fastf1.req.RateLimitExceededError: ergast.com: 200 calls/h\n",
      "req            INFO \tUsing cached data for session_status_data\n",
      "req            INFO \tUsing cached data for track_status_data\n",
      "req            INFO \tUsing cached data for _extended_timing_data\n",
      "req            INFO \tUsing cached data for timing_app_data\n",
      "core           INFO \tProcessing timing data...\n"
     ]
    },
    {
     "name": "stdout",
     "output_type": "stream",
     "text": [
      "2021\n"
     ]
    },
    {
     "name": "stderr",
     "output_type": "stream",
     "text": [
      "core        WARNING \tNo lap data for driver 47\n",
      "core        WARNING \tFailed to perform lap accuracy check - all laps marked as inaccurate.\n",
      "req            INFO \tUsing cached data for car_data\n",
      "req            INFO \tUsing cached data for position_data\n",
      "req            INFO \tUsing cached data for weather_data\n",
      "req            INFO \tUsing cached data for race_control_messages\n",
      "core           INFO \tFinished loading data for 20 drivers: ['44', '77', '33', '11', '10', '4', '16', '31', '14', '5', '3', '18', '7', '99', '55', '22', '63', '6', '9', '47']\n",
      "core           INFO \tLoading data for Belgian Grand Prix - Qualifying [v3.1.2]\n",
      "req            INFO \tUsing cached data for session_info\n",
      "req            INFO \tUsing cached data for driver_info\n",
      "Request for URL https://ergast.com/api/f1/2021/12/qualifying.json failed; using cached response\n",
      "Traceback (most recent call last):\n",
      "  File \"/home/lore/anaconda3/lib/python3.10/site-packages/requests_cache/session.py\", line 255, in _resend\n",
      "    response = self._send_and_cache(request, actions, cached_response, **kwargs)\n",
      "  File \"/home/lore/anaconda3/lib/python3.10/site-packages/requests_cache/session.py\", line 229, in _send_and_cache\n",
      "    response = super().send(request, **kwargs)\n",
      "  File \"/home/lore/anaconda3/lib/python3.10/site-packages/fastf1/req.py\", line 122, in send\n",
      "    lim.limit()\n",
      "  File \"/home/lore/anaconda3/lib/python3.10/site-packages/fastf1/req.py\", line 99, in limit\n",
      "    raise RateLimitExceededError(self._info)\n",
      "fastf1.req.RateLimitExceededError: ergast.com: 200 calls/h\n",
      "req            INFO \tUsing cached data for session_status_data\n",
      "req            INFO \tUsing cached data for track_status_data\n",
      "req            INFO \tUsing cached data for _extended_timing_data\n",
      "req            INFO \tUsing cached data for timing_app_data\n",
      "core           INFO \tProcessing timing data...\n"
     ]
    },
    {
     "name": "stdout",
     "output_type": "stream",
     "text": [
      "2021\n"
     ]
    },
    {
     "name": "stderr",
     "output_type": "stream",
     "text": [
      "req            INFO \tUsing cached data for car_data\n",
      "req            INFO \tUsing cached data for position_data\n",
      "req            INFO \tUsing cached data for weather_data\n",
      "req            INFO \tUsing cached data for race_control_messages\n",
      "core           INFO \tFinished loading data for 20 drivers: ['33', '63', '44', '3', '5', '10', '11', '77', '31', '4', '16', '6', '55', '14', '18', '99', '22', '47', '7', '9']\n",
      "core           INFO \tLoading data for Dutch Grand Prix - Qualifying [v3.1.2]\n",
      "req            INFO \tUsing cached data for session_info\n",
      "req            INFO \tUsing cached data for driver_info\n",
      "Request for URL https://ergast.com/api/f1/2021/13/qualifying.json failed; using cached response\n",
      "Traceback (most recent call last):\n",
      "  File \"/home/lore/anaconda3/lib/python3.10/site-packages/requests_cache/session.py\", line 255, in _resend\n",
      "    response = self._send_and_cache(request, actions, cached_response, **kwargs)\n",
      "  File \"/home/lore/anaconda3/lib/python3.10/site-packages/requests_cache/session.py\", line 229, in _send_and_cache\n",
      "    response = super().send(request, **kwargs)\n",
      "  File \"/home/lore/anaconda3/lib/python3.10/site-packages/fastf1/req.py\", line 122, in send\n",
      "    lim.limit()\n",
      "  File \"/home/lore/anaconda3/lib/python3.10/site-packages/fastf1/req.py\", line 99, in limit\n",
      "    raise RateLimitExceededError(self._info)\n",
      "fastf1.req.RateLimitExceededError: ergast.com: 200 calls/h\n",
      "req            INFO \tUsing cached data for session_status_data\n",
      "req            INFO \tUsing cached data for track_status_data\n",
      "req            INFO \tUsing cached data for _extended_timing_data\n",
      "req            INFO \tUsing cached data for timing_app_data\n",
      "core           INFO \tProcessing timing data...\n"
     ]
    },
    {
     "name": "stdout",
     "output_type": "stream",
     "text": [
      "2021\n"
     ]
    },
    {
     "name": "stderr",
     "output_type": "stream",
     "text": [
      "req            INFO \tUsing cached data for car_data\n",
      "req            INFO \tUsing cached data for position_data\n",
      "req            INFO \tUsing cached data for weather_data\n",
      "req            INFO \tUsing cached data for race_control_messages\n",
      "core           INFO \tFinished loading data for 20 drivers: ['33', '44', '77', '10', '16', '55', '99', '31', '14', '3', '63', '18', '4', '6', '22', '11', '5', '88', '47', '9']\n",
      "core           INFO \tLoading data for Italian Grand Prix - Qualifying [v3.1.2]\n",
      "req            INFO \tUsing cached data for session_info\n",
      "req            INFO \tUsing cached data for driver_info\n",
      "Request for URL https://ergast.com/api/f1/2021/14/qualifying.json failed; using cached response\n",
      "Traceback (most recent call last):\n",
      "  File \"/home/lore/anaconda3/lib/python3.10/site-packages/requests_cache/session.py\", line 255, in _resend\n",
      "    response = self._send_and_cache(request, actions, cached_response, **kwargs)\n",
      "  File \"/home/lore/anaconda3/lib/python3.10/site-packages/requests_cache/session.py\", line 229, in _send_and_cache\n",
      "    response = super().send(request, **kwargs)\n",
      "  File \"/home/lore/anaconda3/lib/python3.10/site-packages/fastf1/req.py\", line 122, in send\n",
      "    lim.limit()\n",
      "  File \"/home/lore/anaconda3/lib/python3.10/site-packages/fastf1/req.py\", line 99, in limit\n",
      "    raise RateLimitExceededError(self._info)\n",
      "fastf1.req.RateLimitExceededError: ergast.com: 200 calls/h\n",
      "req            INFO \tUsing cached data for session_status_data\n",
      "req            INFO \tUsing cached data for track_status_data\n",
      "req            INFO \tUsing cached data for _extended_timing_data\n",
      "req            INFO \tUsing cached data for timing_app_data\n",
      "core           INFO \tProcessing timing data...\n"
     ]
    },
    {
     "name": "stdout",
     "output_type": "stream",
     "text": [
      "2021\n"
     ]
    },
    {
     "name": "stderr",
     "output_type": "stream",
     "text": [
      "req            INFO \tUsing cached data for car_data\n",
      "req            INFO \tUsing cached data for position_data\n",
      "req            INFO \tUsing cached data for weather_data\n",
      "req            INFO \tUsing cached data for race_control_messages\n",
      "core           INFO \tFinished loading data for 20 drivers: ['77', '44', '33', '4', '3', '10', '55', '16', '11', '99', '5', '18', '14', '31', '63', '6', '22', '47', '88', '9']\n",
      "core           INFO \tLoading data for Russian Grand Prix - Qualifying [v3.1.2]\n",
      "req            INFO \tUsing cached data for session_info\n",
      "req            INFO \tUsing cached data for driver_info\n",
      "Request for URL https://ergast.com/api/f1/2021/15/qualifying.json failed; using cached response\n",
      "Traceback (most recent call last):\n",
      "  File \"/home/lore/anaconda3/lib/python3.10/site-packages/requests_cache/session.py\", line 255, in _resend\n",
      "    response = self._send_and_cache(request, actions, cached_response, **kwargs)\n",
      "  File \"/home/lore/anaconda3/lib/python3.10/site-packages/requests_cache/session.py\", line 229, in _send_and_cache\n",
      "    response = super().send(request, **kwargs)\n",
      "  File \"/home/lore/anaconda3/lib/python3.10/site-packages/fastf1/req.py\", line 122, in send\n",
      "    lim.limit()\n",
      "  File \"/home/lore/anaconda3/lib/python3.10/site-packages/fastf1/req.py\", line 99, in limit\n",
      "    raise RateLimitExceededError(self._info)\n",
      "fastf1.req.RateLimitExceededError: ergast.com: 200 calls/h\n",
      "req            INFO \tUsing cached data for session_status_data\n",
      "req            INFO \tUsing cached data for track_status_data\n",
      "req            INFO \tUsing cached data for _extended_timing_data\n",
      "req            INFO \tUsing cached data for timing_app_data\n",
      "core           INFO \tProcessing timing data...\n"
     ]
    },
    {
     "name": "stdout",
     "output_type": "stream",
     "text": [
      "2021\n"
     ]
    },
    {
     "name": "stderr",
     "output_type": "stream",
     "text": [
      "req            INFO \tUsing cached data for car_data\n",
      "req            INFO \tUsing cached data for position_data\n",
      "req            INFO \tUsing cached data for weather_data\n",
      "req            INFO \tUsing cached data for race_control_messages\n",
      "core           INFO \tFinished loading data for 20 drivers: ['4', '55', '63', '44', '3', '14', '77', '18', '11', '31', '5', '10', '22', '6', '16', '7', '47', '99', '9', '33']\n",
      "core           INFO \tLoading data for Turkish Grand Prix - Qualifying [v3.1.2]\n",
      "req            INFO \tUsing cached data for session_info\n",
      "req            INFO \tUsing cached data for driver_info\n",
      "Request for URL https://ergast.com/api/f1/2021/16/qualifying.json failed; using cached response\n",
      "Traceback (most recent call last):\n",
      "  File \"/home/lore/anaconda3/lib/python3.10/site-packages/requests_cache/session.py\", line 255, in _resend\n",
      "    response = self._send_and_cache(request, actions, cached_response, **kwargs)\n",
      "  File \"/home/lore/anaconda3/lib/python3.10/site-packages/requests_cache/session.py\", line 229, in _send_and_cache\n",
      "    response = super().send(request, **kwargs)\n",
      "  File \"/home/lore/anaconda3/lib/python3.10/site-packages/fastf1/req.py\", line 122, in send\n",
      "    lim.limit()\n",
      "  File \"/home/lore/anaconda3/lib/python3.10/site-packages/fastf1/req.py\", line 99, in limit\n",
      "    raise RateLimitExceededError(self._info)\n",
      "fastf1.req.RateLimitExceededError: ergast.com: 200 calls/h\n",
      "req            INFO \tUsing cached data for session_status_data\n",
      "req            INFO \tUsing cached data for track_status_data\n",
      "req            INFO \tUsing cached data for _extended_timing_data\n",
      "req            INFO \tUsing cached data for timing_app_data\n",
      "core           INFO \tProcessing timing data...\n"
     ]
    },
    {
     "name": "stdout",
     "output_type": "stream",
     "text": [
      "2021\n"
     ]
    },
    {
     "name": "stderr",
     "output_type": "stream",
     "text": [
      "req            INFO \tUsing cached data for car_data\n",
      "req            INFO \tUsing cached data for position_data\n",
      "req            INFO \tUsing cached data for weather_data\n",
      "req            INFO \tUsing cached data for race_control_messages\n",
      "core           INFO \tFinished loading data for 20 drivers: ['44', '77', '33', '16', '10', '14', '11', '4', '18', '22', '5', '31', '63', '47', '55', '3', '6', '99', '7', '9']\n",
      "core           INFO \tLoading data for United States Grand Prix - Qualifying [v3.1.2]\n",
      "req            INFO \tUsing cached data for session_info\n",
      "req            INFO \tUsing cached data for driver_info\n",
      "Request for URL https://ergast.com/api/f1/2021/17/qualifying.json failed; using cached response\n",
      "Traceback (most recent call last):\n",
      "  File \"/home/lore/anaconda3/lib/python3.10/site-packages/requests_cache/session.py\", line 255, in _resend\n",
      "    response = self._send_and_cache(request, actions, cached_response, **kwargs)\n",
      "  File \"/home/lore/anaconda3/lib/python3.10/site-packages/requests_cache/session.py\", line 229, in _send_and_cache\n",
      "    response = super().send(request, **kwargs)\n",
      "  File \"/home/lore/anaconda3/lib/python3.10/site-packages/fastf1/req.py\", line 122, in send\n",
      "    lim.limit()\n",
      "  File \"/home/lore/anaconda3/lib/python3.10/site-packages/fastf1/req.py\", line 99, in limit\n",
      "    raise RateLimitExceededError(self._info)\n",
      "fastf1.req.RateLimitExceededError: ergast.com: 200 calls/h\n",
      "req            INFO \tUsing cached data for session_status_data\n",
      "req            INFO \tUsing cached data for track_status_data\n",
      "req            INFO \tUsing cached data for _extended_timing_data\n",
      "req            INFO \tUsing cached data for timing_app_data\n",
      "core           INFO \tProcessing timing data...\n"
     ]
    },
    {
     "name": "stdout",
     "output_type": "stream",
     "text": [
      "2021\n"
     ]
    },
    {
     "name": "stderr",
     "output_type": "stream",
     "text": [
      "req            INFO \tUsing cached data for car_data\n",
      "req            INFO \tUsing cached data for position_data\n",
      "req            INFO \tUsing cached data for weather_data\n",
      "req            INFO \tUsing cached data for race_control_messages\n",
      "core           INFO \tFinished loading data for 20 drivers: ['33', '44', '11', '77', '16', '55', '3', '4', '10', '22', '31', '5', '99', '14', '63', '18', '6', '7', '47', '9']\n",
      "core           INFO \tLoading data for Mexico City Grand Prix - Qualifying [v3.1.2]\n",
      "req            INFO \tUsing cached data for session_info\n",
      "req            INFO \tUsing cached data for driver_info\n",
      "Request for URL https://ergast.com/api/f1/2021/18/qualifying.json failed; using cached response\n",
      "Traceback (most recent call last):\n",
      "  File \"/home/lore/anaconda3/lib/python3.10/site-packages/requests_cache/session.py\", line 255, in _resend\n",
      "    response = self._send_and_cache(request, actions, cached_response, **kwargs)\n",
      "  File \"/home/lore/anaconda3/lib/python3.10/site-packages/requests_cache/session.py\", line 229, in _send_and_cache\n",
      "    response = super().send(request, **kwargs)\n",
      "  File \"/home/lore/anaconda3/lib/python3.10/site-packages/fastf1/req.py\", line 122, in send\n",
      "    lim.limit()\n",
      "  File \"/home/lore/anaconda3/lib/python3.10/site-packages/fastf1/req.py\", line 99, in limit\n",
      "    raise RateLimitExceededError(self._info)\n",
      "fastf1.req.RateLimitExceededError: ergast.com: 200 calls/h\n",
      "req            INFO \tUsing cached data for session_status_data\n",
      "req            INFO \tUsing cached data for track_status_data\n",
      "req            INFO \tUsing cached data for _extended_timing_data\n",
      "req            INFO \tUsing cached data for timing_app_data\n",
      "core           INFO \tProcessing timing data...\n"
     ]
    },
    {
     "name": "stdout",
     "output_type": "stream",
     "text": [
      "2021\n"
     ]
    },
    {
     "name": "stderr",
     "output_type": "stream",
     "text": [
      "req            INFO \tUsing cached data for car_data\n",
      "req            INFO \tUsing cached data for position_data\n",
      "req            INFO \tUsing cached data for weather_data\n",
      "req            INFO \tUsing cached data for race_control_messages\n",
      "core           INFO \tFinished loading data for 20 drivers: ['77', '44', '33', '11', '10', '55', '3', '16', '22', '4', '5', '7', '63', '99', '31', '14', '6', '47', '9', '18']\n",
      "core           INFO \tLoading data for São Paulo Grand Prix - Qualifying [v3.1.2]\n",
      "req            INFO \tUsing cached data for session_info\n",
      "req            INFO \tUsing cached data for driver_info\n",
      "Request for URL https://ergast.com/api/f1/2021/19/qualifying.json failed; using cached response\n",
      "Traceback (most recent call last):\n",
      "  File \"/home/lore/anaconda3/lib/python3.10/site-packages/requests_cache/session.py\", line 255, in _resend\n",
      "    response = self._send_and_cache(request, actions, cached_response, **kwargs)\n",
      "  File \"/home/lore/anaconda3/lib/python3.10/site-packages/requests_cache/session.py\", line 229, in _send_and_cache\n",
      "    response = super().send(request, **kwargs)\n",
      "  File \"/home/lore/anaconda3/lib/python3.10/site-packages/fastf1/req.py\", line 122, in send\n",
      "    lim.limit()\n",
      "  File \"/home/lore/anaconda3/lib/python3.10/site-packages/fastf1/req.py\", line 99, in limit\n",
      "    raise RateLimitExceededError(self._info)\n",
      "fastf1.req.RateLimitExceededError: ergast.com: 200 calls/h\n",
      "req            INFO \tUsing cached data for session_status_data\n",
      "req            INFO \tUsing cached data for track_status_data\n",
      "req            INFO \tUsing cached data for _extended_timing_data\n",
      "req            INFO \tUsing cached data for timing_app_data\n",
      "core           INFO \tProcessing timing data...\n"
     ]
    },
    {
     "name": "stdout",
     "output_type": "stream",
     "text": [
      "2021\n"
     ]
    },
    {
     "name": "stderr",
     "output_type": "stream",
     "text": [
      "req            INFO \tUsing cached data for car_data\n",
      "req            INFO \tUsing cached data for position_data\n",
      "req            INFO \tUsing cached data for weather_data\n",
      "req            INFO \tUsing cached data for race_control_messages\n",
      "core           INFO \tFinished loading data for 20 drivers: ['44', '33', '77', '11', '10', '55', '16', '4', '3', '14', '31', '5', '22', '7', '99', '18', '6', '63', '47', '9']\n",
      "core           INFO \tLoading data for Qatar Grand Prix - Qualifying [v3.1.2]\n",
      "req            INFO \tUsing cached data for session_info\n",
      "req            INFO \tUsing cached data for driver_info\n",
      "Request for URL https://ergast.com/api/f1/2021/20/qualifying.json failed; using cached response\n",
      "Traceback (most recent call last):\n",
      "  File \"/home/lore/anaconda3/lib/python3.10/site-packages/requests_cache/session.py\", line 255, in _resend\n",
      "    response = self._send_and_cache(request, actions, cached_response, **kwargs)\n",
      "  File \"/home/lore/anaconda3/lib/python3.10/site-packages/requests_cache/session.py\", line 229, in _send_and_cache\n",
      "    response = super().send(request, **kwargs)\n",
      "  File \"/home/lore/anaconda3/lib/python3.10/site-packages/fastf1/req.py\", line 122, in send\n",
      "    lim.limit()\n",
      "  File \"/home/lore/anaconda3/lib/python3.10/site-packages/fastf1/req.py\", line 99, in limit\n",
      "    raise RateLimitExceededError(self._info)\n",
      "fastf1.req.RateLimitExceededError: ergast.com: 200 calls/h\n",
      "req            INFO \tUsing cached data for session_status_data\n",
      "req            INFO \tUsing cached data for track_status_data\n",
      "req            INFO \tUsing cached data for _extended_timing_data\n",
      "req            INFO \tUsing cached data for timing_app_data\n",
      "core           INFO \tProcessing timing data...\n"
     ]
    },
    {
     "name": "stdout",
     "output_type": "stream",
     "text": [
      "2021\n"
     ]
    },
    {
     "name": "stderr",
     "output_type": "stream",
     "text": [
      "req            INFO \tUsing cached data for car_data\n",
      "req            INFO \tUsing cached data for position_data\n",
      "req            INFO \tUsing cached data for weather_data\n",
      "req            INFO \tUsing cached data for race_control_messages\n",
      "core           INFO \tFinished loading data for 20 drivers: ['44', '33', '77', '10', '14', '4', '55', '22', '31', '5', '11', '18', '16', '3', '63', '7', '6', '99', '47', '9']\n",
      "core           INFO \tLoading data for Saudi Arabian Grand Prix - Qualifying [v3.1.2]\n",
      "req            INFO \tUsing cached data for session_info\n",
      "req            INFO \tUsing cached data for driver_info\n",
      "Request for URL https://ergast.com/api/f1/2021/21/qualifying.json failed; using cached response\n",
      "Traceback (most recent call last):\n",
      "  File \"/home/lore/anaconda3/lib/python3.10/site-packages/requests_cache/session.py\", line 255, in _resend\n",
      "    response = self._send_and_cache(request, actions, cached_response, **kwargs)\n",
      "  File \"/home/lore/anaconda3/lib/python3.10/site-packages/requests_cache/session.py\", line 229, in _send_and_cache\n",
      "    response = super().send(request, **kwargs)\n",
      "  File \"/home/lore/anaconda3/lib/python3.10/site-packages/fastf1/req.py\", line 122, in send\n",
      "    lim.limit()\n",
      "  File \"/home/lore/anaconda3/lib/python3.10/site-packages/fastf1/req.py\", line 99, in limit\n",
      "    raise RateLimitExceededError(self._info)\n",
      "fastf1.req.RateLimitExceededError: ergast.com: 200 calls/h\n",
      "req            INFO \tUsing cached data for session_status_data\n",
      "req            INFO \tUsing cached data for track_status_data\n",
      "req            INFO \tUsing cached data for _extended_timing_data\n",
      "req            INFO \tUsing cached data for timing_app_data\n",
      "core           INFO \tProcessing timing data...\n"
     ]
    },
    {
     "name": "stdout",
     "output_type": "stream",
     "text": [
      "2021\n"
     ]
    },
    {
     "name": "stderr",
     "output_type": "stream",
     "text": [
      "req            INFO \tUsing cached data for car_data\n",
      "req            INFO \tUsing cached data for position_data\n",
      "req            INFO \tUsing cached data for weather_data\n",
      "req            INFO \tUsing cached data for race_control_messages\n",
      "core           INFO \tFinished loading data for 20 drivers: ['44', '77', '33', '16', '11', '10', '4', '22', '31', '99', '3', '7', '14', '63', '55', '6', '5', '18', '47', '9']\n",
      "core           INFO \tLoading data for Abu Dhabi Grand Prix - Qualifying [v3.1.2]\n",
      "req            INFO \tUsing cached data for session_info\n",
      "req            INFO \tUsing cached data for driver_info\n",
      "Request for URL https://ergast.com/api/f1/2021/22/qualifying.json failed; using cached response\n",
      "Traceback (most recent call last):\n",
      "  File \"/home/lore/anaconda3/lib/python3.10/site-packages/requests_cache/session.py\", line 255, in _resend\n",
      "    response = self._send_and_cache(request, actions, cached_response, **kwargs)\n",
      "  File \"/home/lore/anaconda3/lib/python3.10/site-packages/requests_cache/session.py\", line 229, in _send_and_cache\n",
      "    response = super().send(request, **kwargs)\n",
      "  File \"/home/lore/anaconda3/lib/python3.10/site-packages/fastf1/req.py\", line 122, in send\n",
      "    lim.limit()\n",
      "  File \"/home/lore/anaconda3/lib/python3.10/site-packages/fastf1/req.py\", line 99, in limit\n",
      "    raise RateLimitExceededError(self._info)\n",
      "fastf1.req.RateLimitExceededError: ergast.com: 200 calls/h\n",
      "req            INFO \tUsing cached data for session_status_data\n",
      "req            INFO \tUsing cached data for track_status_data\n",
      "req            INFO \tUsing cached data for _extended_timing_data\n",
      "req            INFO \tUsing cached data for timing_app_data\n",
      "core           INFO \tProcessing timing data...\n"
     ]
    },
    {
     "name": "stdout",
     "output_type": "stream",
     "text": [
      "2021\n"
     ]
    },
    {
     "name": "stderr",
     "output_type": "stream",
     "text": [
      "req            INFO \tUsing cached data for car_data\n",
      "req            INFO \tUsing cached data for position_data\n",
      "req            INFO \tUsing cached data for weather_data\n",
      "req            INFO \tUsing cached data for race_control_messages\n",
      "core           INFO \tFinished loading data for 20 drivers: ['33', '44', '4', '11', '55', '77', '16', '22', '31', '3', '14', '10', '18', '99', '5', '6', '63', '7', '47', '9']\n",
      "core           INFO \tLoading data for Spanish Grand Prix - Qualifying [v3.1.2]\n",
      "req            INFO \tNo cached data found for session_info. Loading data...\n",
      "_api           INFO \tFetching session info data...\n"
     ]
    },
    {
     "name": "stdout",
     "output_type": "stream",
     "text": [
      "2022\n"
     ]
    },
    {
     "name": "stderr",
     "output_type": "stream",
     "text": [
      "logger      WARNING \tFailed to load session info data!\n",
      "req            INFO \tNo cached data found for driver_info. Loading data...\n",
      "_api           INFO \tFetching driver list...\n",
      "core        WARNING \tFailed to load extended driver information!\n",
      "Request for URL https://ergast.com/api/f1/2022/6/qualifying.json failed; using cached response\n",
      "Traceback (most recent call last):\n",
      "  File \"/home/lore/anaconda3/lib/python3.10/site-packages/requests_cache/session.py\", line 255, in _resend\n",
      "    response = self._send_and_cache(request, actions, cached_response, **kwargs)\n",
      "  File \"/home/lore/anaconda3/lib/python3.10/site-packages/requests_cache/session.py\", line 229, in _send_and_cache\n",
      "    response = super().send(request, **kwargs)\n",
      "  File \"/home/lore/anaconda3/lib/python3.10/site-packages/fastf1/req.py\", line 122, in send\n",
      "    lim.limit()\n",
      "  File \"/home/lore/anaconda3/lib/python3.10/site-packages/fastf1/req.py\", line 99, in limit\n",
      "    raise RateLimitExceededError(self._info)\n",
      "fastf1.req.RateLimitExceededError: ergast.com: 200 calls/h\n",
      "req            INFO \tNo cached data found for session_status_data. Loading data...\n",
      "_api           INFO \tFetching session status data...\n",
      "logger      WARNING \tFailed to load session status data!\n",
      "req            INFO \tNo cached data found for track_status_data. Loading data...\n",
      "_api           INFO \tFetching track status data...\n",
      "logger      WARNING \tFailed to load track status data!\n",
      "req            INFO \tNo cached data found for _extended_timing_data. Loading data...\n",
      "_api           INFO \tFetching timing data...\n",
      "logger      WARNING \tFailed to load timing data!\n",
      "req            INFO \tNo cached data found for car_data. Loading data...\n",
      "_api           INFO \tFetching car data...\n",
      "core        WARNING \tCar telemetry data is unavailable!\n",
      "req            INFO \tNo cached data found for position_data. Loading data...\n",
      "_api           INFO \tFetching position data...\n",
      "core        WARNING \tCar position data is unavailable!\n",
      "core        WARNING \tFailed to determine `Session.t0_date`!\n",
      "req            INFO \tNo cached data found for weather_data. Loading data...\n",
      "_api           INFO \tFetching weather data...\n",
      "logger      WARNING \tFailed to load weather data!\n",
      "req            INFO \tNo cached data found for race_control_messages. Loading data...\n",
      "_api           INFO \tFetching race control messages...\n",
      "logger      WARNING \tFailed to load race control messages!\n",
      "core           INFO \tFinished loading data for 20 drivers: ['16', '1', '55', '63', '11', '44', '77', '20', '3', '47', '4', '31', '22', '10', '24', '5', '14', '18', '23', '6']\n",
      "core           INFO \tLoading data for Bahrain Grand Prix - Qualifying [v3.1.2]\n",
      "req            INFO \tUsing cached data for session_info\n",
      "req            INFO \tUsing cached data for driver_info\n",
      "Request for URL https://ergast.com/api/f1/2022/1/qualifying.json failed; using cached response\n",
      "Traceback (most recent call last):\n",
      "  File \"/home/lore/anaconda3/lib/python3.10/site-packages/requests_cache/session.py\", line 255, in _resend\n",
      "    response = self._send_and_cache(request, actions, cached_response, **kwargs)\n",
      "  File \"/home/lore/anaconda3/lib/python3.10/site-packages/requests_cache/session.py\", line 229, in _send_and_cache\n",
      "    response = super().send(request, **kwargs)\n",
      "  File \"/home/lore/anaconda3/lib/python3.10/site-packages/fastf1/req.py\", line 122, in send\n",
      "    lim.limit()\n",
      "  File \"/home/lore/anaconda3/lib/python3.10/site-packages/fastf1/req.py\", line 99, in limit\n",
      "    raise RateLimitExceededError(self._info)\n",
      "fastf1.req.RateLimitExceededError: ergast.com: 200 calls/h\n",
      "req            INFO \tUsing cached data for session_status_data\n",
      "req            INFO \tNo cached data found for track_status_data. Loading data...\n",
      "_api           INFO \tFetching track status data...\n"
     ]
    },
    {
     "name": "stdout",
     "output_type": "stream",
     "text": [
      "Error downloading data for year 2022: The data you are trying to access has not been loaded yet. See `Session.load`\n",
      "2022\n"
     ]
    },
    {
     "name": "stderr",
     "output_type": "stream",
     "text": [
      "logger      WARNING \tFailed to load track status data!\n",
      "req            INFO \tNo cached data found for _extended_timing_data. Loading data...\n",
      "_api           INFO \tFetching timing data...\n",
      "logger      WARNING \tFailed to load timing data!\n",
      "req            INFO \tUsing cached data for car_data\n",
      "req            INFO \tUsing cached data for position_data\n",
      "req            INFO \tNo cached data found for weather_data. Loading data...\n",
      "_api           INFO \tFetching weather data...\n",
      "logger      WARNING \tFailed to load weather data!\n",
      "req            INFO \tUsing cached data for race_control_messages\n",
      "core           INFO \tFinished loading data for 20 drivers: ['16', '1', '55', '11', '44', '77', '20', '14', '63', '10', '31', '47', '4', '23', '24', '22', '27', '3', '18', '6']\n",
      "core           INFO \tLoading data for Bahrain Grand Prix - Qualifying [v3.1.2]\n",
      "req            INFO \tUsing cached data for session_info\n",
      "req            INFO \tUsing cached data for driver_info\n",
      "Request for URL https://ergast.com/api/f1/2022/1/qualifying.json failed; using cached response\n",
      "Traceback (most recent call last):\n",
      "  File \"/home/lore/anaconda3/lib/python3.10/site-packages/requests_cache/session.py\", line 255, in _resend\n",
      "    response = self._send_and_cache(request, actions, cached_response, **kwargs)\n",
      "  File \"/home/lore/anaconda3/lib/python3.10/site-packages/requests_cache/session.py\", line 229, in _send_and_cache\n",
      "    response = super().send(request, **kwargs)\n",
      "  File \"/home/lore/anaconda3/lib/python3.10/site-packages/fastf1/req.py\", line 122, in send\n",
      "    lim.limit()\n",
      "  File \"/home/lore/anaconda3/lib/python3.10/site-packages/fastf1/req.py\", line 99, in limit\n",
      "    raise RateLimitExceededError(self._info)\n",
      "fastf1.req.RateLimitExceededError: ergast.com: 200 calls/h\n"
     ]
    },
    {
     "name": "stdout",
     "output_type": "stream",
     "text": [
      "Error downloading data for year 2022: The data you are trying to access has not been loaded yet. See `Session.load`\n",
      "2022\n"
     ]
    },
    {
     "name": "stderr",
     "output_type": "stream",
     "text": [
      "req            INFO \tUsing cached data for session_status_data\n",
      "req            INFO \tNo cached data found for track_status_data. Loading data...\n",
      "_api           INFO \tFetching track status data...\n",
      "logger      WARNING \tFailed to load track status data!\n",
      "req            INFO \tNo cached data found for _extended_timing_data. Loading data...\n",
      "_api           INFO \tFetching timing data...\n",
      "logger      WARNING \tFailed to load timing data!\n",
      "req            INFO \tUsing cached data for car_data\n",
      "req            INFO \tUsing cached data for position_data\n",
      "req            INFO \tNo cached data found for weather_data. Loading data...\n",
      "_api           INFO \tFetching weather data...\n",
      "logger      WARNING \tFailed to load weather data!\n",
      "req            INFO \tUsing cached data for race_control_messages\n",
      "core           INFO \tFinished loading data for 20 drivers: ['16', '1', '55', '11', '44', '77', '20', '14', '63', '10', '31', '47', '4', '23', '24', '22', '27', '3', '18', '6']\n",
      "core           INFO \tLoading data for Saudi Arabian Grand Prix - Qualifying [v3.1.2]\n",
      "req            INFO \tNo cached data found for session_info. Loading data...\n",
      "_api           INFO \tFetching session info data...\n"
     ]
    },
    {
     "name": "stdout",
     "output_type": "stream",
     "text": [
      "Error downloading data for year 2022: The data you are trying to access has not been loaded yet. See `Session.load`\n",
      "2022\n"
     ]
    },
    {
     "name": "stderr",
     "output_type": "stream",
     "text": [
      "logger      WARNING \tFailed to load session info data!\n",
      "req            INFO \tNo cached data found for driver_info. Loading data...\n",
      "_api           INFO \tFetching driver list...\n",
      "core        WARNING \tFailed to load extended driver information!\n",
      "Request for URL https://ergast.com/api/f1/2022/2/qualifying.json failed; using cached response\n",
      "Traceback (most recent call last):\n",
      "  File \"/home/lore/anaconda3/lib/python3.10/site-packages/requests_cache/session.py\", line 255, in _resend\n",
      "    response = self._send_and_cache(request, actions, cached_response, **kwargs)\n",
      "  File \"/home/lore/anaconda3/lib/python3.10/site-packages/requests_cache/session.py\", line 229, in _send_and_cache\n",
      "    response = super().send(request, **kwargs)\n",
      "  File \"/home/lore/anaconda3/lib/python3.10/site-packages/fastf1/req.py\", line 122, in send\n",
      "    lim.limit()\n",
      "  File \"/home/lore/anaconda3/lib/python3.10/site-packages/fastf1/req.py\", line 99, in limit\n",
      "    raise RateLimitExceededError(self._info)\n",
      "fastf1.req.RateLimitExceededError: ergast.com: 200 calls/h\n",
      "req            INFO \tNo cached data found for session_status_data. Loading data...\n",
      "_api           INFO \tFetching session status data...\n",
      "logger      WARNING \tFailed to load session status data!\n",
      "req            INFO \tNo cached data found for track_status_data. Loading data...\n",
      "_api           INFO \tFetching track status data...\n",
      "logger      WARNING \tFailed to load track status data!\n",
      "req            INFO \tNo cached data found for _extended_timing_data. Loading data...\n",
      "_api           INFO \tFetching timing data...\n",
      "logger      WARNING \tFailed to load timing data!\n",
      "req            INFO \tNo cached data found for car_data. Loading data...\n",
      "_api           INFO \tFetching car data...\n",
      "core        WARNING \tCar telemetry data is unavailable!\n",
      "req            INFO \tNo cached data found for position_data. Loading data...\n",
      "_api           INFO \tFetching position data...\n",
      "core        WARNING \tCar position data is unavailable!\n",
      "core        WARNING \tFailed to determine `Session.t0_date`!\n",
      "req            INFO \tNo cached data found for weather_data. Loading data...\n",
      "_api           INFO \tFetching weather data...\n",
      "logger      WARNING \tFailed to load weather data!\n",
      "req            INFO \tNo cached data found for race_control_messages. Loading data...\n",
      "_api           INFO \tFetching race control messages...\n",
      "logger      WARNING \tFailed to load race control messages!\n",
      "core           INFO \tFinished loading data for 20 drivers: ['11', '16', '55', '1', '31', '63', '14', '77', '10', '20', '4', '3', '24', '47', '18', '44', '23', '27', '6', '22']\n",
      "core           INFO \tLoading data for Australian Grand Prix - Qualifying [v3.1.2]\n",
      "req            INFO \tNo cached data found for session_info. Loading data...\n",
      "_api           INFO \tFetching session info data...\n"
     ]
    },
    {
     "name": "stdout",
     "output_type": "stream",
     "text": [
      "Error downloading data for year 2022: The data you are trying to access has not been loaded yet. See `Session.load`\n",
      "2022\n"
     ]
    },
    {
     "name": "stderr",
     "output_type": "stream",
     "text": [
      "logger      WARNING \tFailed to load session info data!\n",
      "req            INFO \tNo cached data found for driver_info. Loading data...\n",
      "_api           INFO \tFetching driver list...\n",
      "core        WARNING \tFailed to load extended driver information!\n",
      "Request for URL https://ergast.com/api/f1/2022/3/qualifying.json failed; using cached response\n",
      "Traceback (most recent call last):\n",
      "  File \"/home/lore/anaconda3/lib/python3.10/site-packages/requests_cache/session.py\", line 255, in _resend\n",
      "    response = self._send_and_cache(request, actions, cached_response, **kwargs)\n",
      "  File \"/home/lore/anaconda3/lib/python3.10/site-packages/requests_cache/session.py\", line 229, in _send_and_cache\n",
      "    response = super().send(request, **kwargs)\n",
      "  File \"/home/lore/anaconda3/lib/python3.10/site-packages/fastf1/req.py\", line 122, in send\n",
      "    lim.limit()\n",
      "  File \"/home/lore/anaconda3/lib/python3.10/site-packages/fastf1/req.py\", line 99, in limit\n",
      "    raise RateLimitExceededError(self._info)\n",
      "fastf1.req.RateLimitExceededError: ergast.com: 200 calls/h\n",
      "req            INFO \tNo cached data found for session_status_data. Loading data...\n",
      "_api           INFO \tFetching session status data...\n",
      "logger      WARNING \tFailed to load session status data!\n",
      "req            INFO \tNo cached data found for track_status_data. Loading data...\n",
      "_api           INFO \tFetching track status data...\n",
      "logger      WARNING \tFailed to load track status data!\n",
      "req            INFO \tNo cached data found for _extended_timing_data. Loading data...\n",
      "_api           INFO \tFetching timing data...\n",
      "logger      WARNING \tFailed to load timing data!\n",
      "req            INFO \tNo cached data found for car_data. Loading data...\n",
      "_api           INFO \tFetching car data...\n",
      "core        WARNING \tCar telemetry data is unavailable!\n",
      "req            INFO \tNo cached data found for position_data. Loading data...\n",
      "_api           INFO \tFetching position data...\n",
      "core        WARNING \tCar position data is unavailable!\n",
      "core        WARNING \tFailed to determine `Session.t0_date`!\n",
      "req            INFO \tNo cached data found for weather_data. Loading data...\n",
      "_api           INFO \tFetching weather data...\n",
      "logger      WARNING \tFailed to load weather data!\n",
      "req            INFO \tNo cached data found for race_control_messages. Loading data...\n",
      "_api           INFO \tFetching race control messages...\n",
      "logger      WARNING \tFailed to load race control messages!\n",
      "core           INFO \tFinished loading data for 20 drivers: ['16', '1', '11', '4', '44', '63', '3', '31', '55', '14', '10', '77', '22', '24', '47', '23', '20', '5', '6', '18']\n",
      "core           INFO \tLoading data for Emilia Romagna Grand Prix - Qualifying [v3.1.2]\n",
      "req            INFO \tNo cached data found for session_info. Loading data...\n"
     ]
    },
    {
     "name": "stdout",
     "output_type": "stream",
     "text": [
      "Error downloading data for year 2022: The data you are trying to access has not been loaded yet. See `Session.load`\n",
      "2022\n"
     ]
    },
    {
     "name": "stderr",
     "output_type": "stream",
     "text": [
      "_api           INFO \tFetching session info data...\n",
      "logger      WARNING \tFailed to load session info data!\n",
      "req            INFO \tNo cached data found for driver_info. Loading data...\n",
      "_api           INFO \tFetching driver list...\n",
      "core        WARNING \tFailed to load extended driver information!\n",
      "Request for URL https://ergast.com/api/f1/2022/4/qualifying.json failed; using cached response\n",
      "Traceback (most recent call last):\n",
      "  File \"/home/lore/anaconda3/lib/python3.10/site-packages/requests_cache/session.py\", line 255, in _resend\n",
      "    response = self._send_and_cache(request, actions, cached_response, **kwargs)\n",
      "  File \"/home/lore/anaconda3/lib/python3.10/site-packages/requests_cache/session.py\", line 229, in _send_and_cache\n",
      "    response = super().send(request, **kwargs)\n",
      "  File \"/home/lore/anaconda3/lib/python3.10/site-packages/fastf1/req.py\", line 122, in send\n",
      "    lim.limit()\n",
      "  File \"/home/lore/anaconda3/lib/python3.10/site-packages/fastf1/req.py\", line 99, in limit\n",
      "    raise RateLimitExceededError(self._info)\n",
      "fastf1.req.RateLimitExceededError: ergast.com: 200 calls/h\n",
      "req            INFO \tNo cached data found for session_status_data. Loading data...\n",
      "_api           INFO \tFetching session status data...\n",
      "logger      WARNING \tFailed to load session status data!\n",
      "req            INFO \tNo cached data found for track_status_data. Loading data...\n",
      "_api           INFO \tFetching track status data...\n",
      "logger      WARNING \tFailed to load track status data!\n",
      "req            INFO \tNo cached data found for _extended_timing_data. Loading data...\n",
      "_api           INFO \tFetching timing data...\n",
      "logger      WARNING \tFailed to load timing data!\n",
      "req            INFO \tNo cached data found for car_data. Loading data...\n",
      "_api           INFO \tFetching car data...\n",
      "core        WARNING \tCar telemetry data is unavailable!\n",
      "req            INFO \tNo cached data found for position_data. Loading data...\n",
      "_api           INFO \tFetching position data...\n",
      "core        WARNING \tCar position data is unavailable!\n",
      "core        WARNING \tFailed to determine `Session.t0_date`!\n",
      "req            INFO \tNo cached data found for weather_data. Loading data...\n",
      "_api           INFO \tFetching weather data...\n",
      "logger      WARNING \tFailed to load weather data!\n",
      "req            INFO \tNo cached data found for race_control_messages. Loading data...\n",
      "_api           INFO \tFetching race control messages...\n",
      "logger      WARNING \tFailed to load race control messages!\n",
      "core           INFO \tFinished loading data for 20 drivers: ['1', '16', '4', '20', '14', '3', '11', '77', '5', '55', '63', '47', '44', '24', '18', '22', '10', '6', '31', '23']\n",
      "core           INFO \tLoading data for Miami Grand Prix - Qualifying [v3.1.2]\n",
      "req            INFO \tNo cached data found for session_info. Loading data...\n",
      "_api           INFO \tFetching session info data...\n"
     ]
    },
    {
     "name": "stdout",
     "output_type": "stream",
     "text": [
      "Error downloading data for year 2022: The data you are trying to access has not been loaded yet. See `Session.load`\n",
      "2022\n"
     ]
    },
    {
     "name": "stderr",
     "output_type": "stream",
     "text": [
      "logger      WARNING \tFailed to load session info data!\n",
      "req            INFO \tNo cached data found for driver_info. Loading data...\n",
      "_api           INFO \tFetching driver list...\n",
      "core        WARNING \tFailed to load extended driver information!\n",
      "Request for URL https://ergast.com/api/f1/2022/5/qualifying.json failed; using cached response\n",
      "Traceback (most recent call last):\n",
      "  File \"/home/lore/anaconda3/lib/python3.10/site-packages/requests_cache/session.py\", line 255, in _resend\n",
      "    response = self._send_and_cache(request, actions, cached_response, **kwargs)\n",
      "  File \"/home/lore/anaconda3/lib/python3.10/site-packages/requests_cache/session.py\", line 229, in _send_and_cache\n",
      "    response = super().send(request, **kwargs)\n",
      "  File \"/home/lore/anaconda3/lib/python3.10/site-packages/fastf1/req.py\", line 122, in send\n",
      "    lim.limit()\n",
      "  File \"/home/lore/anaconda3/lib/python3.10/site-packages/fastf1/req.py\", line 99, in limit\n",
      "    raise RateLimitExceededError(self._info)\n",
      "fastf1.req.RateLimitExceededError: ergast.com: 200 calls/h\n",
      "req            INFO \tNo cached data found for session_status_data. Loading data...\n",
      "_api           INFO \tFetching session status data...\n",
      "logger      WARNING \tFailed to load session status data!\n",
      "req            INFO \tNo cached data found for track_status_data. Loading data...\n",
      "_api           INFO \tFetching track status data...\n",
      "logger      WARNING \tFailed to load track status data!\n",
      "req            INFO \tNo cached data found for _extended_timing_data. Loading data...\n",
      "_api           INFO \tFetching timing data...\n",
      "logger      WARNING \tFailed to load timing data!\n",
      "req            INFO \tNo cached data found for car_data. Loading data...\n",
      "_api           INFO \tFetching car data...\n",
      "core        WARNING \tCar telemetry data is unavailable!\n",
      "req            INFO \tNo cached data found for position_data. Loading data...\n",
      "_api           INFO \tFetching position data...\n",
      "core        WARNING \tCar position data is unavailable!\n",
      "core        WARNING \tFailed to determine `Session.t0_date`!\n",
      "req            INFO \tNo cached data found for weather_data. Loading data...\n",
      "_api           INFO \tFetching weather data...\n",
      "logger      WARNING \tFailed to load weather data!\n",
      "req            INFO \tNo cached data found for race_control_messages. Loading data...\n",
      "_api           INFO \tFetching race control messages...\n",
      "logger      WARNING \tFailed to load race control messages!\n",
      "core           INFO \tFinished loading data for 20 drivers: ['16', '55', '1', '11', '77', '44', '10', '4', '22', '18', '14', '63', '5', '3', '47', '20', '24', '23', '6', '31']\n",
      "core           INFO \tLoading data for Spanish Grand Prix - Qualifying [v3.1.2]\n",
      "req            INFO \tNo cached data found for session_info. Loading data...\n",
      "_api           INFO \tFetching session info data...\n",
      "logger      WARNING \tFailed to load session info data!\n",
      "req            INFO \tNo cached data found for driver_info. Loading data...\n",
      "_api           INFO \tFetching driver list...\n"
     ]
    },
    {
     "name": "stdout",
     "output_type": "stream",
     "text": [
      "Error downloading data for year 2022: The data you are trying to access has not been loaded yet. See `Session.load`\n",
      "2022\n"
     ]
    },
    {
     "name": "stderr",
     "output_type": "stream",
     "text": [
      "core        WARNING \tFailed to load extended driver information!\n",
      "Request for URL https://ergast.com/api/f1/2022/6/qualifying.json failed; using cached response\n",
      "Traceback (most recent call last):\n",
      "  File \"/home/lore/anaconda3/lib/python3.10/site-packages/requests_cache/session.py\", line 255, in _resend\n",
      "    response = self._send_and_cache(request, actions, cached_response, **kwargs)\n",
      "  File \"/home/lore/anaconda3/lib/python3.10/site-packages/requests_cache/session.py\", line 229, in _send_and_cache\n",
      "    response = super().send(request, **kwargs)\n",
      "  File \"/home/lore/anaconda3/lib/python3.10/site-packages/fastf1/req.py\", line 122, in send\n",
      "    lim.limit()\n",
      "  File \"/home/lore/anaconda3/lib/python3.10/site-packages/fastf1/req.py\", line 99, in limit\n",
      "    raise RateLimitExceededError(self._info)\n",
      "fastf1.req.RateLimitExceededError: ergast.com: 200 calls/h\n",
      "req            INFO \tNo cached data found for session_status_data. Loading data...\n",
      "_api           INFO \tFetching session status data...\n",
      "logger      WARNING \tFailed to load session status data!\n",
      "req            INFO \tNo cached data found for track_status_data. Loading data...\n",
      "_api           INFO \tFetching track status data...\n",
      "logger      WARNING \tFailed to load track status data!\n",
      "req            INFO \tNo cached data found for _extended_timing_data. Loading data...\n",
      "_api           INFO \tFetching timing data...\n",
      "logger      WARNING \tFailed to load timing data!\n",
      "req            INFO \tNo cached data found for car_data. Loading data...\n",
      "_api           INFO \tFetching car data...\n",
      "core        WARNING \tCar telemetry data is unavailable!\n",
      "req            INFO \tNo cached data found for position_data. Loading data...\n",
      "_api           INFO \tFetching position data...\n",
      "core        WARNING \tCar position data is unavailable!\n",
      "core        WARNING \tFailed to determine `Session.t0_date`!\n",
      "req            INFO \tNo cached data found for weather_data. Loading data...\n",
      "_api           INFO \tFetching weather data...\n",
      "logger      WARNING \tFailed to load weather data!\n",
      "req            INFO \tNo cached data found for race_control_messages. Loading data...\n",
      "_api           INFO \tFetching race control messages...\n",
      "logger      WARNING \tFailed to load race control messages!\n",
      "core           INFO \tFinished loading data for 20 drivers: ['16', '1', '55', '63', '11', '44', '77', '20', '3', '47', '4', '31', '22', '10', '24', '5', '14', '18', '23', '6']\n",
      "core           INFO \tLoading data for Monaco Grand Prix - Qualifying [v3.1.2]\n",
      "req            INFO \tNo cached data found for session_info. Loading data...\n",
      "_api           INFO \tFetching session info data...\n"
     ]
    },
    {
     "name": "stdout",
     "output_type": "stream",
     "text": [
      "Error downloading data for year 2022: The data you are trying to access has not been loaded yet. See `Session.load`\n",
      "2022\n"
     ]
    },
    {
     "name": "stderr",
     "output_type": "stream",
     "text": [
      "logger      WARNING \tFailed to load session info data!\n",
      "req            INFO \tNo cached data found for driver_info. Loading data...\n",
      "_api           INFO \tFetching driver list...\n",
      "core        WARNING \tFailed to load extended driver information!\n",
      "Request for URL https://ergast.com/api/f1/2022/7/qualifying.json failed; using cached response\n",
      "Traceback (most recent call last):\n",
      "  File \"/home/lore/anaconda3/lib/python3.10/site-packages/requests_cache/session.py\", line 255, in _resend\n",
      "    response = self._send_and_cache(request, actions, cached_response, **kwargs)\n",
      "  File \"/home/lore/anaconda3/lib/python3.10/site-packages/requests_cache/session.py\", line 229, in _send_and_cache\n",
      "    response = super().send(request, **kwargs)\n",
      "  File \"/home/lore/anaconda3/lib/python3.10/site-packages/fastf1/req.py\", line 122, in send\n",
      "    lim.limit()\n",
      "  File \"/home/lore/anaconda3/lib/python3.10/site-packages/fastf1/req.py\", line 99, in limit\n",
      "    raise RateLimitExceededError(self._info)\n",
      "fastf1.req.RateLimitExceededError: ergast.com: 200 calls/h\n",
      "req            INFO \tNo cached data found for session_status_data. Loading data...\n",
      "_api           INFO \tFetching session status data...\n",
      "logger      WARNING \tFailed to load session status data!\n",
      "req            INFO \tNo cached data found for track_status_data. Loading data...\n",
      "_api           INFO \tFetching track status data...\n",
      "logger      WARNING \tFailed to load track status data!\n",
      "req            INFO \tNo cached data found for _extended_timing_data. Loading data...\n",
      "_api           INFO \tFetching timing data...\n",
      "logger      WARNING \tFailed to load timing data!\n",
      "req            INFO \tNo cached data found for car_data. Loading data...\n",
      "_api           INFO \tFetching car data...\n",
      "core        WARNING \tCar telemetry data is unavailable!\n",
      "req            INFO \tNo cached data found for position_data. Loading data...\n",
      "_api           INFO \tFetching position data...\n",
      "core        WARNING \tCar position data is unavailable!\n",
      "core        WARNING \tFailed to determine `Session.t0_date`!\n",
      "req            INFO \tNo cached data found for weather_data. Loading data...\n",
      "_api           INFO \tFetching weather data...\n",
      "logger      WARNING \tFailed to load weather data!\n",
      "req            INFO \tNo cached data found for race_control_messages. Loading data...\n",
      "_api           INFO \tFetching race control messages...\n",
      "logger      WARNING \tFailed to load race control messages!\n",
      "core           INFO \tFinished loading data for 20 drivers: ['16', '55', '11', '1', '4', '63', '14', '44', '5', '31', '22', '77', '20', '3', '47', '23', '10', '18', '6', '24']\n",
      "core           INFO \tLoading data for Azerbaijan Grand Prix - Qualifying [v3.1.2]\n",
      "req            INFO \tNo cached data found for session_info. Loading data...\n",
      "_api           INFO \tFetching session info data...\n"
     ]
    },
    {
     "name": "stdout",
     "output_type": "stream",
     "text": [
      "Error downloading data for year 2022: The data you are trying to access has not been loaded yet. See `Session.load`\n",
      "2022\n"
     ]
    },
    {
     "name": "stderr",
     "output_type": "stream",
     "text": [
      "logger      WARNING \tFailed to load session info data!\n",
      "req            INFO \tNo cached data found for driver_info. Loading data...\n",
      "_api           INFO \tFetching driver list...\n",
      "core        WARNING \tFailed to load extended driver information!\n",
      "Request for URL https://ergast.com/api/f1/2022/8/qualifying.json failed; using cached response\n",
      "Traceback (most recent call last):\n",
      "  File \"/home/lore/anaconda3/lib/python3.10/site-packages/requests_cache/session.py\", line 255, in _resend\n",
      "    response = self._send_and_cache(request, actions, cached_response, **kwargs)\n",
      "  File \"/home/lore/anaconda3/lib/python3.10/site-packages/requests_cache/session.py\", line 229, in _send_and_cache\n",
      "    response = super().send(request, **kwargs)\n",
      "  File \"/home/lore/anaconda3/lib/python3.10/site-packages/fastf1/req.py\", line 122, in send\n",
      "    lim.limit()\n",
      "  File \"/home/lore/anaconda3/lib/python3.10/site-packages/fastf1/req.py\", line 99, in limit\n",
      "    raise RateLimitExceededError(self._info)\n",
      "fastf1.req.RateLimitExceededError: ergast.com: 200 calls/h\n",
      "req            INFO \tNo cached data found for session_status_data. Loading data...\n",
      "_api           INFO \tFetching session status data...\n",
      "logger      WARNING \tFailed to load session status data!\n",
      "req            INFO \tNo cached data found for track_status_data. Loading data...\n",
      "_api           INFO \tFetching track status data...\n",
      "logger      WARNING \tFailed to load track status data!\n",
      "req            INFO \tNo cached data found for _extended_timing_data. Loading data...\n",
      "_api           INFO \tFetching timing data...\n",
      "logger      WARNING \tFailed to load timing data!\n",
      "req            INFO \tNo cached data found for car_data. Loading data...\n",
      "_api           INFO \tFetching car data...\n",
      "core        WARNING \tCar telemetry data is unavailable!\n",
      "req            INFO \tNo cached data found for position_data. Loading data...\n",
      "_api           INFO \tFetching position data...\n",
      "core        WARNING \tCar position data is unavailable!\n",
      "core        WARNING \tFailed to determine `Session.t0_date`!\n",
      "req            INFO \tNo cached data found for weather_data. Loading data...\n",
      "_api           INFO \tFetching weather data...\n",
      "logger      WARNING \tFailed to load weather data!\n",
      "req            INFO \tNo cached data found for race_control_messages. Loading data...\n",
      "_api           INFO \tFetching race control messages...\n",
      "logger      WARNING \tFailed to load race control messages!\n",
      "core           INFO \tFinished loading data for 20 drivers: ['16', '11', '1', '55', '63', '10', '44', '22', '5', '14', '4', '3', '31', '24', '77', '20', '23', '6', '18', '47']\n",
      "core           INFO \tLoading data for Canadian Grand Prix - Qualifying [v3.1.2]\n",
      "req            INFO \tNo cached data found for session_info. Loading data...\n",
      "_api           INFO \tFetching session info data...\n"
     ]
    },
    {
     "name": "stdout",
     "output_type": "stream",
     "text": [
      "Error downloading data for year 2022: The data you are trying to access has not been loaded yet. See `Session.load`\n",
      "2022\n"
     ]
    },
    {
     "name": "stderr",
     "output_type": "stream",
     "text": [
      "logger      WARNING \tFailed to load session info data!\n",
      "req            INFO \tNo cached data found for driver_info. Loading data...\n",
      "_api           INFO \tFetching driver list...\n",
      "core        WARNING \tFailed to load extended driver information!\n",
      "Request for URL https://ergast.com/api/f1/2022/9/qualifying.json failed; using cached response\n",
      "Traceback (most recent call last):\n",
      "  File \"/home/lore/anaconda3/lib/python3.10/site-packages/requests_cache/session.py\", line 255, in _resend\n",
      "    response = self._send_and_cache(request, actions, cached_response, **kwargs)\n",
      "  File \"/home/lore/anaconda3/lib/python3.10/site-packages/requests_cache/session.py\", line 229, in _send_and_cache\n",
      "    response = super().send(request, **kwargs)\n",
      "  File \"/home/lore/anaconda3/lib/python3.10/site-packages/fastf1/req.py\", line 122, in send\n",
      "    lim.limit()\n",
      "  File \"/home/lore/anaconda3/lib/python3.10/site-packages/fastf1/req.py\", line 99, in limit\n",
      "    raise RateLimitExceededError(self._info)\n",
      "fastf1.req.RateLimitExceededError: ergast.com: 200 calls/h\n",
      "req            INFO \tNo cached data found for session_status_data. Loading data...\n",
      "_api           INFO \tFetching session status data...\n",
      "logger      WARNING \tFailed to load session status data!\n",
      "req            INFO \tNo cached data found for track_status_data. Loading data...\n",
      "_api           INFO \tFetching track status data...\n",
      "logger      WARNING \tFailed to load track status data!\n",
      "req            INFO \tNo cached data found for _extended_timing_data. Loading data...\n",
      "_api           INFO \tFetching timing data...\n",
      "logger      WARNING \tFailed to load timing data!\n",
      "req            INFO \tNo cached data found for car_data. Loading data...\n",
      "_api           INFO \tFetching car data...\n",
      "core        WARNING \tCar telemetry data is unavailable!\n",
      "req            INFO \tNo cached data found for position_data. Loading data...\n",
      "_api           INFO \tFetching position data...\n",
      "core        WARNING \tCar position data is unavailable!\n",
      "core        WARNING \tFailed to determine `Session.t0_date`!\n",
      "req            INFO \tNo cached data found for weather_data. Loading data...\n",
      "_api           INFO \tFetching weather data...\n",
      "logger      WARNING \tFailed to load weather data!\n",
      "req            INFO \tNo cached data found for race_control_messages. Loading data...\n",
      "_api           INFO \tFetching race control messages...\n",
      "logger      WARNING \tFailed to load race control messages!\n",
      "core           INFO \tFinished loading data for 20 drivers: ['1', '14', '55', '44', '20', '47', '31', '63', '3', '24', '77', '23', '11', '4', '16', '10', '5', '18', '6', '22']\n",
      "core           INFO \tLoading data for British Grand Prix - Qualifying [v3.1.2]\n",
      "req            INFO \tNo cached data found for session_info. Loading data...\n",
      "_api           INFO \tFetching session info data...\n"
     ]
    },
    {
     "name": "stdout",
     "output_type": "stream",
     "text": [
      "Error downloading data for year 2022: The data you are trying to access has not been loaded yet. See `Session.load`\n",
      "2022\n"
     ]
    },
    {
     "name": "stderr",
     "output_type": "stream",
     "text": [
      "logger      WARNING \tFailed to load session info data!\n",
      "req            INFO \tNo cached data found for driver_info. Loading data...\n",
      "_api           INFO \tFetching driver list...\n",
      "core        WARNING \tFailed to load extended driver information!\n",
      "Request for URL https://ergast.com/api/f1/2022/10/qualifying.json failed; using cached response\n",
      "Traceback (most recent call last):\n",
      "  File \"/home/lore/anaconda3/lib/python3.10/site-packages/requests_cache/session.py\", line 255, in _resend\n",
      "    response = self._send_and_cache(request, actions, cached_response, **kwargs)\n",
      "  File \"/home/lore/anaconda3/lib/python3.10/site-packages/requests_cache/session.py\", line 229, in _send_and_cache\n",
      "    response = super().send(request, **kwargs)\n",
      "  File \"/home/lore/anaconda3/lib/python3.10/site-packages/fastf1/req.py\", line 122, in send\n",
      "    lim.limit()\n",
      "  File \"/home/lore/anaconda3/lib/python3.10/site-packages/fastf1/req.py\", line 99, in limit\n",
      "    raise RateLimitExceededError(self._info)\n",
      "fastf1.req.RateLimitExceededError: ergast.com: 200 calls/h\n",
      "req            INFO \tNo cached data found for session_status_data. Loading data...\n",
      "_api           INFO \tFetching session status data...\n",
      "logger      WARNING \tFailed to load session status data!\n",
      "req            INFO \tNo cached data found for track_status_data. Loading data...\n",
      "_api           INFO \tFetching track status data...\n",
      "logger      WARNING \tFailed to load track status data!\n",
      "req            INFO \tNo cached data found for _extended_timing_data. Loading data...\n",
      "_api           INFO \tFetching timing data...\n",
      "logger      WARNING \tFailed to load timing data!\n",
      "req            INFO \tNo cached data found for car_data. Loading data...\n",
      "_api           INFO \tFetching car data...\n",
      "core        WARNING \tCar telemetry data is unavailable!\n",
      "req            INFO \tNo cached data found for position_data. Loading data...\n",
      "_api           INFO \tFetching position data...\n",
      "core        WARNING \tCar position data is unavailable!\n",
      "core        WARNING \tFailed to determine `Session.t0_date`!\n",
      "req            INFO \tNo cached data found for weather_data. Loading data...\n",
      "_api           INFO \tFetching weather data...\n",
      "logger      WARNING \tFailed to load weather data!\n",
      "req            INFO \tNo cached data found for race_control_messages. Loading data...\n",
      "_api           INFO \tFetching race control messages...\n",
      "logger      WARNING \tFailed to load race control messages!\n",
      "core           INFO \tFinished loading data for 20 drivers: ['55', '1', '16', '11', '44', '4', '14', '63', '24', '6', '10', '77', '22', '3', '31', '23', '20', '5', '47', '18']\n",
      "core           INFO \tLoading data for Austrian Grand Prix - Qualifying [v3.1.2]\n",
      "req            INFO \tNo cached data found for session_info. Loading data...\n",
      "_api           INFO \tFetching session info data...\n",
      "logger      WARNING \tFailed to load session info data!\n",
      "req            INFO \tNo cached data found for driver_info. Loading data...\n",
      "_api           INFO \tFetching driver list...\n"
     ]
    },
    {
     "name": "stdout",
     "output_type": "stream",
     "text": [
      "Error downloading data for year 2022: The data you are trying to access has not been loaded yet. See `Session.load`\n",
      "2022\n"
     ]
    },
    {
     "name": "stderr",
     "output_type": "stream",
     "text": [
      "core        WARNING \tFailed to load extended driver information!\n",
      "Request for URL https://ergast.com/api/f1/2022/11/qualifying.json failed; using cached response\n",
      "Traceback (most recent call last):\n",
      "  File \"/home/lore/anaconda3/lib/python3.10/site-packages/requests_cache/session.py\", line 255, in _resend\n",
      "    response = self._send_and_cache(request, actions, cached_response, **kwargs)\n",
      "  File \"/home/lore/anaconda3/lib/python3.10/site-packages/requests_cache/session.py\", line 229, in _send_and_cache\n",
      "    response = super().send(request, **kwargs)\n",
      "  File \"/home/lore/anaconda3/lib/python3.10/site-packages/fastf1/req.py\", line 122, in send\n",
      "    lim.limit()\n",
      "  File \"/home/lore/anaconda3/lib/python3.10/site-packages/fastf1/req.py\", line 99, in limit\n",
      "    raise RateLimitExceededError(self._info)\n",
      "fastf1.req.RateLimitExceededError: ergast.com: 200 calls/h\n",
      "req            INFO \tNo cached data found for session_status_data. Loading data...\n",
      "_api           INFO \tFetching session status data...\n",
      "logger      WARNING \tFailed to load session status data!\n",
      "req            INFO \tNo cached data found for track_status_data. Loading data...\n",
      "_api           INFO \tFetching track status data...\n",
      "logger      WARNING \tFailed to load track status data!\n",
      "req            INFO \tNo cached data found for _extended_timing_data. Loading data...\n",
      "_api           INFO \tFetching timing data...\n",
      "logger      WARNING \tFailed to load timing data!\n",
      "req            INFO \tNo cached data found for car_data. Loading data...\n",
      "_api           INFO \tFetching car data...\n",
      "core        WARNING \tCar telemetry data is unavailable!\n",
      "req            INFO \tNo cached data found for position_data. Loading data...\n",
      "_api           INFO \tFetching position data...\n",
      "core        WARNING \tCar position data is unavailable!\n",
      "core        WARNING \tFailed to determine `Session.t0_date`!\n",
      "req            INFO \tNo cached data found for weather_data. Loading data...\n",
      "_api           INFO \tFetching weather data...\n",
      "logger      WARNING \tFailed to load weather data!\n",
      "req            INFO \tNo cached data found for race_control_messages. Loading data...\n",
      "_api           INFO \tFetching race control messages...\n",
      "logger      WARNING \tFailed to load race control messages!\n",
      "core           INFO \tFinished loading data for 20 drivers: ['1', '16', '55', '63', '31', '20', '47', '14', '44', '10', '23', '77', '11', '22', '4', '3', '18', '24', '6', '5']\n",
      "core           INFO \tLoading data for French Grand Prix - Qualifying [v3.1.2]\n",
      "req            INFO \tNo cached data found for session_info. Loading data...\n",
      "_api           INFO \tFetching session info data...\n"
     ]
    },
    {
     "name": "stdout",
     "output_type": "stream",
     "text": [
      "Error downloading data for year 2022: The data you are trying to access has not been loaded yet. See `Session.load`\n",
      "2022\n"
     ]
    },
    {
     "name": "stderr",
     "output_type": "stream",
     "text": [
      "logger      WARNING \tFailed to load session info data!\n",
      "req            INFO \tNo cached data found for driver_info. Loading data...\n",
      "_api           INFO \tFetching driver list...\n",
      "core        WARNING \tFailed to load extended driver information!\n",
      "Request for URL https://ergast.com/api/f1/2022/12/qualifying.json failed; using cached response\n",
      "Traceback (most recent call last):\n",
      "  File \"/home/lore/anaconda3/lib/python3.10/site-packages/requests_cache/session.py\", line 255, in _resend\n",
      "    response = self._send_and_cache(request, actions, cached_response, **kwargs)\n",
      "  File \"/home/lore/anaconda3/lib/python3.10/site-packages/requests_cache/session.py\", line 229, in _send_and_cache\n",
      "    response = super().send(request, **kwargs)\n",
      "  File \"/home/lore/anaconda3/lib/python3.10/site-packages/fastf1/req.py\", line 122, in send\n",
      "    lim.limit()\n",
      "  File \"/home/lore/anaconda3/lib/python3.10/site-packages/fastf1/req.py\", line 99, in limit\n",
      "    raise RateLimitExceededError(self._info)\n",
      "fastf1.req.RateLimitExceededError: ergast.com: 200 calls/h\n",
      "req            INFO \tNo cached data found for session_status_data. Loading data...\n",
      "_api           INFO \tFetching session status data...\n",
      "logger      WARNING \tFailed to load session status data!\n",
      "req            INFO \tNo cached data found for track_status_data. Loading data...\n",
      "_api           INFO \tFetching track status data...\n",
      "logger      WARNING \tFailed to load track status data!\n",
      "req            INFO \tNo cached data found for _extended_timing_data. Loading data...\n",
      "_api           INFO \tFetching timing data...\n",
      "logger      WARNING \tFailed to load timing data!\n",
      "req            INFO \tNo cached data found for car_data. Loading data...\n",
      "_api           INFO \tFetching car data...\n",
      "core        WARNING \tCar telemetry data is unavailable!\n",
      "req            INFO \tNo cached data found for position_data. Loading data...\n",
      "_api           INFO \tFetching position data...\n",
      "core        WARNING \tCar position data is unavailable!\n",
      "core        WARNING \tFailed to determine `Session.t0_date`!\n",
      "req            INFO \tNo cached data found for weather_data. Loading data...\n",
      "_api           INFO \tFetching weather data...\n",
      "logger      WARNING \tFailed to load weather data!\n",
      "req            INFO \tNo cached data found for race_control_messages. Loading data...\n",
      "_api           INFO \tFetching race control messages...\n",
      "logger      WARNING \tFailed to load race control messages!\n",
      "core           INFO \tFinished loading data for 20 drivers: ['16', '1', '11', '44', '4', '63', '14', '22', '55', '20', '3', '31', '77', '5', '23', '10', '18', '24', '47', '6']\n",
      "core           INFO \tLoading data for Hungarian Grand Prix - Qualifying [v3.1.2]\n",
      "req            INFO \tNo cached data found for session_info. Loading data...\n",
      "_api           INFO \tFetching session info data...\n"
     ]
    },
    {
     "name": "stdout",
     "output_type": "stream",
     "text": [
      "Error downloading data for year 2022: The data you are trying to access has not been loaded yet. See `Session.load`\n",
      "2022\n"
     ]
    },
    {
     "name": "stderr",
     "output_type": "stream",
     "text": [
      "logger      WARNING \tFailed to load session info data!\n",
      "req            INFO \tNo cached data found for driver_info. Loading data...\n",
      "_api           INFO \tFetching driver list...\n",
      "core        WARNING \tFailed to load extended driver information!\n",
      "Request for URL https://ergast.com/api/f1/2022/13/qualifying.json failed; using cached response\n",
      "Traceback (most recent call last):\n",
      "  File \"/home/lore/anaconda3/lib/python3.10/site-packages/requests_cache/session.py\", line 255, in _resend\n",
      "    response = self._send_and_cache(request, actions, cached_response, **kwargs)\n",
      "  File \"/home/lore/anaconda3/lib/python3.10/site-packages/requests_cache/session.py\", line 229, in _send_and_cache\n",
      "    response = super().send(request, **kwargs)\n",
      "  File \"/home/lore/anaconda3/lib/python3.10/site-packages/fastf1/req.py\", line 122, in send\n",
      "    lim.limit()\n",
      "  File \"/home/lore/anaconda3/lib/python3.10/site-packages/fastf1/req.py\", line 99, in limit\n",
      "    raise RateLimitExceededError(self._info)\n",
      "fastf1.req.RateLimitExceededError: ergast.com: 200 calls/h\n",
      "req            INFO \tNo cached data found for session_status_data. Loading data...\n",
      "_api           INFO \tFetching session status data...\n",
      "logger      WARNING \tFailed to load session status data!\n",
      "req            INFO \tNo cached data found for track_status_data. Loading data...\n",
      "_api           INFO \tFetching track status data...\n",
      "logger      WARNING \tFailed to load track status data!\n",
      "req            INFO \tNo cached data found for _extended_timing_data. Loading data...\n",
      "_api           INFO \tFetching timing data...\n",
      "logger      WARNING \tFailed to load timing data!\n",
      "req            INFO \tNo cached data found for car_data. Loading data...\n",
      "_api           INFO \tFetching car data...\n",
      "core        WARNING \tCar telemetry data is unavailable!\n",
      "req            INFO \tNo cached data found for position_data. Loading data...\n",
      "_api           INFO \tFetching position data...\n",
      "core        WARNING \tCar position data is unavailable!\n",
      "core        WARNING \tFailed to determine `Session.t0_date`!\n",
      "req            INFO \tNo cached data found for weather_data. Loading data...\n",
      "_api           INFO \tFetching weather data...\n",
      "logger      WARNING \tFailed to load weather data!\n",
      "req            INFO \tNo cached data found for race_control_messages. Loading data...\n",
      "_api           INFO \tFetching race control messages...\n",
      "logger      WARNING \tFailed to load race control messages!\n",
      "core           INFO \tFinished loading data for 20 drivers: ['63', '55', '16', '4', '31', '14', '44', '77', '3', '1', '11', '24', '20', '18', '47', '22', '23', '5', '10', '6']\n",
      "core           INFO \tLoading data for Belgian Grand Prix - Qualifying [v3.1.2]\n",
      "req            INFO \tNo cached data found for session_info. Loading data...\n",
      "_api           INFO \tFetching session info data...\n"
     ]
    },
    {
     "name": "stdout",
     "output_type": "stream",
     "text": [
      "Error downloading data for year 2022: The data you are trying to access has not been loaded yet. See `Session.load`\n",
      "2022\n"
     ]
    },
    {
     "name": "stderr",
     "output_type": "stream",
     "text": [
      "logger      WARNING \tFailed to load session info data!\n",
      "req            INFO \tNo cached data found for driver_info. Loading data...\n",
      "_api           INFO \tFetching driver list...\n",
      "core        WARNING \tFailed to load extended driver information!\n",
      "Request for URL https://ergast.com/api/f1/2022/14/qualifying.json failed; using cached response\n",
      "Traceback (most recent call last):\n",
      "  File \"/home/lore/anaconda3/lib/python3.10/site-packages/requests_cache/session.py\", line 255, in _resend\n",
      "    response = self._send_and_cache(request, actions, cached_response, **kwargs)\n",
      "  File \"/home/lore/anaconda3/lib/python3.10/site-packages/requests_cache/session.py\", line 229, in _send_and_cache\n",
      "    response = super().send(request, **kwargs)\n",
      "  File \"/home/lore/anaconda3/lib/python3.10/site-packages/fastf1/req.py\", line 122, in send\n",
      "    lim.limit()\n",
      "  File \"/home/lore/anaconda3/lib/python3.10/site-packages/fastf1/req.py\", line 99, in limit\n",
      "    raise RateLimitExceededError(self._info)\n",
      "fastf1.req.RateLimitExceededError: ergast.com: 200 calls/h\n",
      "req            INFO \tNo cached data found for session_status_data. Loading data...\n",
      "_api           INFO \tFetching session status data...\n",
      "logger      WARNING \tFailed to load session status data!\n",
      "req            INFO \tNo cached data found for track_status_data. Loading data...\n",
      "_api           INFO \tFetching track status data...\n",
      "logger      WARNING \tFailed to load track status data!\n",
      "req            INFO \tNo cached data found for _extended_timing_data. Loading data...\n",
      "_api           INFO \tFetching timing data...\n",
      "logger      WARNING \tFailed to load timing data!\n",
      "req            INFO \tNo cached data found for car_data. Loading data...\n",
      "_api           INFO \tFetching car data...\n",
      "core        WARNING \tCar telemetry data is unavailable!\n",
      "req            INFO \tNo cached data found for position_data. Loading data...\n",
      "_api           INFO \tFetching position data...\n",
      "core        WARNING \tCar position data is unavailable!\n",
      "core        WARNING \tFailed to determine `Session.t0_date`!\n",
      "req            INFO \tNo cached data found for weather_data. Loading data...\n",
      "_api           INFO \tFetching weather data...\n",
      "logger      WARNING \tFailed to load weather data!\n",
      "req            INFO \tNo cached data found for race_control_messages. Loading data...\n",
      "_api           INFO \tFetching race control messages...\n",
      "logger      WARNING \tFailed to load race control messages!\n",
      "core           INFO \tFinished loading data for 20 drivers: ['1', '55', '11', '16', '31', '14', '44', '63', '23', '4', '3', '10', '24', '18', '47', '5', '6', '20', '22', '77']\n",
      "core           INFO \tLoading data for Dutch Grand Prix - Qualifying [v3.1.2]\n",
      "req            INFO \tNo cached data found for session_info. Loading data...\n",
      "_api           INFO \tFetching session info data...\n"
     ]
    },
    {
     "name": "stdout",
     "output_type": "stream",
     "text": [
      "Error downloading data for year 2022: The data you are trying to access has not been loaded yet. See `Session.load`\n",
      "2022\n"
     ]
    },
    {
     "name": "stderr",
     "output_type": "stream",
     "text": [
      "logger      WARNING \tFailed to load session info data!\n",
      "req            INFO \tNo cached data found for driver_info. Loading data...\n",
      "_api           INFO \tFetching driver list...\n",
      "core        WARNING \tFailed to load extended driver information!\n",
      "Request for URL https://ergast.com/api/f1/2022/15/qualifying.json failed; using cached response\n",
      "Traceback (most recent call last):\n",
      "  File \"/home/lore/anaconda3/lib/python3.10/site-packages/requests_cache/session.py\", line 255, in _resend\n",
      "    response = self._send_and_cache(request, actions, cached_response, **kwargs)\n",
      "  File \"/home/lore/anaconda3/lib/python3.10/site-packages/requests_cache/session.py\", line 229, in _send_and_cache\n",
      "    response = super().send(request, **kwargs)\n",
      "  File \"/home/lore/anaconda3/lib/python3.10/site-packages/fastf1/req.py\", line 122, in send\n",
      "    lim.limit()\n",
      "  File \"/home/lore/anaconda3/lib/python3.10/site-packages/fastf1/req.py\", line 99, in limit\n",
      "    raise RateLimitExceededError(self._info)\n",
      "fastf1.req.RateLimitExceededError: ergast.com: 200 calls/h\n",
      "req            INFO \tNo cached data found for session_status_data. Loading data...\n",
      "_api           INFO \tFetching session status data...\n",
      "logger      WARNING \tFailed to load session status data!\n",
      "req            INFO \tNo cached data found for track_status_data. Loading data...\n",
      "_api           INFO \tFetching track status data...\n",
      "logger      WARNING \tFailed to load track status data!\n",
      "req            INFO \tNo cached data found for _extended_timing_data. Loading data...\n",
      "_api           INFO \tFetching timing data...\n",
      "logger      WARNING \tFailed to load timing data!\n",
      "req            INFO \tNo cached data found for car_data. Loading data...\n",
      "_api           INFO \tFetching car data...\n",
      "core        WARNING \tCar telemetry data is unavailable!\n",
      "req            INFO \tNo cached data found for position_data. Loading data...\n",
      "_api           INFO \tFetching position data...\n",
      "core        WARNING \tCar position data is unavailable!\n",
      "core        WARNING \tFailed to determine `Session.t0_date`!\n",
      "req            INFO \tNo cached data found for weather_data. Loading data...\n",
      "_api           INFO \tFetching weather data...\n",
      "logger      WARNING \tFailed to load weather data!\n",
      "req            INFO \tNo cached data found for race_control_messages. Loading data...\n",
      "_api           INFO \tFetching race control messages...\n",
      "logger      WARNING \tFailed to load race control messages!\n",
      "core           INFO \tFinished loading data for 20 drivers: ['1', '16', '55', '44', '11', '63', '4', '47', '22', '18', '10', '31', '14', '24', '23', '77', '3', '20', '5', '6']\n",
      "core           INFO \tLoading data for Italian Grand Prix - Qualifying [v3.1.2]\n",
      "req            INFO \tNo cached data found for session_info. Loading data...\n",
      "_api           INFO \tFetching session info data...\n"
     ]
    },
    {
     "name": "stdout",
     "output_type": "stream",
     "text": [
      "Error downloading data for year 2022: The data you are trying to access has not been loaded yet. See `Session.load`\n",
      "2022\n"
     ]
    },
    {
     "name": "stderr",
     "output_type": "stream",
     "text": [
      "logger      WARNING \tFailed to load session info data!\n",
      "req            INFO \tNo cached data found for driver_info. Loading data...\n",
      "_api           INFO \tFetching driver list...\n",
      "core        WARNING \tFailed to load extended driver information!\n",
      "Request for URL https://ergast.com/api/f1/2022/16/qualifying.json failed; using cached response\n",
      "Traceback (most recent call last):\n",
      "  File \"/home/lore/anaconda3/lib/python3.10/site-packages/requests_cache/session.py\", line 255, in _resend\n",
      "    response = self._send_and_cache(request, actions, cached_response, **kwargs)\n",
      "  File \"/home/lore/anaconda3/lib/python3.10/site-packages/requests_cache/session.py\", line 229, in _send_and_cache\n",
      "    response = super().send(request, **kwargs)\n",
      "  File \"/home/lore/anaconda3/lib/python3.10/site-packages/fastf1/req.py\", line 122, in send\n",
      "    lim.limit()\n",
      "  File \"/home/lore/anaconda3/lib/python3.10/site-packages/fastf1/req.py\", line 99, in limit\n",
      "    raise RateLimitExceededError(self._info)\n",
      "fastf1.req.RateLimitExceededError: ergast.com: 200 calls/h\n",
      "req            INFO \tNo cached data found for session_status_data. Loading data...\n",
      "_api           INFO \tFetching session status data...\n",
      "logger      WARNING \tFailed to load session status data!\n",
      "req            INFO \tNo cached data found for track_status_data. Loading data...\n",
      "_api           INFO \tFetching track status data...\n",
      "logger      WARNING \tFailed to load track status data!\n",
      "req            INFO \tNo cached data found for _extended_timing_data. Loading data...\n",
      "_api           INFO \tFetching timing data...\n",
      "logger      WARNING \tFailed to load timing data!\n",
      "req            INFO \tNo cached data found for car_data. Loading data...\n",
      "_api           INFO \tFetching car data...\n",
      "core        WARNING \tCar telemetry data is unavailable!\n",
      "req            INFO \tNo cached data found for position_data. Loading data...\n",
      "_api           INFO \tFetching position data...\n",
      "core        WARNING \tCar position data is unavailable!\n",
      "core        WARNING \tFailed to determine `Session.t0_date`!\n",
      "req            INFO \tNo cached data found for weather_data. Loading data...\n",
      "_api           INFO \tFetching weather data...\n",
      "logger      WARNING \tFailed to load weather data!\n",
      "req            INFO \tNo cached data found for race_control_messages. Loading data...\n",
      "_api           INFO \tFetching race control messages...\n",
      "logger      WARNING \tFailed to load race control messages!\n",
      "core           INFO \tFinished loading data for 20 drivers: ['16', '1', '55', '11', '44', '63', '4', '3', '10', '14', '31', '77', '45', '24', '22', '6', '5', '18', '20', '47']\n",
      "core           INFO \tLoading data for Singapore Grand Prix - Qualifying [v3.1.2]\n",
      "req            INFO \tNo cached data found for session_info. Loading data...\n",
      "_api           INFO \tFetching session info data...\n"
     ]
    },
    {
     "name": "stdout",
     "output_type": "stream",
     "text": [
      "Error downloading data for year 2022: The data you are trying to access has not been loaded yet. See `Session.load`\n",
      "2022\n"
     ]
    },
    {
     "name": "stderr",
     "output_type": "stream",
     "text": [
      "logger      WARNING \tFailed to load session info data!\n",
      "req            INFO \tNo cached data found for driver_info. Loading data...\n",
      "_api           INFO \tFetching driver list...\n",
      "core        WARNING \tFailed to load extended driver information!\n",
      "Request for URL https://ergast.com/api/f1/2022/17/qualifying.json failed; using cached response\n",
      "Traceback (most recent call last):\n",
      "  File \"/home/lore/anaconda3/lib/python3.10/site-packages/requests_cache/session.py\", line 255, in _resend\n",
      "    response = self._send_and_cache(request, actions, cached_response, **kwargs)\n",
      "  File \"/home/lore/anaconda3/lib/python3.10/site-packages/requests_cache/session.py\", line 229, in _send_and_cache\n",
      "    response = super().send(request, **kwargs)\n",
      "  File \"/home/lore/anaconda3/lib/python3.10/site-packages/fastf1/req.py\", line 122, in send\n",
      "    lim.limit()\n",
      "  File \"/home/lore/anaconda3/lib/python3.10/site-packages/fastf1/req.py\", line 99, in limit\n",
      "    raise RateLimitExceededError(self._info)\n",
      "fastf1.req.RateLimitExceededError: ergast.com: 200 calls/h\n",
      "req            INFO \tNo cached data found for session_status_data. Loading data...\n",
      "_api           INFO \tFetching session status data...\n",
      "logger      WARNING \tFailed to load session status data!\n",
      "req            INFO \tNo cached data found for track_status_data. Loading data...\n",
      "_api           INFO \tFetching track status data...\n",
      "logger      WARNING \tFailed to load track status data!\n",
      "req            INFO \tNo cached data found for _extended_timing_data. Loading data...\n",
      "_api           INFO \tFetching timing data...\n",
      "logger      WARNING \tFailed to load timing data!\n",
      "req            INFO \tNo cached data found for car_data. Loading data...\n",
      "_api           INFO \tFetching car data...\n",
      "core        WARNING \tCar telemetry data is unavailable!\n",
      "req            INFO \tNo cached data found for position_data. Loading data...\n",
      "_api           INFO \tFetching position data...\n",
      "core        WARNING \tCar position data is unavailable!\n",
      "core        WARNING \tFailed to determine `Session.t0_date`!\n",
      "req            INFO \tNo cached data found for weather_data. Loading data...\n",
      "_api           INFO \tFetching weather data...\n",
      "logger      WARNING \tFailed to load weather data!\n",
      "req            INFO \tNo cached data found for race_control_messages. Loading data...\n",
      "_api           INFO \tFetching race control messages...\n",
      "logger      WARNING \tFailed to load race control messages!\n",
      "core           INFO \tFinished loading data for 20 drivers: ['16', '11', '44', '55', '14', '4', '10', '1', '20', '22', '63', '18', '47', '5', '24', '77', '3', '31', '23', '6']\n",
      "core           INFO \tLoading data for Japanese Grand Prix - Qualifying [v3.1.2]\n",
      "req            INFO \tNo cached data found for session_info. Loading data...\n",
      "_api           INFO \tFetching session info data...\n"
     ]
    },
    {
     "name": "stdout",
     "output_type": "stream",
     "text": [
      "Error downloading data for year 2022: The data you are trying to access has not been loaded yet. See `Session.load`\n",
      "2022\n"
     ]
    },
    {
     "name": "stderr",
     "output_type": "stream",
     "text": [
      "logger      WARNING \tFailed to load session info data!\n",
      "req            INFO \tNo cached data found for driver_info. Loading data...\n",
      "_api           INFO \tFetching driver list...\n",
      "core        WARNING \tFailed to load extended driver information!\n",
      "Request for URL https://ergast.com/api/f1/2022/18/qualifying.json failed; using cached response\n",
      "Traceback (most recent call last):\n",
      "  File \"/home/lore/anaconda3/lib/python3.10/site-packages/requests_cache/session.py\", line 255, in _resend\n",
      "    response = self._send_and_cache(request, actions, cached_response, **kwargs)\n",
      "  File \"/home/lore/anaconda3/lib/python3.10/site-packages/requests_cache/session.py\", line 229, in _send_and_cache\n",
      "    response = super().send(request, **kwargs)\n",
      "  File \"/home/lore/anaconda3/lib/python3.10/site-packages/fastf1/req.py\", line 122, in send\n",
      "    lim.limit()\n",
      "  File \"/home/lore/anaconda3/lib/python3.10/site-packages/fastf1/req.py\", line 99, in limit\n",
      "    raise RateLimitExceededError(self._info)\n",
      "fastf1.req.RateLimitExceededError: ergast.com: 200 calls/h\n",
      "req            INFO \tNo cached data found for session_status_data. Loading data...\n",
      "_api           INFO \tFetching session status data...\n",
      "logger      WARNING \tFailed to load session status data!\n",
      "req            INFO \tNo cached data found for track_status_data. Loading data...\n",
      "_api           INFO \tFetching track status data...\n",
      "logger      WARNING \tFailed to load track status data!\n",
      "req            INFO \tNo cached data found for _extended_timing_data. Loading data...\n",
      "_api           INFO \tFetching timing data...\n",
      "logger      WARNING \tFailed to load timing data!\n",
      "req            INFO \tNo cached data found for car_data. Loading data...\n",
      "_api           INFO \tFetching car data...\n",
      "core        WARNING \tCar telemetry data is unavailable!\n",
      "req            INFO \tNo cached data found for position_data. Loading data...\n",
      "_api           INFO \tFetching position data...\n",
      "core        WARNING \tCar position data is unavailable!\n",
      "core        WARNING \tFailed to determine `Session.t0_date`!\n",
      "req            INFO \tNo cached data found for weather_data. Loading data...\n",
      "_api           INFO \tFetching weather data...\n",
      "logger      WARNING \tFailed to load weather data!\n",
      "req            INFO \tNo cached data found for race_control_messages. Loading data...\n",
      "_api           INFO \tFetching race control messages...\n",
      "logger      WARNING \tFailed to load race control messages!\n",
      "core           INFO \tFinished loading data for 20 drivers: ['1', '16', '55', '11', '31', '44', '14', '63', '5', '4', '3', '77', '22', '24', '47', '23', '10', '20', '18', '6']\n",
      "core           INFO \tLoading data for United States Grand Prix - Qualifying [v3.1.2]\n",
      "req            INFO \tNo cached data found for session_info. Loading data...\n",
      "_api           INFO \tFetching session info data...\n",
      "logger      WARNING \tFailed to load session info data!\n",
      "req            INFO \tNo cached data found for driver_info. Loading data...\n",
      "_api           INFO \tFetching driver list...\n"
     ]
    },
    {
     "name": "stdout",
     "output_type": "stream",
     "text": [
      "Error downloading data for year 2022: The data you are trying to access has not been loaded yet. See `Session.load`\n",
      "2022\n"
     ]
    },
    {
     "name": "stderr",
     "output_type": "stream",
     "text": [
      "core        WARNING \tFailed to load extended driver information!\n",
      "Request for URL https://ergast.com/api/f1/2022/19/qualifying.json failed; using cached response\n",
      "Traceback (most recent call last):\n",
      "  File \"/home/lore/anaconda3/lib/python3.10/site-packages/requests_cache/session.py\", line 255, in _resend\n",
      "    response = self._send_and_cache(request, actions, cached_response, **kwargs)\n",
      "  File \"/home/lore/anaconda3/lib/python3.10/site-packages/requests_cache/session.py\", line 229, in _send_and_cache\n",
      "    response = super().send(request, **kwargs)\n",
      "  File \"/home/lore/anaconda3/lib/python3.10/site-packages/fastf1/req.py\", line 122, in send\n",
      "    lim.limit()\n",
      "  File \"/home/lore/anaconda3/lib/python3.10/site-packages/fastf1/req.py\", line 99, in limit\n",
      "    raise RateLimitExceededError(self._info)\n",
      "fastf1.req.RateLimitExceededError: ergast.com: 200 calls/h\n",
      "req            INFO \tNo cached data found for session_status_data. Loading data...\n",
      "_api           INFO \tFetching session status data...\n",
      "logger      WARNING \tFailed to load session status data!\n",
      "req            INFO \tNo cached data found for track_status_data. Loading data...\n",
      "_api           INFO \tFetching track status data...\n",
      "logger      WARNING \tFailed to load track status data!\n",
      "req            INFO \tNo cached data found for _extended_timing_data. Loading data...\n",
      "_api           INFO \tFetching timing data...\n",
      "logger      WARNING \tFailed to load timing data!\n",
      "req            INFO \tNo cached data found for car_data. Loading data...\n",
      "_api           INFO \tFetching car data...\n",
      "core        WARNING \tCar telemetry data is unavailable!\n",
      "req            INFO \tNo cached data found for position_data. Loading data...\n",
      "_api           INFO \tFetching position data...\n",
      "core        WARNING \tCar position data is unavailable!\n",
      "core        WARNING \tFailed to determine `Session.t0_date`!\n",
      "req            INFO \tNo cached data found for weather_data. Loading data...\n",
      "_api           INFO \tFetching weather data...\n",
      "logger      WARNING \tFailed to load weather data!\n",
      "req            INFO \tNo cached data found for race_control_messages. Loading data...\n",
      "_api           INFO \tFetching race control messages...\n",
      "logger      WARNING \tFailed to load race control messages!\n",
      "core           INFO \tFinished loading data for 20 drivers: ['55', '16', '1', '11', '44', '63', '18', '4', '14', '77', '23', '5', '10', '24', '22', '20', '3', '31', '47', '6']\n",
      "core           INFO \tLoading data for Mexico City Grand Prix - Qualifying [v3.1.2]\n",
      "req            INFO \tNo cached data found for session_info. Loading data...\n",
      "_api           INFO \tFetching session info data...\n"
     ]
    },
    {
     "name": "stdout",
     "output_type": "stream",
     "text": [
      "Error downloading data for year 2022: The data you are trying to access has not been loaded yet. See `Session.load`\n",
      "2022\n"
     ]
    },
    {
     "name": "stderr",
     "output_type": "stream",
     "text": [
      "logger      WARNING \tFailed to load session info data!\n",
      "req            INFO \tNo cached data found for driver_info. Loading data...\n",
      "_api           INFO \tFetching driver list...\n",
      "core        WARNING \tFailed to load extended driver information!\n",
      "Request for URL https://ergast.com/api/f1/2022/20/qualifying.json failed; using cached response\n",
      "Traceback (most recent call last):\n",
      "  File \"/home/lore/anaconda3/lib/python3.10/site-packages/requests_cache/session.py\", line 255, in _resend\n",
      "    response = self._send_and_cache(request, actions, cached_response, **kwargs)\n",
      "  File \"/home/lore/anaconda3/lib/python3.10/site-packages/requests_cache/session.py\", line 229, in _send_and_cache\n",
      "    response = super().send(request, **kwargs)\n",
      "  File \"/home/lore/anaconda3/lib/python3.10/site-packages/fastf1/req.py\", line 122, in send\n",
      "    lim.limit()\n",
      "  File \"/home/lore/anaconda3/lib/python3.10/site-packages/fastf1/req.py\", line 99, in limit\n",
      "    raise RateLimitExceededError(self._info)\n",
      "fastf1.req.RateLimitExceededError: ergast.com: 200 calls/h\n",
      "req            INFO \tNo cached data found for session_status_data. Loading data...\n",
      "_api           INFO \tFetching session status data...\n",
      "logger      WARNING \tFailed to load session status data!\n",
      "req            INFO \tNo cached data found for track_status_data. Loading data...\n",
      "_api           INFO \tFetching track status data...\n",
      "logger      WARNING \tFailed to load track status data!\n",
      "req            INFO \tNo cached data found for _extended_timing_data. Loading data...\n",
      "_api           INFO \tFetching timing data...\n",
      "logger      WARNING \tFailed to load timing data!\n",
      "req            INFO \tNo cached data found for car_data. Loading data...\n",
      "_api           INFO \tFetching car data...\n",
      "core        WARNING \tCar telemetry data is unavailable!\n",
      "req            INFO \tNo cached data found for position_data. Loading data...\n",
      "_api           INFO \tFetching position data...\n",
      "core        WARNING \tCar position data is unavailable!\n",
      "core        WARNING \tFailed to determine `Session.t0_date`!\n",
      "req            INFO \tNo cached data found for weather_data. Loading data...\n",
      "_api           INFO \tFetching weather data...\n",
      "logger      WARNING \tFailed to load weather data!\n",
      "req            INFO \tNo cached data found for race_control_messages. Loading data...\n",
      "_api           INFO \tFetching race control messages...\n",
      "logger      WARNING \tFailed to load race control messages!\n",
      "core           INFO \tFinished loading data for 20 drivers: ['1', '63', '44', '11', '55', '77', '16', '4', '14', '31', '3', '24', '22', '10', '20', '47', '5', '18', '23', '6']\n",
      "core           INFO \tLoading data for São Paulo Grand Prix - Qualifying [v3.1.2]\n",
      "req            INFO \tNo cached data found for session_info. Loading data...\n",
      "_api           INFO \tFetching session info data...\n"
     ]
    },
    {
     "name": "stdout",
     "output_type": "stream",
     "text": [
      "Error downloading data for year 2022: The data you are trying to access has not been loaded yet. See `Session.load`\n",
      "2022\n"
     ]
    },
    {
     "name": "stderr",
     "output_type": "stream",
     "text": [
      "logger      WARNING \tFailed to load session info data!\n",
      "req            INFO \tNo cached data found for driver_info. Loading data...\n",
      "_api           INFO \tFetching driver list...\n",
      "core        WARNING \tFailed to load extended driver information!\n",
      "Request for URL https://ergast.com/api/f1/2022/21/qualifying.json failed; using cached response\n",
      "Traceback (most recent call last):\n",
      "  File \"/home/lore/anaconda3/lib/python3.10/site-packages/requests_cache/session.py\", line 255, in _resend\n",
      "    response = self._send_and_cache(request, actions, cached_response, **kwargs)\n",
      "  File \"/home/lore/anaconda3/lib/python3.10/site-packages/requests_cache/session.py\", line 229, in _send_and_cache\n",
      "    response = super().send(request, **kwargs)\n",
      "  File \"/home/lore/anaconda3/lib/python3.10/site-packages/fastf1/req.py\", line 122, in send\n",
      "    lim.limit()\n",
      "  File \"/home/lore/anaconda3/lib/python3.10/site-packages/fastf1/req.py\", line 99, in limit\n",
      "    raise RateLimitExceededError(self._info)\n",
      "fastf1.req.RateLimitExceededError: ergast.com: 200 calls/h\n",
      "req            INFO \tNo cached data found for session_status_data. Loading data...\n",
      "_api           INFO \tFetching session status data...\n",
      "logger      WARNING \tFailed to load session status data!\n",
      "req            INFO \tNo cached data found for track_status_data. Loading data...\n",
      "_api           INFO \tFetching track status data...\n",
      "logger      WARNING \tFailed to load track status data!\n",
      "req            INFO \tNo cached data found for _extended_timing_data. Loading data...\n",
      "_api           INFO \tFetching timing data...\n",
      "logger      WARNING \tFailed to load timing data!\n",
      "req            INFO \tNo cached data found for car_data. Loading data...\n",
      "_api           INFO \tFetching car data...\n",
      "core        WARNING \tCar telemetry data is unavailable!\n",
      "req            INFO \tNo cached data found for position_data. Loading data...\n",
      "_api           INFO \tFetching position data...\n",
      "core        WARNING \tCar position data is unavailable!\n",
      "core        WARNING \tFailed to determine `Session.t0_date`!\n",
      "req            INFO \tNo cached data found for weather_data. Loading data...\n",
      "_api           INFO \tFetching weather data...\n",
      "logger      WARNING \tFailed to load weather data!\n",
      "req            INFO \tNo cached data found for race_control_messages. Loading data...\n",
      "_api           INFO \tFetching race control messages...\n",
      "logger      WARNING \tFailed to load race control messages!\n",
      "core           INFO \tFinished loading data for 20 drivers: ['20', '1', '63', '4', '55', '31', '14', '44', '11', '16', '23', '10', '5', '3', '18', '6', '24', '77', '22', '47']\n",
      "core           INFO \tLoading data for Abu Dhabi Grand Prix - Qualifying [v3.1.2]\n",
      "req            INFO \tNo cached data found for session_info. Loading data...\n",
      "_api           INFO \tFetching session info data...\n"
     ]
    },
    {
     "name": "stdout",
     "output_type": "stream",
     "text": [
      "Error downloading data for year 2022: The data you are trying to access has not been loaded yet. See `Session.load`\n",
      "2022\n"
     ]
    },
    {
     "name": "stderr",
     "output_type": "stream",
     "text": [
      "logger      WARNING \tFailed to load session info data!\n",
      "req            INFO \tNo cached data found for driver_info. Loading data...\n",
      "_api           INFO \tFetching driver list...\n",
      "core        WARNING \tFailed to load extended driver information!\n",
      "Request for URL https://ergast.com/api/f1/2022/22/qualifying.json failed; using cached response\n",
      "Traceback (most recent call last):\n",
      "  File \"/home/lore/anaconda3/lib/python3.10/site-packages/requests_cache/session.py\", line 255, in _resend\n",
      "    response = self._send_and_cache(request, actions, cached_response, **kwargs)\n",
      "  File \"/home/lore/anaconda3/lib/python3.10/site-packages/requests_cache/session.py\", line 229, in _send_and_cache\n",
      "    response = super().send(request, **kwargs)\n",
      "  File \"/home/lore/anaconda3/lib/python3.10/site-packages/fastf1/req.py\", line 122, in send\n",
      "    lim.limit()\n",
      "  File \"/home/lore/anaconda3/lib/python3.10/site-packages/fastf1/req.py\", line 99, in limit\n",
      "    raise RateLimitExceededError(self._info)\n",
      "fastf1.req.RateLimitExceededError: ergast.com: 200 calls/h\n",
      "req            INFO \tNo cached data found for session_status_data. Loading data...\n",
      "_api           INFO \tFetching session status data...\n",
      "logger      WARNING \tFailed to load session status data!\n",
      "req            INFO \tNo cached data found for track_status_data. Loading data...\n",
      "_api           INFO \tFetching track status data...\n",
      "logger      WARNING \tFailed to load track status data!\n",
      "req            INFO \tNo cached data found for _extended_timing_data. Loading data...\n",
      "_api           INFO \tFetching timing data...\n",
      "logger      WARNING \tFailed to load timing data!\n",
      "req            INFO \tNo cached data found for car_data. Loading data...\n",
      "_api           INFO \tFetching car data...\n",
      "core        WARNING \tCar telemetry data is unavailable!\n",
      "req            INFO \tNo cached data found for position_data. Loading data...\n",
      "_api           INFO \tFetching position data...\n",
      "core        WARNING \tCar position data is unavailable!\n",
      "core        WARNING \tFailed to determine `Session.t0_date`!\n",
      "req            INFO \tNo cached data found for weather_data. Loading data...\n",
      "_api           INFO \tFetching weather data...\n",
      "logger      WARNING \tFailed to load weather data!\n",
      "req            INFO \tNo cached data found for race_control_messages. Loading data...\n",
      "_api           INFO \tFetching race control messages...\n",
      "logger      WARNING \tFailed to load race control messages!\n",
      "core           INFO \tFinished loading data for 20 drivers: ['1', '11', '16', '55', '44', '63', '4', '31', '5', '3', '14', '22', '47', '18', '24', '20', '10', '77', '23', '6']\n"
     ]
    },
    {
     "name": "stdout",
     "output_type": "stream",
     "text": [
      "Error downloading data for year 2022: The data you are trying to access has not been loaded yet. See `Session.load`\n",
      "2023\n"
     ]
    },
    {
     "name": "stderr",
     "output_type": "stream",
     "text": [
      "core           INFO \tLoading data for Bahrain Grand Prix - Qualifying [v3.1.2]\n",
      "req            INFO \tUsing cached data for session_info\n",
      "req            INFO \tUsing cached data for driver_info\n",
      "Request for URL https://ergast.com/api/f1/2023/1/qualifying.json failed; using cached response\n",
      "Traceback (most recent call last):\n",
      "  File \"/home/lore/anaconda3/lib/python3.10/site-packages/requests_cache/session.py\", line 255, in _resend\n",
      "    response = self._send_and_cache(request, actions, cached_response, **kwargs)\n",
      "  File \"/home/lore/anaconda3/lib/python3.10/site-packages/requests_cache/session.py\", line 229, in _send_and_cache\n",
      "    response = super().send(request, **kwargs)\n",
      "  File \"/home/lore/anaconda3/lib/python3.10/site-packages/fastf1/req.py\", line 122, in send\n",
      "    lim.limit()\n",
      "  File \"/home/lore/anaconda3/lib/python3.10/site-packages/fastf1/req.py\", line 99, in limit\n",
      "    raise RateLimitExceededError(self._info)\n",
      "fastf1.req.RateLimitExceededError: ergast.com: 200 calls/h\n",
      "req            INFO \tUsing cached data for session_status_data\n",
      "req            INFO \tUsing cached data for track_status_data\n",
      "req            INFO \tUsing cached data for _extended_timing_data\n",
      "req            INFO \tUsing cached data for timing_app_data\n",
      "core           INFO \tProcessing timing data...\n",
      "req            INFO \tUsing cached data for car_data\n",
      "req            INFO \tUsing cached data for position_data\n",
      "req            INFO \tUsing cached data for weather_data\n",
      "req            INFO \tUsing cached data for race_control_messages\n",
      "core           INFO \tFinished loading data for 20 drivers: ['1', '11', '16', '55', '14', '63', '44', '18', '31', '27', '4', '77', '24', '22', '23', '2', '20', '81', '21', '10']\n",
      "core           INFO \tLoading data for Bahrain Grand Prix - Qualifying [v3.1.2]\n",
      "req            INFO \tUsing cached data for session_info\n",
      "req            INFO \tUsing cached data for driver_info\n",
      "Request for URL https://ergast.com/api/f1/2023/1/qualifying.json failed; using cached response\n",
      "Traceback (most recent call last):\n",
      "  File \"/home/lore/anaconda3/lib/python3.10/site-packages/requests_cache/session.py\", line 255, in _resend\n",
      "    response = self._send_and_cache(request, actions, cached_response, **kwargs)\n",
      "  File \"/home/lore/anaconda3/lib/python3.10/site-packages/requests_cache/session.py\", line 229, in _send_and_cache\n",
      "    response = super().send(request, **kwargs)\n",
      "  File \"/home/lore/anaconda3/lib/python3.10/site-packages/fastf1/req.py\", line 122, in send\n",
      "    lim.limit()\n",
      "  File \"/home/lore/anaconda3/lib/python3.10/site-packages/fastf1/req.py\", line 99, in limit\n",
      "    raise RateLimitExceededError(self._info)\n",
      "fastf1.req.RateLimitExceededError: ergast.com: 200 calls/h\n",
      "req            INFO \tUsing cached data for session_status_data\n",
      "req            INFO \tUsing cached data for track_status_data\n",
      "req            INFO \tUsing cached data for _extended_timing_data\n",
      "req            INFO \tUsing cached data for timing_app_data\n",
      "core           INFO \tProcessing timing data...\n"
     ]
    },
    {
     "name": "stdout",
     "output_type": "stream",
     "text": [
      "2023\n"
     ]
    },
    {
     "name": "stderr",
     "output_type": "stream",
     "text": [
      "req            INFO \tUsing cached data for car_data\n",
      "req            INFO \tUsing cached data for position_data\n",
      "req            INFO \tUsing cached data for weather_data\n",
      "req            INFO \tUsing cached data for race_control_messages\n",
      "core           INFO \tFinished loading data for 20 drivers: ['1', '11', '16', '55', '14', '63', '44', '18', '31', '27', '4', '77', '24', '22', '23', '2', '20', '81', '21', '10']\n",
      "core           INFO \tLoading data for Saudi Arabian Grand Prix - Qualifying [v3.1.2]\n",
      "req            INFO \tUsing cached data for session_info\n",
      "req            INFO \tUsing cached data for driver_info\n",
      "Request for URL https://ergast.com/api/f1/2023/2/qualifying.json failed; using cached response\n",
      "Traceback (most recent call last):\n",
      "  File \"/home/lore/anaconda3/lib/python3.10/site-packages/requests_cache/session.py\", line 255, in _resend\n",
      "    response = self._send_and_cache(request, actions, cached_response, **kwargs)\n",
      "  File \"/home/lore/anaconda3/lib/python3.10/site-packages/requests_cache/session.py\", line 229, in _send_and_cache\n",
      "    response = super().send(request, **kwargs)\n",
      "  File \"/home/lore/anaconda3/lib/python3.10/site-packages/fastf1/req.py\", line 122, in send\n",
      "    lim.limit()\n",
      "  File \"/home/lore/anaconda3/lib/python3.10/site-packages/fastf1/req.py\", line 99, in limit\n",
      "    raise RateLimitExceededError(self._info)\n",
      "fastf1.req.RateLimitExceededError: ergast.com: 200 calls/h\n",
      "req            INFO \tUsing cached data for session_status_data\n",
      "req            INFO \tUsing cached data for track_status_data\n",
      "req            INFO \tUsing cached data for _extended_timing_data\n"
     ]
    },
    {
     "name": "stdout",
     "output_type": "stream",
     "text": [
      "2023\n"
     ]
    },
    {
     "name": "stderr",
     "output_type": "stream",
     "text": [
      "req            INFO \tUsing cached data for timing_app_data\n",
      "core           INFO \tProcessing timing data...\n",
      "req            INFO \tUsing cached data for car_data\n",
      "req            INFO \tUsing cached data for position_data\n",
      "req            INFO \tUsing cached data for weather_data\n",
      "req            INFO \tUsing cached data for race_control_messages\n",
      "core           INFO \tFinished loading data for 20 drivers: ['11', '16', '14', '63', '55', '18', '31', '44', '81', '10', '27', '24', '20', '77', '1', '22', '23', '21', '4', '2']\n",
      "core           INFO \tLoading data for Australian Grand Prix - Qualifying [v3.1.2]\n",
      "req            INFO \tUsing cached data for session_info\n",
      "req            INFO \tUsing cached data for driver_info\n",
      "Request for URL https://ergast.com/api/f1/2023/3/qualifying.json failed; using cached response\n",
      "Traceback (most recent call last):\n",
      "  File \"/home/lore/anaconda3/lib/python3.10/site-packages/requests_cache/session.py\", line 255, in _resend\n",
      "    response = self._send_and_cache(request, actions, cached_response, **kwargs)\n",
      "  File \"/home/lore/anaconda3/lib/python3.10/site-packages/requests_cache/session.py\", line 229, in _send_and_cache\n",
      "    response = super().send(request, **kwargs)\n",
      "  File \"/home/lore/anaconda3/lib/python3.10/site-packages/fastf1/req.py\", line 122, in send\n",
      "    lim.limit()\n",
      "  File \"/home/lore/anaconda3/lib/python3.10/site-packages/fastf1/req.py\", line 99, in limit\n",
      "    raise RateLimitExceededError(self._info)\n",
      "fastf1.req.RateLimitExceededError: ergast.com: 200 calls/h\n",
      "req            INFO \tUsing cached data for session_status_data\n",
      "req            INFO \tUsing cached data for track_status_data\n",
      "req            INFO \tUsing cached data for _extended_timing_data\n",
      "req            INFO \tUsing cached data for timing_app_data\n",
      "core           INFO \tProcessing timing data...\n"
     ]
    },
    {
     "name": "stdout",
     "output_type": "stream",
     "text": [
      "2023\n"
     ]
    },
    {
     "name": "stderr",
     "output_type": "stream",
     "text": [
      "req            INFO \tUsing cached data for car_data\n",
      "req            INFO \tUsing cached data for position_data\n",
      "req            INFO \tUsing cached data for weather_data\n",
      "req            INFO \tUsing cached data for race_control_messages\n",
      "core           INFO \tFinished loading data for 20 drivers: ['1', '63', '44', '14', '55', '18', '16', '23', '10', '27', '31', '22', '4', '20', '21', '81', '24', '2', '77', '11']\n",
      "core           INFO \tLoading data for Azerbaijan Grand Prix - Qualifying [v3.1.2]\n",
      "req            INFO \tUsing cached data for session_info\n",
      "req            INFO \tUsing cached data for driver_info\n",
      "Request for URL https://ergast.com/api/f1/2023/4/qualifying.json failed; using cached response\n",
      "Traceback (most recent call last):\n",
      "  File \"/home/lore/anaconda3/lib/python3.10/site-packages/requests_cache/session.py\", line 255, in _resend\n",
      "    response = self._send_and_cache(request, actions, cached_response, **kwargs)\n",
      "  File \"/home/lore/anaconda3/lib/python3.10/site-packages/requests_cache/session.py\", line 229, in _send_and_cache\n",
      "    response = super().send(request, **kwargs)\n",
      "  File \"/home/lore/anaconda3/lib/python3.10/site-packages/fastf1/req.py\", line 122, in send\n",
      "    lim.limit()\n",
      "  File \"/home/lore/anaconda3/lib/python3.10/site-packages/fastf1/req.py\", line 99, in limit\n",
      "    raise RateLimitExceededError(self._info)\n",
      "fastf1.req.RateLimitExceededError: ergast.com: 200 calls/h\n"
     ]
    },
    {
     "name": "stdout",
     "output_type": "stream",
     "text": [
      "2023\n"
     ]
    },
    {
     "name": "stderr",
     "output_type": "stream",
     "text": [
      "req            INFO \tUsing cached data for session_status_data\n",
      "req            INFO \tUsing cached data for track_status_data\n",
      "req            INFO \tUsing cached data for _extended_timing_data\n",
      "req            INFO \tUsing cached data for timing_app_data\n",
      "core           INFO \tProcessing timing data...\n",
      "req            INFO \tUsing cached data for car_data\n",
      "req            INFO \tUsing cached data for position_data\n",
      "req            INFO \tUsing cached data for weather_data\n",
      "req            INFO \tUsing cached data for race_control_messages\n",
      "core           INFO \tFinished loading data for 20 drivers: ['16', '1', '11', '55', '44', '14', '4', '22', '18', '81', '63', '31', '23', '77', '2', '24', '27', '20', '10', '21']\n",
      "core           INFO \tLoading data for Miami Grand Prix - Qualifying [v3.1.2]\n",
      "req            INFO \tUsing cached data for session_info\n",
      "req            INFO \tUsing cached data for driver_info\n",
      "Request for URL https://ergast.com/api/f1/2023/5/qualifying.json failed; using cached response\n",
      "Traceback (most recent call last):\n",
      "  File \"/home/lore/anaconda3/lib/python3.10/site-packages/requests_cache/session.py\", line 255, in _resend\n",
      "    response = self._send_and_cache(request, actions, cached_response, **kwargs)\n",
      "  File \"/home/lore/anaconda3/lib/python3.10/site-packages/requests_cache/session.py\", line 229, in _send_and_cache\n",
      "    response = super().send(request, **kwargs)\n",
      "  File \"/home/lore/anaconda3/lib/python3.10/site-packages/fastf1/req.py\", line 122, in send\n",
      "    lim.limit()\n",
      "  File \"/home/lore/anaconda3/lib/python3.10/site-packages/fastf1/req.py\", line 99, in limit\n",
      "    raise RateLimitExceededError(self._info)\n",
      "fastf1.req.RateLimitExceededError: ergast.com: 200 calls/h\n",
      "req            INFO \tUsing cached data for session_status_data\n",
      "req            INFO \tUsing cached data for track_status_data\n",
      "req            INFO \tUsing cached data for _extended_timing_data\n",
      "req            INFO \tUsing cached data for timing_app_data\n",
      "core           INFO \tProcessing timing data...\n"
     ]
    },
    {
     "name": "stdout",
     "output_type": "stream",
     "text": [
      "2023\n"
     ]
    },
    {
     "name": "stderr",
     "output_type": "stream",
     "text": [
      "req            INFO \tUsing cached data for car_data\n",
      "req            INFO \tUsing cached data for position_data\n",
      "req            INFO \tUsing cached data for weather_data\n",
      "req            INFO \tUsing cached data for race_control_messages\n",
      "core           INFO \tFinished loading data for 20 drivers: ['11', '14', '55', '20', '10', '63', '16', '31', '1', '77', '23', '27', '44', '24', '21', '4', '22', '18', '81', '2']\n",
      "core           INFO \tLoading data for Monaco Grand Prix - Qualifying [v3.1.2]\n",
      "req            INFO \tUsing cached data for session_info\n",
      "req            INFO \tUsing cached data for driver_info\n",
      "Request for URL https://ergast.com/api/f1/2023/6/qualifying.json failed; using cached response\n",
      "Traceback (most recent call last):\n",
      "  File \"/home/lore/anaconda3/lib/python3.10/site-packages/requests_cache/session.py\", line 255, in _resend\n",
      "    response = self._send_and_cache(request, actions, cached_response, **kwargs)\n",
      "  File \"/home/lore/anaconda3/lib/python3.10/site-packages/requests_cache/session.py\", line 229, in _send_and_cache\n",
      "    response = super().send(request, **kwargs)\n",
      "  File \"/home/lore/anaconda3/lib/python3.10/site-packages/fastf1/req.py\", line 122, in send\n",
      "    lim.limit()\n",
      "  File \"/home/lore/anaconda3/lib/python3.10/site-packages/fastf1/req.py\", line 99, in limit\n",
      "    raise RateLimitExceededError(self._info)\n",
      "fastf1.req.RateLimitExceededError: ergast.com: 200 calls/h\n",
      "req            INFO \tUsing cached data for session_status_data\n",
      "req            INFO \tUsing cached data for track_status_data\n",
      "req            INFO \tUsing cached data for _extended_timing_data\n",
      "req            INFO \tUsing cached data for timing_app_data\n",
      "core           INFO \tProcessing timing data...\n"
     ]
    },
    {
     "name": "stdout",
     "output_type": "stream",
     "text": [
      "2023\n"
     ]
    },
    {
     "name": "stderr",
     "output_type": "stream",
     "text": [
      "req            INFO \tUsing cached data for car_data\n",
      "req            INFO \tUsing cached data for position_data\n",
      "req            INFO \tUsing cached data for weather_data\n",
      "req            INFO \tUsing cached data for race_control_messages\n",
      "core           INFO \tFinished loading data for 20 drivers: ['1', '14', '16', '31', '55', '44', '10', '63', '22', '4', '81', '21', '23', '18', '77', '2', '20', '27', '24', '11']\n",
      "core           INFO \tLoading data for Spanish Grand Prix - Qualifying [v3.1.2]\n",
      "req            INFO \tUsing cached data for session_info\n",
      "req            INFO \tUsing cached data for driver_info\n",
      "Request for URL https://ergast.com/api/f1/2023/7/qualifying.json failed; using cached response\n",
      "Traceback (most recent call last):\n",
      "  File \"/home/lore/anaconda3/lib/python3.10/site-packages/requests_cache/session.py\", line 255, in _resend\n",
      "    response = self._send_and_cache(request, actions, cached_response, **kwargs)\n",
      "  File \"/home/lore/anaconda3/lib/python3.10/site-packages/requests_cache/session.py\", line 229, in _send_and_cache\n",
      "    response = super().send(request, **kwargs)\n",
      "  File \"/home/lore/anaconda3/lib/python3.10/site-packages/fastf1/req.py\", line 122, in send\n",
      "    lim.limit()\n",
      "  File \"/home/lore/anaconda3/lib/python3.10/site-packages/fastf1/req.py\", line 99, in limit\n",
      "    raise RateLimitExceededError(self._info)\n",
      "fastf1.req.RateLimitExceededError: ergast.com: 200 calls/h\n",
      "req            INFO \tUsing cached data for session_status_data\n",
      "req            INFO \tUsing cached data for track_status_data\n",
      "req            INFO \tUsing cached data for _extended_timing_data\n",
      "req            INFO \tUsing cached data for timing_app_data\n",
      "core           INFO \tProcessing timing data...\n"
     ]
    },
    {
     "name": "stdout",
     "output_type": "stream",
     "text": [
      "2023\n"
     ]
    },
    {
     "name": "stderr",
     "output_type": "stream",
     "text": [
      "req            INFO \tUsing cached data for car_data\n",
      "req            INFO \tUsing cached data for position_data\n",
      "req            INFO \tUsing cached data for weather_data\n",
      "req            INFO \tUsing cached data for race_control_messages\n",
      "core           INFO \tFinished loading data for 20 drivers: ['1', '55', '4', '10', '44', '18', '31', '27', '14', '81', '11', '63', '24', '21', '22', '77', '20', '23', '16', '2']\n",
      "core           INFO \tLoading data for Canadian Grand Prix - Qualifying [v3.1.2]\n",
      "req            INFO \tUsing cached data for session_info\n",
      "req            INFO \tUsing cached data for driver_info\n",
      "Request for URL https://ergast.com/api/f1/2023/8/qualifying.json failed; using cached response\n",
      "Traceback (most recent call last):\n",
      "  File \"/home/lore/anaconda3/lib/python3.10/site-packages/requests_cache/session.py\", line 255, in _resend\n",
      "    response = self._send_and_cache(request, actions, cached_response, **kwargs)\n",
      "  File \"/home/lore/anaconda3/lib/python3.10/site-packages/requests_cache/session.py\", line 229, in _send_and_cache\n",
      "    response = super().send(request, **kwargs)\n",
      "  File \"/home/lore/anaconda3/lib/python3.10/site-packages/fastf1/req.py\", line 122, in send\n",
      "    lim.limit()\n",
      "  File \"/home/lore/anaconda3/lib/python3.10/site-packages/fastf1/req.py\", line 99, in limit\n",
      "    raise RateLimitExceededError(self._info)\n",
      "fastf1.req.RateLimitExceededError: ergast.com: 200 calls/h\n",
      "req            INFO \tUsing cached data for session_status_data\n",
      "req            INFO \tUsing cached data for track_status_data\n",
      "req            INFO \tUsing cached data for _extended_timing_data\n",
      "req            INFO \tUsing cached data for timing_app_data\n",
      "core           INFO \tProcessing timing data...\n"
     ]
    },
    {
     "name": "stdout",
     "output_type": "stream",
     "text": [
      "2023\n"
     ]
    },
    {
     "name": "stderr",
     "output_type": "stream",
     "text": [
      "req            INFO \tUsing cached data for car_data\n",
      "req            INFO \tUsing cached data for position_data\n",
      "req            INFO \tUsing cached data for weather_data\n",
      "req            INFO \tUsing cached data for race_control_messages\n",
      "core           INFO \tFinished loading data for 20 drivers: ['1', '27', '14', '44', '63', '31', '4', '55', '81', '23', '16', '11', '18', '20', '77', '22', '10', '21', '2', '24']\n",
      "core           INFO \tLoading data for Austrian Grand Prix - Qualifying [v3.1.2]\n",
      "req            INFO \tUsing cached data for session_info\n",
      "req            INFO \tUsing cached data for driver_info\n",
      "Request for URL https://ergast.com/api/f1/2023/9/qualifying.json failed; using cached response\n",
      "Traceback (most recent call last):\n",
      "  File \"/home/lore/anaconda3/lib/python3.10/site-packages/requests_cache/session.py\", line 255, in _resend\n",
      "    response = self._send_and_cache(request, actions, cached_response, **kwargs)\n",
      "  File \"/home/lore/anaconda3/lib/python3.10/site-packages/requests_cache/session.py\", line 229, in _send_and_cache\n",
      "    response = super().send(request, **kwargs)\n",
      "  File \"/home/lore/anaconda3/lib/python3.10/site-packages/fastf1/req.py\", line 122, in send\n",
      "    lim.limit()\n",
      "  File \"/home/lore/anaconda3/lib/python3.10/site-packages/fastf1/req.py\", line 99, in limit\n",
      "    raise RateLimitExceededError(self._info)\n",
      "fastf1.req.RateLimitExceededError: ergast.com: 200 calls/h\n",
      "req            INFO \tUsing cached data for session_status_data\n",
      "req            INFO \tUsing cached data for track_status_data\n",
      "req            INFO \tUsing cached data for _extended_timing_data\n",
      "req            INFO \tUsing cached data for timing_app_data\n",
      "core           INFO \tProcessing timing data...\n"
     ]
    },
    {
     "name": "stdout",
     "output_type": "stream",
     "text": [
      "2023\n"
     ]
    },
    {
     "name": "stderr",
     "output_type": "stream",
     "text": [
      "req            INFO \tUsing cached data for car_data\n",
      "req            INFO \tUsing cached data for position_data\n",
      "req            INFO \tUsing cached data for weather_data\n",
      "req            INFO \tUsing cached data for race_control_messages\n",
      "core           INFO \tFinished loading data for 20 drivers: ['1', '16', '55', '4', '44', '18', '14', '27', '10', '23', '63', '31', '81', '77', '11', '22', '24', '2', '20', '21']\n",
      "core           INFO \tLoading data for British Grand Prix - Qualifying [v3.1.2]\n",
      "req            INFO \tUsing cached data for session_info\n",
      "req            INFO \tUsing cached data for driver_info\n",
      "Request for URL https://ergast.com/api/f1/2023/10/qualifying.json failed; using cached response\n",
      "Traceback (most recent call last):\n",
      "  File \"/home/lore/anaconda3/lib/python3.10/site-packages/requests_cache/session.py\", line 255, in _resend\n",
      "    response = self._send_and_cache(request, actions, cached_response, **kwargs)\n",
      "  File \"/home/lore/anaconda3/lib/python3.10/site-packages/requests_cache/session.py\", line 229, in _send_and_cache\n",
      "    response = super().send(request, **kwargs)\n",
      "  File \"/home/lore/anaconda3/lib/python3.10/site-packages/fastf1/req.py\", line 122, in send\n",
      "    lim.limit()\n",
      "  File \"/home/lore/anaconda3/lib/python3.10/site-packages/fastf1/req.py\", line 99, in limit\n",
      "    raise RateLimitExceededError(self._info)\n",
      "fastf1.req.RateLimitExceededError: ergast.com: 200 calls/h\n",
      "req            INFO \tUsing cached data for session_status_data\n",
      "req            INFO \tUsing cached data for track_status_data\n",
      "req            INFO \tUsing cached data for _extended_timing_data\n",
      "req            INFO \tUsing cached data for timing_app_data\n",
      "core           INFO \tProcessing timing data...\n"
     ]
    },
    {
     "name": "stdout",
     "output_type": "stream",
     "text": [
      "2023\n"
     ]
    },
    {
     "name": "stderr",
     "output_type": "stream",
     "text": [
      "req            INFO \tUsing cached data for car_data\n",
      "req            INFO \tUsing cached data for position_data\n",
      "req            INFO \tUsing cached data for weather_data\n",
      "req            INFO \tUsing cached data for race_control_messages\n",
      "core           INFO \tFinished loading data for 20 drivers: ['1', '4', '81', '16', '55', '63', '44', '23', '14', '10', '27', '18', '31', '2', '77', '11', '22', '24', '21', '20']\n",
      "core           INFO \tLoading data for Hungarian Grand Prix - Qualifying [v3.1.2]\n",
      "req            INFO \tUsing cached data for session_info\n",
      "req            INFO \tUsing cached data for driver_info\n",
      "Request for URL https://ergast.com/api/f1/2023/11/qualifying.json failed; using cached response\n",
      "Traceback (most recent call last):\n",
      "  File \"/home/lore/anaconda3/lib/python3.10/site-packages/requests_cache/session.py\", line 255, in _resend\n",
      "    response = self._send_and_cache(request, actions, cached_response, **kwargs)\n",
      "  File \"/home/lore/anaconda3/lib/python3.10/site-packages/requests_cache/session.py\", line 229, in _send_and_cache\n",
      "    response = super().send(request, **kwargs)\n",
      "  File \"/home/lore/anaconda3/lib/python3.10/site-packages/fastf1/req.py\", line 122, in send\n",
      "    lim.limit()\n",
      "  File \"/home/lore/anaconda3/lib/python3.10/site-packages/fastf1/req.py\", line 99, in limit\n",
      "    raise RateLimitExceededError(self._info)\n",
      "fastf1.req.RateLimitExceededError: ergast.com: 200 calls/h\n",
      "req            INFO \tUsing cached data for session_status_data\n",
      "req            INFO \tUsing cached data for track_status_data\n",
      "req            INFO \tUsing cached data for _extended_timing_data\n",
      "req            INFO \tUsing cached data for timing_app_data\n",
      "core           INFO \tProcessing timing data...\n"
     ]
    },
    {
     "name": "stdout",
     "output_type": "stream",
     "text": [
      "2023\n"
     ]
    },
    {
     "name": "stderr",
     "output_type": "stream",
     "text": [
      "req            INFO \tUsing cached data for car_data\n",
      "req            INFO \tUsing cached data for position_data\n",
      "req            INFO \tUsing cached data for weather_data\n",
      "req            INFO \tUsing cached data for race_control_messages\n",
      "core           INFO \tFinished loading data for 20 drivers: ['44', '1', '4', '81', '24', '16', '77', '14', '11', '27', '55', '31', '3', '18', '10', '23', '22', '63', '20', '2']\n",
      "core           INFO \tLoading data for Belgian Grand Prix - Qualifying [v3.1.2]\n",
      "req            INFO \tUsing cached data for session_info\n",
      "req            INFO \tUsing cached data for driver_info\n",
      "Request for URL https://ergast.com/api/f1/2023/12/qualifying.json failed; using cached response\n",
      "Traceback (most recent call last):\n",
      "  File \"/home/lore/anaconda3/lib/python3.10/site-packages/requests_cache/session.py\", line 255, in _resend\n",
      "    response = self._send_and_cache(request, actions, cached_response, **kwargs)\n",
      "  File \"/home/lore/anaconda3/lib/python3.10/site-packages/requests_cache/session.py\", line 229, in _send_and_cache\n",
      "    response = super().send(request, **kwargs)\n",
      "  File \"/home/lore/anaconda3/lib/python3.10/site-packages/fastf1/req.py\", line 122, in send\n",
      "    lim.limit()\n",
      "  File \"/home/lore/anaconda3/lib/python3.10/site-packages/fastf1/req.py\", line 99, in limit\n",
      "    raise RateLimitExceededError(self._info)\n",
      "fastf1.req.RateLimitExceededError: ergast.com: 200 calls/h\n",
      "req            INFO \tUsing cached data for session_status_data\n",
      "req            INFO \tUsing cached data for track_status_data\n",
      "req            INFO \tUsing cached data for _extended_timing_data\n",
      "req            INFO \tUsing cached data for timing_app_data\n",
      "core           INFO \tProcessing timing data...\n"
     ]
    },
    {
     "name": "stdout",
     "output_type": "stream",
     "text": [
      "2023\n"
     ]
    },
    {
     "name": "stderr",
     "output_type": "stream",
     "text": [
      "req            INFO \tUsing cached data for car_data\n",
      "req            INFO \tUsing cached data for position_data\n",
      "req            INFO \tUsing cached data for weather_data\n",
      "req            INFO \tUsing cached data for race_control_messages\n",
      "core           INFO \tFinished loading data for 20 drivers: ['1', '16', '11', '44', '55', '81', '4', '63', '14', '18', '22', '10', '20', '77', '31', '23', '24', '2', '3', '27']\n",
      "core           INFO \tLoading data for Dutch Grand Prix - Qualifying [v3.1.2]\n",
      "req            INFO \tUsing cached data for session_info\n",
      "req            INFO \tUsing cached data for driver_info\n",
      "Request for URL https://ergast.com/api/f1/2023/13/qualifying.json failed; using cached response\n",
      "Traceback (most recent call last):\n",
      "  File \"/home/lore/anaconda3/lib/python3.10/site-packages/requests_cache/session.py\", line 255, in _resend\n",
      "    response = self._send_and_cache(request, actions, cached_response, **kwargs)\n",
      "  File \"/home/lore/anaconda3/lib/python3.10/site-packages/requests_cache/session.py\", line 229, in _send_and_cache\n",
      "    response = super().send(request, **kwargs)\n",
      "  File \"/home/lore/anaconda3/lib/python3.10/site-packages/fastf1/req.py\", line 122, in send\n",
      "    lim.limit()\n",
      "  File \"/home/lore/anaconda3/lib/python3.10/site-packages/fastf1/req.py\", line 99, in limit\n",
      "    raise RateLimitExceededError(self._info)\n",
      "fastf1.req.RateLimitExceededError: ergast.com: 200 calls/h\n",
      "req            INFO \tUsing cached data for session_status_data\n",
      "req            INFO \tUsing cached data for track_status_data\n",
      "req            INFO \tUsing cached data for _extended_timing_data\n",
      "req            INFO \tUsing cached data for timing_app_data\n",
      "core           INFO \tProcessing timing data...\n"
     ]
    },
    {
     "name": "stdout",
     "output_type": "stream",
     "text": [
      "2023\n"
     ]
    },
    {
     "name": "stderr",
     "output_type": "stream",
     "text": [
      "req            INFO \tUsing cached data for car_data\n",
      "req            INFO \tUsing cached data for position_data\n",
      "req            INFO \tUsing cached data for weather_data\n",
      "req            INFO \tUsing cached data for race_control_messages\n",
      "core           INFO \tFinished loading data for 20 drivers: ['1', '4', '63', '23', '14', '55', '11', '81', '16', '2', '18', '10', '44', '22', '27', '24', '31', '20', '77', '40']\n",
      "core           INFO \tLoading data for Italian Grand Prix - Qualifying [v3.1.2]\n",
      "req            INFO \tUsing cached data for session_info\n",
      "req            INFO \tUsing cached data for driver_info\n",
      "Request for URL https://ergast.com/api/f1/2023/14/qualifying.json failed; using cached response\n",
      "Traceback (most recent call last):\n",
      "  File \"/home/lore/anaconda3/lib/python3.10/site-packages/requests_cache/session.py\", line 255, in _resend\n",
      "    response = self._send_and_cache(request, actions, cached_response, **kwargs)\n",
      "  File \"/home/lore/anaconda3/lib/python3.10/site-packages/requests_cache/session.py\", line 229, in _send_and_cache\n",
      "    response = super().send(request, **kwargs)\n",
      "  File \"/home/lore/anaconda3/lib/python3.10/site-packages/fastf1/req.py\", line 122, in send\n",
      "    lim.limit()\n",
      "  File \"/home/lore/anaconda3/lib/python3.10/site-packages/fastf1/req.py\", line 99, in limit\n",
      "    raise RateLimitExceededError(self._info)\n",
      "fastf1.req.RateLimitExceededError: ergast.com: 200 calls/h\n",
      "req            INFO \tUsing cached data for session_status_data\n",
      "req            INFO \tUsing cached data for track_status_data\n",
      "req            INFO \tUsing cached data for _extended_timing_data\n",
      "req            INFO \tUsing cached data for timing_app_data\n",
      "core           INFO \tProcessing timing data...\n"
     ]
    },
    {
     "name": "stdout",
     "output_type": "stream",
     "text": [
      "2023\n"
     ]
    },
    {
     "name": "stderr",
     "output_type": "stream",
     "text": [
      "req            INFO \tUsing cached data for car_data\n",
      "req            INFO \tUsing cached data for position_data\n",
      "req            INFO \tUsing cached data for weather_data\n",
      "req            INFO \tUsing cached data for race_control_messages\n",
      "core           INFO \tFinished loading data for 20 drivers: ['55', '1', '16', '63', '11', '23', '81', '44', '4', '14', '22', '40', '27', '77', '2', '24', '10', '31', '20', '18']\n",
      "core           INFO \tLoading data for Singapore Grand Prix - Qualifying [v3.1.2]\n",
      "req            INFO \tUsing cached data for session_info\n",
      "req            INFO \tUsing cached data for driver_info\n",
      "Request for URL https://ergast.com/api/f1/2023/15/qualifying.json failed; using cached response\n",
      "Traceback (most recent call last):\n",
      "  File \"/home/lore/anaconda3/lib/python3.10/site-packages/requests_cache/session.py\", line 255, in _resend\n",
      "    response = self._send_and_cache(request, actions, cached_response, **kwargs)\n",
      "  File \"/home/lore/anaconda3/lib/python3.10/site-packages/requests_cache/session.py\", line 229, in _send_and_cache\n",
      "    response = super().send(request, **kwargs)\n",
      "  File \"/home/lore/anaconda3/lib/python3.10/site-packages/fastf1/req.py\", line 122, in send\n",
      "    lim.limit()\n",
      "  File \"/home/lore/anaconda3/lib/python3.10/site-packages/fastf1/req.py\", line 99, in limit\n",
      "    raise RateLimitExceededError(self._info)\n",
      "fastf1.req.RateLimitExceededError: ergast.com: 200 calls/h\n",
      "req            INFO \tUsing cached data for session_status_data\n",
      "req            INFO \tUsing cached data for track_status_data\n",
      "req            INFO \tUsing cached data for _extended_timing_data\n",
      "req            INFO \tUsing cached data for timing_app_data\n",
      "core           INFO \tProcessing timing data...\n"
     ]
    },
    {
     "name": "stdout",
     "output_type": "stream",
     "text": [
      "2023\n"
     ]
    },
    {
     "name": "stderr",
     "output_type": "stream",
     "text": [
      "req            INFO \tUsing cached data for car_data\n",
      "req            INFO \tUsing cached data for position_data\n",
      "req            INFO \tUsing cached data for weather_data\n",
      "req            INFO \tUsing cached data for race_control_messages\n",
      "core           INFO \tFinished loading data for 20 drivers: ['55', '63', '16', '4', '44', '20', '14', '31', '27', '40', '1', '10', '11', '23', '22', '77', '81', '2', '24', '18']\n",
      "core           INFO \tLoading data for Japanese Grand Prix - Qualifying [v3.1.2]\n",
      "req            INFO \tUsing cached data for session_info\n",
      "req            INFO \tUsing cached data for driver_info\n",
      "Request for URL https://ergast.com/api/f1/2023/16/qualifying.json failed; using cached response\n",
      "Traceback (most recent call last):\n",
      "  File \"/home/lore/anaconda3/lib/python3.10/site-packages/requests_cache/session.py\", line 255, in _resend\n",
      "    response = self._send_and_cache(request, actions, cached_response, **kwargs)\n",
      "  File \"/home/lore/anaconda3/lib/python3.10/site-packages/requests_cache/session.py\", line 229, in _send_and_cache\n",
      "    response = super().send(request, **kwargs)\n",
      "  File \"/home/lore/anaconda3/lib/python3.10/site-packages/fastf1/req.py\", line 122, in send\n",
      "    lim.limit()\n",
      "  File \"/home/lore/anaconda3/lib/python3.10/site-packages/fastf1/req.py\", line 99, in limit\n",
      "    raise RateLimitExceededError(self._info)\n",
      "fastf1.req.RateLimitExceededError: ergast.com: 200 calls/h\n",
      "req            INFO \tUsing cached data for session_status_data\n",
      "req            INFO \tUsing cached data for track_status_data\n",
      "req            INFO \tUsing cached data for _extended_timing_data\n",
      "req            INFO \tUsing cached data for timing_app_data\n",
      "core           INFO \tProcessing timing data...\n"
     ]
    },
    {
     "name": "stdout",
     "output_type": "stream",
     "text": [
      "2023\n"
     ]
    },
    {
     "name": "stderr",
     "output_type": "stream",
     "text": [
      "req            INFO \tUsing cached data for car_data\n",
      "req            INFO \tUsing cached data for position_data\n",
      "req            INFO \tUsing cached data for weather_data\n",
      "req            INFO \tUsing cached data for race_control_messages\n",
      "core           INFO \tFinished loading data for 20 drivers: ['1', '81', '4', '16', '11', '55', '44', '63', '22', '14', '40', '10', '23', '31', '20', '77', '18', '27', '24', '2']\n",
      "core           INFO \tLoading data for Qatar Grand Prix - Qualifying [v3.1.2]\n",
      "req            INFO \tUsing cached data for session_info\n",
      "req            INFO \tUsing cached data for driver_info\n",
      "Request for URL https://ergast.com/api/f1/2023/17/qualifying.json failed; using cached response\n",
      "Traceback (most recent call last):\n",
      "  File \"/home/lore/anaconda3/lib/python3.10/site-packages/requests_cache/session.py\", line 255, in _resend\n",
      "    response = self._send_and_cache(request, actions, cached_response, **kwargs)\n",
      "  File \"/home/lore/anaconda3/lib/python3.10/site-packages/requests_cache/session.py\", line 229, in _send_and_cache\n",
      "    response = super().send(request, **kwargs)\n",
      "  File \"/home/lore/anaconda3/lib/python3.10/site-packages/fastf1/req.py\", line 122, in send\n",
      "    lim.limit()\n",
      "  File \"/home/lore/anaconda3/lib/python3.10/site-packages/fastf1/req.py\", line 99, in limit\n",
      "    raise RateLimitExceededError(self._info)\n",
      "fastf1.req.RateLimitExceededError: ergast.com: 200 calls/h\n",
      "req            INFO \tUsing cached data for session_status_data\n",
      "req            INFO \tUsing cached data for track_status_data\n",
      "req            INFO \tUsing cached data for _extended_timing_data\n",
      "req            INFO \tUsing cached data for timing_app_data\n",
      "core           INFO \tProcessing timing data...\n"
     ]
    },
    {
     "name": "stdout",
     "output_type": "stream",
     "text": [
      "2023\n"
     ]
    },
    {
     "name": "stderr",
     "output_type": "stream",
     "text": [
      "req            INFO \tUsing cached data for car_data\n",
      "req            INFO \tUsing cached data for position_data\n",
      "req            INFO \tUsing cached data for weather_data\n",
      "req            INFO \tUsing cached data for race_control_messages\n",
      "core           INFO \tFinished loading data for 20 drivers: ['1', '63', '44', '14', '16', '81', '10', '31', '77', '4', '22', '55', '11', '23', '27', '2', '18', '40', '20', '24']\n",
      "core           INFO \tLoading data for United States Grand Prix - Qualifying [v3.1.2]\n",
      "req            INFO \tUsing cached data for session_info\n",
      "req            INFO \tUsing cached data for driver_info\n",
      "Request for URL https://ergast.com/api/f1/2023/18/qualifying.json failed; using cached response\n",
      "Traceback (most recent call last):\n",
      "  File \"/home/lore/anaconda3/lib/python3.10/site-packages/requests_cache/session.py\", line 255, in _resend\n",
      "    response = self._send_and_cache(request, actions, cached_response, **kwargs)\n",
      "  File \"/home/lore/anaconda3/lib/python3.10/site-packages/requests_cache/session.py\", line 229, in _send_and_cache\n",
      "    response = super().send(request, **kwargs)\n",
      "  File \"/home/lore/anaconda3/lib/python3.10/site-packages/fastf1/req.py\", line 122, in send\n",
      "    lim.limit()\n",
      "  File \"/home/lore/anaconda3/lib/python3.10/site-packages/fastf1/req.py\", line 99, in limit\n",
      "    raise RateLimitExceededError(self._info)\n",
      "fastf1.req.RateLimitExceededError: ergast.com: 200 calls/h\n",
      "req            INFO \tUsing cached data for session_status_data\n",
      "req            INFO \tUsing cached data for track_status_data\n",
      "req            INFO \tUsing cached data for _extended_timing_data\n",
      "req            INFO \tUsing cached data for timing_app_data\n",
      "core           INFO \tProcessing timing data...\n"
     ]
    },
    {
     "name": "stdout",
     "output_type": "stream",
     "text": [
      "2023\n"
     ]
    },
    {
     "name": "stderr",
     "output_type": "stream",
     "text": [
      "req            INFO \tUsing cached data for car_data\n",
      "req            INFO \tUsing cached data for position_data\n",
      "req            INFO \tUsing cached data for weather_data\n",
      "req            INFO \tUsing cached data for race_control_messages\n",
      "core           INFO \tFinished loading data for 20 drivers: ['16', '4', '44', '55', '63', '1', '10', '31', '11', '81', '22', '24', '77', '20', '3', '27', '14', '23', '18', '2']\n",
      "core           INFO \tLoading data for Mexico City Grand Prix - Qualifying [v3.1.2]\n",
      "req            INFO \tUsing cached data for session_info\n",
      "req            INFO \tUsing cached data for driver_info\n",
      "Request for URL https://ergast.com/api/f1/2023/19/qualifying.json failed; using cached response\n",
      "Traceback (most recent call last):\n",
      "  File \"/home/lore/anaconda3/lib/python3.10/site-packages/requests_cache/session.py\", line 255, in _resend\n",
      "    response = self._send_and_cache(request, actions, cached_response, **kwargs)\n",
      "  File \"/home/lore/anaconda3/lib/python3.10/site-packages/requests_cache/session.py\", line 229, in _send_and_cache\n",
      "    response = super().send(request, **kwargs)\n",
      "  File \"/home/lore/anaconda3/lib/python3.10/site-packages/fastf1/req.py\", line 122, in send\n",
      "    lim.limit()\n",
      "  File \"/home/lore/anaconda3/lib/python3.10/site-packages/fastf1/req.py\", line 99, in limit\n",
      "    raise RateLimitExceededError(self._info)\n",
      "fastf1.req.RateLimitExceededError: ergast.com: 200 calls/h\n",
      "req            INFO \tUsing cached data for session_status_data\n",
      "req            INFO \tUsing cached data for track_status_data\n",
      "req            INFO \tUsing cached data for _extended_timing_data\n",
      "req            INFO \tUsing cached data for timing_app_data\n",
      "core           INFO \tProcessing timing data...\n"
     ]
    },
    {
     "name": "stdout",
     "output_type": "stream",
     "text": [
      "2023\n"
     ]
    },
    {
     "name": "stderr",
     "output_type": "stream",
     "text": [
      "req            INFO \tUsing cached data for car_data\n",
      "req            INFO \tUsing cached data for position_data\n",
      "req            INFO \tUsing cached data for weather_data\n",
      "req            INFO \tUsing cached data for race_control_messages\n",
      "core           INFO \tFinished loading data for 20 drivers: ['16', '55', '1', '3', '11', '44', '81', '63', '77', '24', '10', '27', '14', '23', '22', '31', '20', '18', '4', '2']\n",
      "core           INFO \tLoading data for São Paulo Grand Prix - Qualifying [v3.1.2]\n",
      "req            INFO \tUsing cached data for session_info\n",
      "req            INFO \tUsing cached data for driver_info\n",
      "Request for URL https://ergast.com/api/f1/2023/20/qualifying.json failed; using cached response\n",
      "Traceback (most recent call last):\n",
      "  File \"/home/lore/anaconda3/lib/python3.10/site-packages/requests_cache/session.py\", line 255, in _resend\n",
      "    response = self._send_and_cache(request, actions, cached_response, **kwargs)\n",
      "  File \"/home/lore/anaconda3/lib/python3.10/site-packages/requests_cache/session.py\", line 229, in _send_and_cache\n",
      "    response = super().send(request, **kwargs)\n",
      "  File \"/home/lore/anaconda3/lib/python3.10/site-packages/fastf1/req.py\", line 122, in send\n",
      "    lim.limit()\n",
      "  File \"/home/lore/anaconda3/lib/python3.10/site-packages/fastf1/req.py\", line 99, in limit\n",
      "    raise RateLimitExceededError(self._info)\n",
      "fastf1.req.RateLimitExceededError: ergast.com: 200 calls/h\n",
      "req            INFO \tUsing cached data for session_status_data\n",
      "req            INFO \tUsing cached data for track_status_data\n",
      "req            INFO \tUsing cached data for _extended_timing_data\n",
      "req            INFO \tUsing cached data for timing_app_data\n",
      "core           INFO \tProcessing timing data...\n"
     ]
    },
    {
     "name": "stdout",
     "output_type": "stream",
     "text": [
      "2023\n"
     ]
    },
    {
     "name": "stderr",
     "output_type": "stream",
     "text": [
      "req            INFO \tUsing cached data for car_data\n",
      "req            INFO \tUsing cached data for position_data\n",
      "req            INFO \tUsing cached data for weather_data\n",
      "req            INFO \tUsing cached data for race_control_messages\n",
      "core           INFO \tFinished loading data for 20 drivers: ['1', '16', '18', '14', '44', '63', '4', '55', '11', '81', '27', '31', '10', '20', '23', '22', '3', '77', '2', '24']\n",
      "core           INFO \tLoading data for Las Vegas Grand Prix - Qualifying [v3.1.2]\n",
      "req            INFO \tUsing cached data for session_info\n",
      "req            INFO \tUsing cached data for driver_info\n",
      "Request for URL https://ergast.com/api/f1/2023/21/qualifying.json failed; using cached response\n",
      "Traceback (most recent call last):\n",
      "  File \"/home/lore/anaconda3/lib/python3.10/site-packages/requests_cache/session.py\", line 255, in _resend\n",
      "    response = self._send_and_cache(request, actions, cached_response, **kwargs)\n",
      "  File \"/home/lore/anaconda3/lib/python3.10/site-packages/requests_cache/session.py\", line 229, in _send_and_cache\n",
      "    response = super().send(request, **kwargs)\n",
      "  File \"/home/lore/anaconda3/lib/python3.10/site-packages/fastf1/req.py\", line 122, in send\n",
      "    lim.limit()\n",
      "  File \"/home/lore/anaconda3/lib/python3.10/site-packages/fastf1/req.py\", line 99, in limit\n",
      "    raise RateLimitExceededError(self._info)\n",
      "fastf1.req.RateLimitExceededError: ergast.com: 200 calls/h\n",
      "req            INFO \tUsing cached data for session_status_data\n",
      "req            INFO \tUsing cached data for track_status_data\n",
      "req            INFO \tUsing cached data for _extended_timing_data\n",
      "req            INFO \tUsing cached data for timing_app_data\n",
      "core           INFO \tProcessing timing data...\n"
     ]
    },
    {
     "name": "stdout",
     "output_type": "stream",
     "text": [
      "2023\n"
     ]
    },
    {
     "name": "stderr",
     "output_type": "stream",
     "text": [
      "req            INFO \tUsing cached data for car_data\n",
      "req            INFO \tUsing cached data for position_data\n",
      "req            INFO \tUsing cached data for weather_data\n",
      "req            INFO \tUsing cached data for race_control_messages\n",
      "core           INFO \tFinished loading data for 20 drivers: ['16', '55', '1', '63', '10', '23', '2', '77', '20', '14', '44', '11', '27', '18', '3', '4', '31', '24', '81', '22']\n",
      "core           INFO \tLoading data for Abu Dhabi Grand Prix - Qualifying [v3.1.2]\n",
      "req            INFO \tUsing cached data for session_info\n",
      "req            INFO \tUsing cached data for driver_info\n",
      "Request for URL https://ergast.com/api/f1/2023/22/qualifying.json failed; using cached response\n",
      "Traceback (most recent call last):\n",
      "  File \"/home/lore/anaconda3/lib/python3.10/site-packages/requests_cache/session.py\", line 255, in _resend\n",
      "    response = self._send_and_cache(request, actions, cached_response, **kwargs)\n",
      "  File \"/home/lore/anaconda3/lib/python3.10/site-packages/requests_cache/session.py\", line 229, in _send_and_cache\n",
      "    response = super().send(request, **kwargs)\n",
      "  File \"/home/lore/anaconda3/lib/python3.10/site-packages/fastf1/req.py\", line 122, in send\n",
      "    lim.limit()\n",
      "  File \"/home/lore/anaconda3/lib/python3.10/site-packages/fastf1/req.py\", line 99, in limit\n",
      "    raise RateLimitExceededError(self._info)\n",
      "fastf1.req.RateLimitExceededError: ergast.com: 200 calls/h\n",
      "req            INFO \tUsing cached data for session_status_data\n",
      "req            INFO \tUsing cached data for track_status_data\n",
      "req            INFO \tUsing cached data for _extended_timing_data\n",
      "req            INFO \tUsing cached data for timing_app_data\n",
      "core           INFO \tProcessing timing data...\n"
     ]
    },
    {
     "name": "stdout",
     "output_type": "stream",
     "text": [
      "2023\n"
     ]
    },
    {
     "name": "stderr",
     "output_type": "stream",
     "text": [
      "req            INFO \tUsing cached data for car_data\n",
      "req            INFO \tUsing cached data for position_data\n",
      "req            INFO \tUsing cached data for weather_data\n",
      "req            INFO \tUsing cached data for race_control_messages\n",
      "core           INFO \tFinished loading data for 20 drivers: ['1', '16', '81', '63', '4', '22', '14', '27', '11', '10', '44', '31', '18', '23', '3', '55', '20', '77', '24', '2']\n"
     ]
    }
   ],
   "source": [
    "data=[]\n",
    "for year in range(2018, 2024):\n",
    "    \n",
    "        schedule = fastf1.get_event_schedule(year)\n",
    "\n",
    "        for location in schedule['Location']:\n",
    "\n",
    "            print(year)\n",
    "\n",
    "            try: \n",
    "                session = fastf1.get_session(year, location, 'Q')\n",
    "                session.load()\n",
    "            \n",
    "                fastest_lap = session.laps.pick_fastest()  \n",
    "\n",
    "                data.append({\n",
    "                    'Pole Time': fastest_lap['LapTime'],\n",
    "                    'Track': location,\n",
    "                    'Year': year,\n",
    "                    'Air Temperature': fastest_lap.get_weather_data()['TrackTemp']\n",
    "                })\n",
    "\n",
    "            except Exception as e:\n",
    "                print(f\"Error downloading data for year {year}: {e}\")    \n",
    "            \n",
    "df = pd.DataFrame(data)\n",
    "\n",
    "df.to_csv('pole_times_dataset.csv', index=False)"
   ]
  },
  {
   "cell_type": "code",
   "execution_count": 27,
   "metadata": {},
   "outputs": [
    {
     "name": "stdout",
     "output_type": "stream",
     "text": [
      "   Pole Time      Track  Year  Air Temperature\n",
      "0     81.164  Melbourne  2018             28.9\n",
      "1     87.958     Sakhir  2018             31.5\n",
      "2     91.095   Shanghai  2018             15.2\n",
      "3    101.498       Baku  2018             26.0\n",
      "4     76.173  Barcelona  2018             26.5\n"
     ]
    }
   ],
   "source": [
    "df = pd.read_csv('pole_times_dataset.csv')\n",
    "df['Pole Time'] = pd.to_timedelta(df['Pole Time']).dt.total_seconds() #convert lap times in seconds\n",
    "print(df.head())"
   ]
  },
  {
   "cell_type": "code",
   "execution_count": 28,
   "metadata": {},
   "outputs": [
    {
     "name": "stdout",
     "output_type": "stream",
     "text": [
      "['Melbourne' 'Sakhir' 'Shanghai' 'Baku' 'Barcelona' 'Monte Carlo'\n",
      " 'Montréal' 'Le Castellet' 'Spielberg' 'Silverstone' 'Hockenheim'\n",
      " 'Budapest' 'Spa-Francorchamps' 'Monza' 'Singapore' 'Sochi' 'Suzuka'\n",
      " 'Austin' 'Mexico City' 'São Paulo' 'Yas Marina' 'Yas Island' 'Mugello'\n",
      " 'Nürburgring' 'Portimão' 'Imola' 'Istanbul' 'Bahrain' 'Zandvoort'\n",
      " 'Lusail' 'Jeddah' 'Miami' 'Monaco' 'Marina Bay' 'Las Vegas']\n"
     ]
    }
   ],
   "source": [
    "print(df['Track'].unique())"
   ]
  },
  {
   "cell_type": "code",
   "execution_count": 29,
   "metadata": {},
   "outputs": [],
   "source": [
    "df.loc[df['Track'] == 'Monte Carlo', 'Track'] = 'Monaco'\n",
    "interesting_circuits = {'Sakhir', 'Barcelona', 'Monaco', 'Spielberg', 'Silverstone', 'Budapest', 'Spa-Francorchamps', 'Monza', 'São Paulo'}\n",
    "df = df[df['Track'].isin(interesting_circuits)]"
   ]
  },
  {
   "cell_type": "code",
   "execution_count": 30,
   "metadata": {},
   "outputs": [
    {
     "name": "stdout",
     "output_type": "stream",
     "text": [
      "   Pole Time  Air Temperature  Track_Barcelona  Track_Budapest  Track_Monaco  \\\n",
      "1     87.958             31.5            False           False         False   \n",
      "4     76.173             26.5             True           False         False   \n",
      "5     70.810             47.7            False           False          True   \n",
      "8     63.130             31.5            False           False         False   \n",
      "9     85.892             52.9            False           False         False   \n",
      "\n",
      "   Track_Monza  Track_Sakhir  Track_Silverstone  Track_Spa-Francorchamps  \\\n",
      "1        False          True              False                    False   \n",
      "4        False         False              False                    False   \n",
      "5        False         False              False                    False   \n",
      "8        False         False              False                    False   \n",
      "9        False         False               True                    False   \n",
      "\n",
      "   Track_Spielberg  Track_São Paulo  Year_2018  Year_2019  Year_2020  \\\n",
      "1            False            False       True      False      False   \n",
      "4            False            False       True      False      False   \n",
      "5            False            False       True      False      False   \n",
      "8             True            False       True      False      False   \n",
      "9            False            False       True      False      False   \n",
      "\n",
      "   Year_2021  Year_2023  \n",
      "1      False      False  \n",
      "4      False      False  \n",
      "5      False      False  \n",
      "8      False      False  \n",
      "9      False      False  \n"
     ]
    }
   ],
   "source": [
    "df = pd.get_dummies(df, columns = ['Track', 'Year'])\n",
    "print(df.head())"
   ]
  },
  {
   "cell_type": "code",
   "execution_count": 31,
   "metadata": {},
   "outputs": [],
   "source": [
    "df.to_csv('cleaned_pole_times_dataset.csv', index=False)"
   ]
  }
 ],
 "metadata": {
  "kernelspec": {
   "display_name": "base",
   "language": "python",
   "name": "python3"
  },
  "language_info": {
   "codemirror_mode": {
    "name": "ipython",
    "version": 3
   },
   "file_extension": ".py",
   "mimetype": "text/x-python",
   "name": "python",
   "nbconvert_exporter": "python",
   "pygments_lexer": "ipython3",
   "version": "3.10.9"
  }
 },
 "nbformat": 4,
 "nbformat_minor": 2
}
